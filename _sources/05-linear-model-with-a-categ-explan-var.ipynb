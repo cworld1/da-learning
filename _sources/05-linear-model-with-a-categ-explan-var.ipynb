{
 "cells": [
  {
   "attachments": {},
   "cell_type": "markdown",
   "metadata": {},
   "source": [
    "# Linear models with a categorical (factor) explanatory variable\n",
    "\n",
    "本节需要的包：\n"
   ]
  },
  {
   "cell_type": "code",
   "execution_count": 14,
   "metadata": {
    "tags": [
     "hide-output"
    ],
    "vscode": {
     "languageId": "r"
    }
   },
   "outputs": [],
   "source": [
    "require(s20x)\n"
   ]
  },
  {
   "attachments": {},
   "cell_type": "markdown",
   "metadata": {},
   "source": [
    "## Using categorical variables as explanatory variables by using indicator variables\n",
    "\n",
    "使用指标变量将分类变量用作解释变量\n"
   ]
  },
  {
   "cell_type": "code",
   "execution_count": 15,
   "metadata": {
    "vscode": {
     "languageId": "r"
    }
   },
   "outputs": [
    {
     "data": {
      "text/html": [
       "<style>\n",
       ".list-inline {list-style: none; margin:0; padding: 0}\n",
       ".list-inline>li {display: inline-block}\n",
       ".list-inline>li:not(:last-child)::after {content: \"\\00b7\"; padding: 0 .5ex}\n",
       "</style>\n",
       "<ol class=list-inline><li>Yes</li><li>Yes</li><li>Yes</li><li>Yes</li><li>No</li><li>Yes</li><li>Yes</li><li>No</li><li>Yes</li><li>Yes</li><li>No</li><li>Yes</li><li>No</li><li>No</li><li>No</li><li>Yes</li><li>Yes</li><li>No</li><li>Yes</li><li>Yes</li></ol>\n",
       "\n",
       "<details>\n",
       "\t<summary style=display:list-item;cursor:pointer>\n",
       "\t\t<strong>Levels</strong>:\n",
       "\t</summary>\n",
       "\t<style>\n",
       "\t.list-inline {list-style: none; margin:0; padding: 0}\n",
       "\t.list-inline>li {display: inline-block}\n",
       "\t.list-inline>li:not(:last-child)::after {content: \"\\00b7\"; padding: 0 .5ex}\n",
       "\t</style>\n",
       "\t<ol class=list-inline><li>'No'</li><li>'Yes'</li></ol>\n",
       "</details>"
      ],
      "text/latex": [
       "\\begin{enumerate*}\n",
       "\\item Yes\n",
       "\\item Yes\n",
       "\\item Yes\n",
       "\\item Yes\n",
       "\\item No\n",
       "\\item Yes\n",
       "\\item Yes\n",
       "\\item No\n",
       "\\item Yes\n",
       "\\item Yes\n",
       "\\item No\n",
       "\\item Yes\n",
       "\\item No\n",
       "\\item No\n",
       "\\item No\n",
       "\\item Yes\n",
       "\\item Yes\n",
       "\\item No\n",
       "\\item Yes\n",
       "\\item Yes\n",
       "\\end{enumerate*}\n",
       "\n",
       "\\emph{Levels}: \\begin{enumerate*}\n",
       "\\item 'No'\n",
       "\\item 'Yes'\n",
       "\\end{enumerate*}\n"
      ],
      "text/markdown": [
       "1. Yes\n",
       "2. Yes\n",
       "3. Yes\n",
       "4. Yes\n",
       "5. No\n",
       "6. Yes\n",
       "7. Yes\n",
       "8. No\n",
       "9. Yes\n",
       "10. Yes\n",
       "11. No\n",
       "12. Yes\n",
       "13. No\n",
       "14. No\n",
       "15. No\n",
       "16. Yes\n",
       "17. Yes\n",
       "18. No\n",
       "19. Yes\n",
       "20. Yes\n",
       "\n",
       "\n",
       "\n",
       "**Levels**: 1. 'No'\n",
       "2. 'Yes'\n",
       "\n",
       "\n"
      ],
      "text/plain": [
       " [1] Yes Yes Yes Yes No  Yes Yes No  Yes Yes No  Yes No  No  No  Yes Yes No  Yes\n",
       "[20] Yes\n",
       "Levels: No Yes"
      ]
     },
     "metadata": {},
     "output_type": "display_data"
    }
   ],
   "source": [
    "library(s20x)\n",
    "## Importing data into R\n",
    "Stats20x.df <- read.table(\"../data/STATS20x.txt\", header = T)\n",
    "## Change Attend from a character variable to a factor variable\n",
    "Stats20x.df$Attend <- as.factor(Stats20x.df$Attend)\n",
    "## Examine the data\n",
    "Stats20x.df$Attend[1:20]\n"
   ]
  },
  {
   "attachments": {},
   "cell_type": "markdown",
   "metadata": {},
   "source": [
    "简要分析数据集，确保有你需要的可能的关系：\n"
   ]
  },
  {
   "cell_type": "code",
   "execution_count": 16,
   "metadata": {
    "vscode": {
     "languageId": "r"
    }
   },
   "outputs": [
    {
     "name": "stdout",
     "output_type": "stream",
     "text": [
      "    Sample Size     Mean Median  Std Dev Midspread\n",
      "No           46 42.21739   40.5 16.34206     20.50\n",
      "Yes         100 57.78000   58.0 17.67757     28.25\n"
     ]
    },
    {
     "data": {
      "image/png": "[encoded data removed]",
      "text/plain": [
       "plot without title"
      ]
     },
     "metadata": {
      "image/png": {
       "height": 420,
       "width": 420
      }
     },
     "output_type": "display_data"
    }
   ],
   "source": [
    "summaryStats(Stats20x.df$Exam, Stats20x.df$Attend)\n",
    "plot(Exam ~ Attend, data = Stats20x.df)\n"
   ]
  },
  {
   "attachments": {},
   "cell_type": "markdown",
   "metadata": {},
   "source": [
    "缺勤的确会让学生成绩变低，在数据分布上的确有一定的关系。\n",
    "\n",
    "为了在后面进行更好的分析，我们将缺勤的 Yes 和 No 转换为 1 和 0：\n"
   ]
  },
  {
   "cell_type": "code",
   "execution_count": 17,
   "metadata": {
    "vscode": {
     "languageId": "r"
    }
   },
   "outputs": [
    {
     "data": {
      "text/plain": [
       "      Attend2\n",
       "Attend   0   1\n",
       "   No   46   0\n",
       "   Yes   0 100"
      ]
     },
     "metadata": {},
     "output_type": "display_data"
    }
   ],
   "source": [
    "# Make a new variable Attend2 which is 1 if Attend = \"Yes\" and 0 otherwise\n",
    "\n",
    "# Note how we use two equal signs, ==, to test equality\n",
    "Stats20x.df$Attend2 <- as.numeric(Stats20x.df$Attend == \"Yes\")\n",
    "with(Stats20x.df, table(Attend, Attend2))\n"
   ]
  },
  {
   "cell_type": "code",
   "execution_count": 18,
   "metadata": {
    "vscode": {
     "languageId": "r"
    }
   },
   "outputs": [
    {
     "data": {
      "image/png": "[encoded data removed]",
      "text/plain": [
       "Plot with title \"Plot of Exam vs. Attend2   (lowess+/-sd)\""
      ]
     },
     "metadata": {
      "image/png": {
       "height": 420,
       "width": 420
      }
     },
     "output_type": "display_data"
    }
   ],
   "source": [
    "trendscatter(Exam ~ Attend2, data = Stats20x.df)\n"
   ]
  },
  {
   "attachments": {},
   "cell_type": "markdown",
   "metadata": {},
   "source": [
    "The linear model for the expected value of is\n",
    "\n",
    "$$\n",
    "E[Exam|Attend2] = \\beta_0 + \\beta_1 Attend2\n",
    "$$\n",
    "\n",
    "其中 $\\beta_0$ 是截距，即所有缺勤的均值；$\\beta_1$ 是考试成绩和缺勤的关系，由缺勤和出勤的成绩关系共同决定。\n"
   ]
  },
  {
   "cell_type": "code",
   "execution_count": 19,
   "metadata": {
    "vscode": {
     "languageId": "r"
    }
   },
   "outputs": [
    {
     "data": {
      "text/plain": [
       "\n",
       "Call:\n",
       "lm(formula = Exam ~ Attend2, data = Stats20x.df)\n",
       "\n",
       "Residuals:\n",
       "    Min      1Q  Median      3Q     Max \n",
       "-46.780 -13.108  -0.217  12.642  46.783 \n",
       "\n",
       "Coefficients:\n",
       "            Estimate Std. Error t value Pr(>|t|)    \n",
       "(Intercept)   42.217      2.547  16.578  < 2e-16 ***\n",
       "Attend2       15.563      3.077   5.058 1.27e-06 ***\n",
       "---\n",
       "Signif. codes:  0 '***' 0.001 '**' 0.01 '*' 0.05 '.' 0.1 ' ' 1\n",
       "\n",
       "Residual standard error: 17.27 on 144 degrees of freedom\n",
       "Multiple R-squared:  0.1508,\tAdjusted R-squared:  0.145 \n",
       "F-statistic: 25.58 on 1 and 144 DF,  p-value: 1.271e-06\n"
      ]
     },
     "metadata": {},
     "output_type": "display_data"
    }
   ],
   "source": [
    "examattend2.fit <- lm(Exam ~ Attend2, data = Stats20x.df)\n",
    "summary(examattend2.fit)\n"
   ]
  },
  {
   "attachments": {},
   "cell_type": "markdown",
   "metadata": {},
   "source": [
    "上述拟合代表 x 为 Attend2（0 和 1） 时，y 的期望值，即考试成绩的期望值。\n",
    "\n",
    "但注意事实上，直接使用 lm() 函数进行拟合，也能得出正确的结果，因为 lm() 函数会自动将分类变量转换为指标变量（AttendYes）：\n"
   ]
  },
  {
   "cell_type": "code",
   "execution_count": 20,
   "metadata": {
    "vscode": {
     "languageId": "r"
    }
   },
   "outputs": [
    {
     "data": {
      "text/plain": [
       "\n",
       "Call:\n",
       "lm(formula = Exam ~ Attend, data = Stats20x.df)\n",
       "\n",
       "Residuals:\n",
       "    Min      1Q  Median      3Q     Max \n",
       "-46.780 -13.108  -0.217  12.642  46.783 \n",
       "\n",
       "Coefficients:\n",
       "            Estimate Std. Error t value Pr(>|t|)    \n",
       "(Intercept)   42.217      2.547  16.578  < 2e-16 ***\n",
       "AttendYes     15.563      3.077   5.058 1.27e-06 ***\n",
       "---\n",
       "Signif. codes:  0 '***' 0.001 '**' 0.01 '*' 0.05 '.' 0.1 ' ' 1\n",
       "\n",
       "Residual standard error: 17.27 on 144 degrees of freedom\n",
       "Multiple R-squared:  0.1508,\tAdjusted R-squared:  0.145 \n",
       "F-statistic: 25.58 on 1 and 144 DF,  p-value: 1.271e-06\n"
      ]
     },
     "metadata": {},
     "output_type": "display_data"
    }
   ],
   "source": [
    "examattend.fit <- lm(Exam ~ Attend, data = Stats20x.df)\n",
    "summary(examattend.fit)\n"
   ]
  },
  {
   "attachments": {},
   "cell_type": "markdown",
   "metadata": {},
   "source": [
    "让我们将拟合模型可视化。在这里，我们将使用虚拟变量拟合我们的模型得到的\"最佳\"估计直线绘制出来。\n"
   ]
  },
  {
   "cell_type": "code",
   "execution_count": 21,
   "metadata": {
    "vscode": {
     "languageId": "r"
    }
   },
   "outputs": [
    {
     "data": {
      "image/png": "[encoded data removed]",
      "text/plain": [
       "plot without title"
      ]
     },
     "metadata": {
      "image/png": {
       "height": 420,
       "width": 420
      }
     },
     "output_type": "display_data"
    }
   ],
   "source": [
    "plot(Exam ~ Attend2, data = Stats20x.df)\n",
    "## Add the lm estimated line to this plot where a=intercept, b=slope\n",
    "abline(coef(examattend.fit), lty = 2, col = \"blue\")\n"
   ]
  },
  {
   "attachments": {},
   "cell_type": "markdown",
   "metadata": {},
   "source": [
    "模型建立好了，接下来就是我们经典的模型检验三步走了：\n",
    "\n",
    "1. 残差均值接近于 0\n",
    "2. 残差满足正态分布\n",
    "3. 没有或排除了异常点\n"
   ]
  },
  {
   "cell_type": "code",
   "execution_count": 22,
   "metadata": {
    "vscode": {
     "languageId": "r"
    }
   },
   "outputs": [
    {
     "data": {
      "image/png": "[encoded data removed]",
      "text/plain": [
       "Plot with title \"\""
      ]
     },
     "metadata": {
      "image/png": {
       "height": 420,
       "width": 420
      }
     },
     "output_type": "display_data"
    },
    {
     "data": {
      "image/png": "[encoded data removed]",
      "text/plain": [
       "Plot with title \"\""
      ]
     },
     "metadata": {
      "image/png": {
       "height": 420,
       "width": 420
      }
     },
     "output_type": "display_data"
    },
    {
     "data": {
      "image/png": "[encoded data removed]",
      "text/plain": [
       "Plot with title \"Cook's Distance plot\""
      ]
     },
     "metadata": {
      "image/png": {
       "height": 420,
       "width": 420
      }
     },
     "output_type": "display_data"
    }
   ],
   "source": [
    "plot(examattend.fit, which = 1)\n",
    "normcheck(examattend.fit)\n",
    "cooks20x(examattend.fit)\n"
   ]
  },
  {
   "cell_type": "code",
   "execution_count": 23,
   "metadata": {
    "vscode": {
     "languageId": "r"
    }
   },
   "outputs": [
    {
     "data": {
      "text/html": [
       "<table class=\"dataframe\">\n",
       "<caption>A matrix: 2 × 3 of type dbl</caption>\n",
       "<thead>\n",
       "\t<tr><th></th><th scope=col>fit</th><th scope=col>lwr</th><th scope=col>upr</th></tr>\n",
       "</thead>\n",
       "<tbody>\n",
       "\t<tr><th scope=row>1</th><td>42.21739</td><td>37.18401</td><td>47.25077</td></tr>\n",
       "\t<tr><th scope=row>2</th><td>57.78000</td><td>54.36619</td><td>61.19381</td></tr>\n",
       "</tbody>\n",
       "</table>\n"
      ],
      "text/latex": [
       "A matrix: 2 × 3 of type dbl\n",
       "\\begin{tabular}{r|lll}\n",
       "  & fit & lwr & upr\\\\\n",
       "\\hline\n",
       "\t1 & 42.21739 & 37.18401 & 47.25077\\\\\n",
       "\t2 & 57.78000 & 54.36619 & 61.19381\\\\\n",
       "\\end{tabular}\n"
      ],
      "text/markdown": [
       "\n",
       "A matrix: 2 × 3 of type dbl\n",
       "\n",
       "| <!--/--> | fit | lwr | upr |\n",
       "|---|---|---|---|\n",
       "| 1 | 42.21739 | 37.18401 | 47.25077 |\n",
       "| 2 | 57.78000 | 54.36619 | 61.19381 |\n",
       "\n"
      ],
      "text/plain": [
       "  fit      lwr      upr     \n",
       "1 42.21739 37.18401 47.25077\n",
       "2 57.78000 54.36619 61.19381"
      ]
     },
     "metadata": {},
     "output_type": "display_data"
    },
    {
     "data": {
      "text/html": [
       "<table class=\"dataframe\">\n",
       "<caption>A matrix: 2 × 3 of type dbl</caption>\n",
       "<thead>\n",
       "\t<tr><th></th><th scope=col>fit</th><th scope=col>lwr</th><th scope=col>upr</th></tr>\n",
       "</thead>\n",
       "<tbody>\n",
       "\t<tr><th scope=row>1</th><td>42.21739</td><td> 7.710259</td><td>76.72452</td></tr>\n",
       "\t<tr><th scope=row>2</th><td>57.78000</td><td>23.471673</td><td>92.08833</td></tr>\n",
       "</tbody>\n",
       "</table>\n"
      ],
      "text/latex": [
       "A matrix: 2 × 3 of type dbl\n",
       "\\begin{tabular}{r|lll}\n",
       "  & fit & lwr & upr\\\\\n",
       "\\hline\n",
       "\t1 & 42.21739 &  7.710259 & 76.72452\\\\\n",
       "\t2 & 57.78000 & 23.471673 & 92.08833\\\\\n",
       "\\end{tabular}\n"
      ],
      "text/markdown": [
       "\n",
       "A matrix: 2 × 3 of type dbl\n",
       "\n",
       "| <!--/--> | fit | lwr | upr |\n",
       "|---|---|---|---|\n",
       "| 1 | 42.21739 |  7.710259 | 76.72452 |\n",
       "| 2 | 57.78000 | 23.471673 | 92.08833 |\n",
       "\n"
      ],
      "text/plain": [
       "  fit      lwr       upr     \n",
       "1 42.21739  7.710259 76.72452\n",
       "2 57.78000 23.471673 92.08833"
      ]
     },
     "metadata": {},
     "output_type": "display_data"
    }
   ],
   "source": [
    "## Create data frame of values of interest: Attend==\"Yes\" and \"No\"\n",
    "## Make sure that the names of vars are exactly the same as in the data frame\n",
    "preds.df <- data.frame(Attend = c(\"No\", \"Yes\"))\n",
    "predict(examattend.fit, preds.df, interval = \"confidence\")\n",
    "predict(examattend.fit, preds.df, interval = \"prediction\")\n"
   ]
  },
  {
   "attachments": {},
   "cell_type": "markdown",
   "metadata": {},
   "source": [
    "再次强调：“confidence”是代表均值预测范围，而“prediction”是代表个体预测范围。\n"
   ]
  }
 ],
 "metadata": {
  "kernelspec": {
   "display_name": "R",
   "language": "R",
   "name": "ir"
  },
  "language_info": {
   "codemirror_mode": "r",
   "file_extension": ".r",
   "mimetype": "text/x-r-source",
   "name": "R",
   "pygments_lexer": "r",
   "version": "4.2.2"
  },
  "orig_nbformat": 4
 },
 "nbformat": 4,
 "nbformat_minor": 2
}
