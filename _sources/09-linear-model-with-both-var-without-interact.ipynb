{
 "cells": [
  {
   "attachments": {},
   "cell_type": "markdown",
   "metadata": {},
   "source": [
    "# Linear models with both numeric and factor explanatory variables without interaction\n",
    "\n",
    "本节需要的包：\n"
   ]
  },
  {
   "cell_type": "code",
   "execution_count": 2,
   "metadata": {
    "tags": [
     "hide-output"
    ],
    "vscode": {
     "languageId": "r"
    }
   },
   "outputs": [
    {
     "name": "stderr",
     "output_type": "stream",
     "text": [
      "载入需要的程辑包：s20x\n",
      "\n",
      "Warning message:\n",
      "\"程辑包's20x'是用R版本4.2.3 来建造的\"\n"
     ]
    }
   ],
   "source": [
    "require(s20x)\n"
   ]
  },
  {
   "attachments": {},
   "cell_type": "markdown",
   "metadata": {},
   "source": [
    "## Using both IQ and teaching method to explain increase in language proficiency\n",
    "\n",
    "在以下示例中，教育专家对三种不同的教学方法中哪一种最有效地提高语言成绩感兴趣——这是通过智商测量的。为了做到这一点，30名学生被随机分配到三个组中，并使用不同的教学方法进行教学。每个学生的智商在教学计划开始之前进行了测量。这种随机化是为了确保每个组中都代表了一定范围的学生能力。由于学生处于测试环境中，我们可以假设他们的测试成绩互相独立。\n",
    "\n",
    "As usual, we begin by inspecting the data:"
   ]
  },
  {
   "cell_type": "code",
   "execution_count": 3,
   "metadata": {
    "vscode": {
     "languageId": "r"
    }
   },
   "outputs": [
    {
     "data": {
      "image/png": "[encoded data removed]",
      "text/plain": [
       "Plot with title \"Plot of Language score vs. IQ   (lowess+/-sd)\""
      ]
     },
     "metadata": {
      "image/png": {
       "height": 420,
       "width": 420
      }
     },
     "output_type": "display_data"
    }
   ],
   "source": [
    "## Invoke the s20x library\n",
    "library(s20x)\n",
    "## Importing data found in the s20x library into R\n",
    "data(teach.df)\n",
    "## Plot the data with trendscatter()\n",
    "trendscatter(lang ~ IQ,\n",
    "    f = 0.8, ylim = c(40, 110),\n",
    "    data = teach.df,\n",
    "    ylab = \"Language score\"\n",
    ")\n",
    "## Note that f is the proportion of points in the plot which influence the\n",
    "## smooth at each value. Larger values of f give more smoothness!\n"
   ]
  },
  {
   "attachments": {},
   "cell_type": "markdown",
   "metadata": {},
   "source": [
    "嗯，智商与语言成绩呈正相关，但统计显著性并不明显。一个显示教学方法的图表可能更有用。\n",
    "\n",
    "In dataframe `teach.df` the `method` is recorded as a number, 1, 2 or 3:\n"
   ]
  },
  {
   "cell_type": "code",
   "execution_count": 4,
   "metadata": {
    "vscode": {
     "languageId": "r"
    }
   },
   "outputs": [
    {
     "data": {
      "text/html": [
       "<style>\n",
       ".list-inline {list-style: none; margin:0; padding: 0}\n",
       ".list-inline>li {display: inline-block}\n",
       ".list-inline>li:not(:last-child)::after {content: \"\\00b7\"; padding: 0 .5ex}\n",
       "</style>\n",
       "<ol class=list-inline><li>1</li><li>1</li><li>1</li><li>1</li><li>1</li><li>1</li><li>1</li><li>1</li><li>1</li><li>1</li><li>2</li><li>2</li><li>2</li><li>2</li><li>2</li><li>2</li><li>2</li><li>2</li><li>2</li><li>2</li><li>3</li><li>3</li><li>3</li><li>3</li><li>3</li><li>3</li><li>3</li><li>3</li><li>3</li><li>3</li></ol>\n"
      ],
      "text/latex": [
       "\\begin{enumerate*}\n",
       "\\item 1\n",
       "\\item 1\n",
       "\\item 1\n",
       "\\item 1\n",
       "\\item 1\n",
       "\\item 1\n",
       "\\item 1\n",
       "\\item 1\n",
       "\\item 1\n",
       "\\item 1\n",
       "\\item 2\n",
       "\\item 2\n",
       "\\item 2\n",
       "\\item 2\n",
       "\\item 2\n",
       "\\item 2\n",
       "\\item 2\n",
       "\\item 2\n",
       "\\item 2\n",
       "\\item 2\n",
       "\\item 3\n",
       "\\item 3\n",
       "\\item 3\n",
       "\\item 3\n",
       "\\item 3\n",
       "\\item 3\n",
       "\\item 3\n",
       "\\item 3\n",
       "\\item 3\n",
       "\\item 3\n",
       "\\end{enumerate*}\n"
      ],
      "text/markdown": [
       "1. 1\n",
       "2. 1\n",
       "3. 1\n",
       "4. 1\n",
       "5. 1\n",
       "6. 1\n",
       "7. 1\n",
       "8. 1\n",
       "9. 1\n",
       "10. 1\n",
       "11. 2\n",
       "12. 2\n",
       "13. 2\n",
       "14. 2\n",
       "15. 2\n",
       "16. 2\n",
       "17. 2\n",
       "18. 2\n",
       "19. 2\n",
       "20. 2\n",
       "21. 3\n",
       "22. 3\n",
       "23. 3\n",
       "24. 3\n",
       "25. 3\n",
       "26. 3\n",
       "27. 3\n",
       "28. 3\n",
       "29. 3\n",
       "30. 3\n",
       "\n",
       "\n"
      ],
      "text/plain": [
       " [1] 1 1 1 1 1 1 1 1 1 1 2 2 2 2 2 2 2 2 2 2 3 3 3 3 3 3 3 3 3 3"
      ]
     },
     "metadata": {},
     "output_type": "display_data"
    },
    {
     "data": {
      "text/html": [
       "'integer'"
      ],
      "text/latex": [
       "'integer'"
      ],
      "text/markdown": [
       "'integer'"
      ],
      "text/plain": [
       "[1] \"integer\""
      ]
     },
     "metadata": {},
     "output_type": "display_data"
    }
   ],
   "source": [
    "teach.df$method\n",
    "class(teach.df$method)\n"
   ]
  },
  {
   "attachments": {},
   "cell_type": "markdown",
   "metadata": {},
   "source": [
    "然而，这些只是标签，也可以是“A”、“B”或“C”。因此，需要将其强制转换为因子，以使 `method` 不被视为数值变量。"
   ]
  },
  {
   "cell_type": "code",
   "execution_count": 5,
   "metadata": {
    "vscode": {
     "languageId": "r"
    }
   },
   "outputs": [
    {
     "data": {
      "text/html": [
       "<style>\n",
       ".list-inline {list-style: none; margin:0; padding: 0}\n",
       ".list-inline>li {display: inline-block}\n",
       ".list-inline>li:not(:last-child)::after {content: \"\\00b7\"; padding: 0 .5ex}\n",
       "</style>\n",
       "<ol class=list-inline><li>1</li><li>1</li><li>1</li><li>1</li><li>1</li><li>1</li><li>1</li><li>1</li><li>1</li><li>1</li><li>2</li><li>2</li><li>2</li><li>2</li><li>2</li><li>2</li><li>2</li><li>2</li><li>2</li><li>2</li><li>3</li><li>3</li><li>3</li><li>3</li><li>3</li><li>3</li><li>3</li><li>3</li><li>3</li><li>3</li></ol>\n",
       "\n",
       "<details>\n",
       "\t<summary style=display:list-item;cursor:pointer>\n",
       "\t\t<strong>Levels</strong>:\n",
       "\t</summary>\n",
       "\t<style>\n",
       "\t.list-inline {list-style: none; margin:0; padding: 0}\n",
       "\t.list-inline>li {display: inline-block}\n",
       "\t.list-inline>li:not(:last-child)::after {content: \"\\00b7\"; padding: 0 .5ex}\n",
       "\t</style>\n",
       "\t<ol class=list-inline><li>'1'</li><li>'2'</li><li>'3'</li></ol>\n",
       "</details>"
      ],
      "text/latex": [
       "\\begin{enumerate*}\n",
       "\\item 1\n",
       "\\item 1\n",
       "\\item 1\n",
       "\\item 1\n",
       "\\item 1\n",
       "\\item 1\n",
       "\\item 1\n",
       "\\item 1\n",
       "\\item 1\n",
       "\\item 1\n",
       "\\item 2\n",
       "\\item 2\n",
       "\\item 2\n",
       "\\item 2\n",
       "\\item 2\n",
       "\\item 2\n",
       "\\item 2\n",
       "\\item 2\n",
       "\\item 2\n",
       "\\item 2\n",
       "\\item 3\n",
       "\\item 3\n",
       "\\item 3\n",
       "\\item 3\n",
       "\\item 3\n",
       "\\item 3\n",
       "\\item 3\n",
       "\\item 3\n",
       "\\item 3\n",
       "\\item 3\n",
       "\\end{enumerate*}\n",
       "\n",
       "\\emph{Levels}: \\begin{enumerate*}\n",
       "\\item '1'\n",
       "\\item '2'\n",
       "\\item '3'\n",
       "\\end{enumerate*}\n"
      ],
      "text/markdown": [
       "1. 1\n",
       "2. 1\n",
       "3. 1\n",
       "4. 1\n",
       "5. 1\n",
       "6. 1\n",
       "7. 1\n",
       "8. 1\n",
       "9. 1\n",
       "10. 1\n",
       "11. 2\n",
       "12. 2\n",
       "13. 2\n",
       "14. 2\n",
       "15. 2\n",
       "16. 2\n",
       "17. 2\n",
       "18. 2\n",
       "19. 2\n",
       "20. 2\n",
       "21. 3\n",
       "22. 3\n",
       "23. 3\n",
       "24. 3\n",
       "25. 3\n",
       "26. 3\n",
       "27. 3\n",
       "28. 3\n",
       "29. 3\n",
       "30. 3\n",
       "\n",
       "\n",
       "\n",
       "**Levels**: 1. '1'\n",
       "2. '2'\n",
       "3. '3'\n",
       "\n",
       "\n"
      ],
      "text/plain": [
       " [1] 1 1 1 1 1 1 1 1 1 1 2 2 2 2 2 2 2 2 2 2 3 3 3 3 3 3 3 3 3 3\n",
       "Levels: 1 2 3"
      ]
     },
     "metadata": {},
     "output_type": "display_data"
    },
    {
     "data": {
      "text/html": [
       "'factor'"
      ],
      "text/latex": [
       "'factor'"
      ],
      "text/markdown": [
       "'factor'"
      ],
      "text/plain": [
       "[1] \"factor\""
      ]
     },
     "metadata": {},
     "output_type": "display_data"
    }
   ],
   "source": [
    "teach.df$method <- factor(teach.df$method)\n",
    "teach.df$method\n",
    "class(teach.df$method)\n"
   ]
  },
  {
   "attachments": {},
   "cell_type": "markdown",
   "metadata": {},
   "source": [
    "Student language score by teaching method and IQ:"
   ]
  },
  {
   "cell_type": "code",
   "execution_count": 6,
   "metadata": {
    "vscode": {
     "languageId": "r"
    }
   },
   "outputs": [
    {
     "data": {
      "image/png": "[encoded data removed]",
      "text/plain": [
       "plot without title"
      ]
     },
     "metadata": {
      "image/png": {
       "height": 420,
       "width": 420
      }
     },
     "output_type": "display_data"
    }
   ],
   "source": [
    "plot(lang ~ method, ylim = c(40, 110), data = teach.df, ylab = \"Language score\")\n"
   ]
  },
  {
   "attachments": {},
   "cell_type": "markdown",
   "metadata": {},
   "source": [
    "A more useful plot:"
   ]
  },
  {
   "cell_type": "code",
   "execution_count": 7,
   "metadata": {
    "vscode": {
     "languageId": "r"
    }
   },
   "outputs": [
    {
     "data": {
      "image/png": "[encoded data removed]",
      "text/plain": [
       "plot without title"
      ]
     },
     "metadata": {
      "image/png": {
       "height": 420,
       "width": 420
      }
     },
     "output_type": "display_data"
    }
   ],
   "source": [
    "plot(\n",
    "    lang ~ IQ,\n",
    "    ylim = c(40, 110),\n",
    "    pch = as.character(method),\n",
    "    col = c(\"red\", \"green\", \"blue\")[method],\n",
    "    data = teach.df,\n",
    "    ylab = \"Language score\"\n",
    ")\n"
   ]
  },
  {
   "attachments": {},
   "cell_type": "markdown",
   "metadata": {},
   "source": [
    "We will fit the model with interaction first, anticipating that the interaction will not be significant."
   ]
  },
  {
   "cell_type": "code",
   "execution_count": 8,
   "metadata": {
    "vscode": {
     "languageId": "r"
    }
   },
   "outputs": [
    {
     "data": {
      "image/png": "[encoded data removed]",
      "text/plain": [
       "Plot with title \"\""
      ]
     },
     "metadata": {
      "image/png": {
       "height": 420,
       "width": 420
      }
     },
     "output_type": "display_data"
    },
    {
     "data": {
      "image/png": "[encoded data removed]",
      "text/plain": [
       "Plot with title \"\""
      ]
     },
     "metadata": {
      "image/png": {
       "height": 420,
       "width": 420
      }
     },
     "output_type": "display_data"
    },
    {
     "data": {
      "image/png": "[encoded data removed]",
      "text/plain": [
       "Plot with title \"Cook's Distance plot\""
      ]
     },
     "metadata": {
      "image/png": {
       "height": 420,
       "width": 420
      }
     },
     "output_type": "display_data"
    }
   ],
   "source": [
    "TeachIQmethod.fit <- lm(lang ~ IQ * method, data = teach.df)\n",
    "plot(TeachIQmethod.fit, which = 1)\n",
    "normcheck(TeachIQmethod.fit)\n",
    "cooks20x(TeachIQmethod.fit)\n"
   ]
  },
  {
   "attachments": {},
   "cell_type": "markdown",
   "metadata": {},
   "source": [
    "It looks like we can trust the output of the fitted model."
   ]
  },
  {
   "attachments": {},
   "cell_type": "markdown",
   "metadata": {},
   "source": [
    "## Model selection using Occam’s razor\n",
    "\n",
    "Our fitted interaction model is:"
   ]
  },
  {
   "cell_type": "code",
   "execution_count": 9,
   "metadata": {
    "vscode": {
     "languageId": "r"
    }
   },
   "outputs": [
    {
     "data": {
      "text/plain": [
       "\n",
       "Call:\n",
       "lm(formula = lang ~ IQ * method, data = teach.df)\n",
       "\n",
       "Residuals:\n",
       "     Min       1Q   Median       3Q      Max \n",
       "-14.8884  -3.8732   0.3435   3.6598  11.2420 \n",
       "\n",
       "Coefficients:\n",
       "            Estimate Std. Error t value Pr(>|t|)   \n",
       "(Intercept)  26.8346    14.5250   1.847  0.07704 . \n",
       "IQ            0.4471     0.1241   3.604  0.00142 **\n",
       "method2      39.0098    20.7473   1.880  0.07227 . \n",
       "method3       3.5617    19.7222   0.181  0.85820   \n",
       "IQ:method2   -0.2587     0.1831  -1.413  0.17042   \n",
       "IQ:method3   -0.1546     0.1749  -0.883  0.38574   \n",
       "---\n",
       "Signif. codes:  0 '***' 0.001 '**' 0.01 '*' 0.05 '.' 0.1 ' ' 1\n",
       "\n",
       "Residual standard error: 6.199 on 24 degrees of freedom\n",
       "Multiple R-squared:  0.8121,\tAdjusted R-squared:  0.7729 \n",
       "F-statistic: 20.74 on 5 and 24 DF,  p-value: 5.284e-08\n"
      ]
     },
     "metadata": {},
     "output_type": "display_data"
    }
   ],
   "source": [
    "summary(TeachIQmethod.fit)\n"
   ]
  },
  {
   "attachments": {},
   "cell_type": "markdown",
   "metadata": {},
   "source": [
    "在之前的章节中，我们已经看到，如果这样做可以简化拟合模型，我们将删除不重要的项。这是模型选择的非常重要的原则，也是 “Occam’s Razor” 原理的应用，又称为“principle of parsimony”。\n",
    "\n",
    "该原则指出，在预测能力相等的竞争模型中，应选择参数最少的模型。\n",
    "\n",
    "在STATS20x中，有时我们称之为 “keep it simple, statistician” 的原则。在本课程中，我们使用的一般模型选择方法是进行假设检验，以确定是否可以从当前模型中删除最复杂的项。\n",
    "\n",
    "> 当我们在模型公式中使用了“乘上”符号时，表示我们认为它具有交互效应。\n",
    ">\n",
    "> 交互效应不一定会带来较好的效果。有时也需要考虑去除交互效应，以获得更好的效果。\n",
    "\n",
    "anova 函数分析\n",
    "\n",
    "Sum：来解释的偏差\n",
    "R 方等于 1-其他偏差/总偏差"
   ]
  },
  {
   "cell_type": "code",
   "execution_count": 10,
   "metadata": {
    "vscode": {
     "languageId": "r"
    }
   },
   "outputs": [
    {
     "data": {
      "text/html": [
       "<table class=\"dataframe\">\n",
       "<caption>A anova: 4 × 5</caption>\n",
       "<thead>\n",
       "\t<tr><th></th><th scope=col>Df</th><th scope=col>Sum Sq</th><th scope=col>Mean Sq</th><th scope=col>F value</th><th scope=col>Pr(&gt;F)</th></tr>\n",
       "\t<tr><th></th><th scope=col>&lt;int&gt;</th><th scope=col>&lt;dbl&gt;</th><th scope=col>&lt;dbl&gt;</th><th scope=col>&lt;dbl&gt;</th><th scope=col>&lt;dbl&gt;</th></tr>\n",
       "</thead>\n",
       "<tbody>\n",
       "\t<tr><th scope=row>IQ</th><td> 1</td><td>1004.41693</td><td>1004.41693</td><td>26.141645</td><td>3.123528e-05</td></tr>\n",
       "\t<tr><th scope=row>method</th><td> 2</td><td>2901.82976</td><td>1450.91488</td><td>37.762507</td><td>3.866766e-08</td></tr>\n",
       "\t<tr><th scope=row>IQ:method</th><td> 2</td><td>  78.82287</td><td>  39.41143</td><td> 1.025749</td><td>3.737167e-01</td></tr>\n",
       "\t<tr><th scope=row>Residuals</th><td>24</td><td> 922.13044</td><td>  38.42210</td><td>       NA</td><td>          NA</td></tr>\n",
       "</tbody>\n",
       "</table>\n"
      ],
      "text/latex": [
       "A anova: 4 × 5\n",
       "\\begin{tabular}{r|lllll}\n",
       "  & Df & Sum Sq & Mean Sq & F value & Pr(>F)\\\\\n",
       "  & <int> & <dbl> & <dbl> & <dbl> & <dbl>\\\\\n",
       "\\hline\n",
       "\tIQ &  1 & 1004.41693 & 1004.41693 & 26.141645 & 3.123528e-05\\\\\n",
       "\tmethod &  2 & 2901.82976 & 1450.91488 & 37.762507 & 3.866766e-08\\\\\n",
       "\tIQ:method &  2 &   78.82287 &   39.41143 &  1.025749 & 3.737167e-01\\\\\n",
       "\tResiduals & 24 &  922.13044 &   38.42210 &        NA &           NA\\\\\n",
       "\\end{tabular}\n"
      ],
      "text/markdown": [
       "\n",
       "A anova: 4 × 5\n",
       "\n",
       "| <!--/--> | Df &lt;int&gt; | Sum Sq &lt;dbl&gt; | Mean Sq &lt;dbl&gt; | F value &lt;dbl&gt; | Pr(&gt;F) &lt;dbl&gt; |\n",
       "|---|---|---|---|---|---|\n",
       "| IQ |  1 | 1004.41693 | 1004.41693 | 26.141645 | 3.123528e-05 |\n",
       "| method |  2 | 2901.82976 | 1450.91488 | 37.762507 | 3.866766e-08 |\n",
       "| IQ:method |  2 |   78.82287 |   39.41143 |  1.025749 | 3.737167e-01 |\n",
       "| Residuals | 24 |  922.13044 |   38.42210 |        NA |           NA |\n",
       "\n"
      ],
      "text/plain": [
       "          Df Sum Sq     Mean Sq    F value   Pr(>F)      \n",
       "IQ         1 1004.41693 1004.41693 26.141645 3.123528e-05\n",
       "method     2 2901.82976 1450.91488 37.762507 3.866766e-08\n",
       "IQ:method  2   78.82287   39.41143  1.025749 3.737167e-01\n",
       "Residuals 24  922.13044   38.42210        NA           NA"
      ]
     },
     "metadata": {},
     "output_type": "display_data"
    }
   ],
   "source": [
    "anova(TeachIQmethod.fit)\n"
   ]
  },
  {
   "attachments": {},
   "cell_type": "markdown",
   "metadata": {},
   "source": [
    "Occam’s razor 原理要求我们通过删除交互项来精简我们的模型。为此，我们只需在模型公式中用“+”替换交互项“x”。非交互模型有时被称为加法模型（因为效应“相加”）或“主效应”模型。"
   ]
  },
  {
   "cell_type": "code",
   "execution_count": 11,
   "metadata": {
    "vscode": {
     "languageId": "r"
    }
   },
   "outputs": [
    {
     "data": {
      "text/plain": [
       "\n",
       "Call:\n",
       "lm(formula = lang ~ IQ + method, data = teach.df)\n",
       "\n",
       "Residuals:\n",
       "     Min       1Q   Median       3Q      Max \n",
       "-15.8936  -3.1331  -0.3047   4.1294  11.0003 \n",
       "\n",
       "Coefficients:\n",
       "             Estimate Std. Error t value Pr(>|t|)    \n",
       "(Intercept)  42.08552    8.73921   4.816 5.47e-05 ***\n",
       "IQ            0.31564    0.07341   4.299 0.000213 ***\n",
       "method2       9.87793    2.82068   3.502 0.001688 ** \n",
       "method3     -14.15922    2.85240  -4.964 3.70e-05 ***\n",
       "---\n",
       "Signif. codes:  0 '***' 0.001 '**' 0.01 '*' 0.05 '.' 0.1 ' ' 1\n",
       "\n",
       "Residual standard error: 6.205 on 26 degrees of freedom\n",
       "Multiple R-squared:  0.796,\tAdjusted R-squared:  0.7725 \n",
       "F-statistic: 33.82 on 3 and 26 DF,  p-value: 3.986e-09\n"
      ]
     },
     "metadata": {},
     "output_type": "display_data"
    }
   ],
   "source": [
    "TeachIQmethod.fit2 <- lm(lang ~ IQ + method, data = teach.df)\n",
    "summary(TeachIQmethod.fit2)\n"
   ]
  },
  {
   "attachments": {},
   "cell_type": "markdown",
   "metadata": {},
   "source": [
    "The equation for the parallel lines (i.e, no-interaction) model is:\n",
    "\n",
    "$$\n",
    "\\text{1ang}=\\beta_0+\\beta_1\\times\\text{IQ}+\\beta_2\\times\\text{D2}+\\beta_3\\times\\text{D3}+\\varepsilon\n",
    "$$\n",
    "\n",
    "where, as usual $\\varepsilon\\overset{iid}{\\sim}N(0,\\sigma^2)$.\n",
    "\n",
    "There are two indicator variables since teaching method has three levels:\n",
    "\n",
    "- `D2` is an indicator variable whereby: `D2 = 1` if teaching method 2 is taught – otherwise it is 0.\n",
    "- `D3` is an indicator variable whereby: `D3 = 1` if teaching method 3 is taught – otherwise it is 0.\n",
    "- Teaching method 1 is the reference/baseline level group.\n",
    "\n",
    "Let us see if we really do have identical intercepts."
   ]
  },
  {
   "cell_type": "code",
   "execution_count": 12,
   "metadata": {
    "vscode": {
     "languageId": "r"
    }
   },
   "outputs": [
    {
     "data": {
      "text/html": [
       "<table class=\"dataframe\">\n",
       "<caption>A anova: 3 × 5</caption>\n",
       "<thead>\n",
       "\t<tr><th></th><th scope=col>Df</th><th scope=col>Sum Sq</th><th scope=col>Mean Sq</th><th scope=col>F value</th><th scope=col>Pr(&gt;F)</th></tr>\n",
       "\t<tr><th></th><th scope=col>&lt;int&gt;</th><th scope=col>&lt;dbl&gt;</th><th scope=col>&lt;dbl&gt;</th><th scope=col>&lt;dbl&gt;</th><th scope=col>&lt;dbl&gt;</th></tr>\n",
       "</thead>\n",
       "<tbody>\n",
       "\t<tr><th scope=row>IQ</th><td> 1</td><td>1004.417</td><td>1004.4169</td><td>26.08997</td><td>2.528819e-05</td></tr>\n",
       "\t<tr><th scope=row>method</th><td> 2</td><td>2901.830</td><td>1450.9149</td><td>37.68786</td><td>2.077362e-08</td></tr>\n",
       "\t<tr><th scope=row>Residuals</th><td>26</td><td>1000.953</td><td>  38.4982</td><td>      NA</td><td>          NA</td></tr>\n",
       "</tbody>\n",
       "</table>\n"
      ],
      "text/latex": [
       "A anova: 3 × 5\n",
       "\\begin{tabular}{r|lllll}\n",
       "  & Df & Sum Sq & Mean Sq & F value & Pr(>F)\\\\\n",
       "  & <int> & <dbl> & <dbl> & <dbl> & <dbl>\\\\\n",
       "\\hline\n",
       "\tIQ &  1 & 1004.417 & 1004.4169 & 26.08997 & 2.528819e-05\\\\\n",
       "\tmethod &  2 & 2901.830 & 1450.9149 & 37.68786 & 2.077362e-08\\\\\n",
       "\tResiduals & 26 & 1000.953 &   38.4982 &       NA &           NA\\\\\n",
       "\\end{tabular}\n"
      ],
      "text/markdown": [
       "\n",
       "A anova: 3 × 5\n",
       "\n",
       "| <!--/--> | Df &lt;int&gt; | Sum Sq &lt;dbl&gt; | Mean Sq &lt;dbl&gt; | F value &lt;dbl&gt; | Pr(&gt;F) &lt;dbl&gt; |\n",
       "|---|---|---|---|---|---|\n",
       "| IQ |  1 | 1004.417 | 1004.4169 | 26.08997 | 2.528819e-05 |\n",
       "| method |  2 | 2901.830 | 1450.9149 | 37.68786 | 2.077362e-08 |\n",
       "| Residuals | 26 | 1000.953 |   38.4982 |       NA |           NA |\n",
       "\n"
      ],
      "text/plain": [
       "          Df Sum Sq   Mean Sq   F value  Pr(>F)      \n",
       "IQ         1 1004.417 1004.4169 26.08997 2.528819e-05\n",
       "method     2 2901.830 1450.9149 37.68786 2.077362e-08\n",
       "Residuals 26 1000.953   38.4982       NA           NA"
      ]
     },
     "metadata": {},
     "output_type": "display_data"
    }
   ],
   "source": [
    "anova(TeachIQmethod.fit2)\n"
   ]
  },
  {
   "attachments": {},
   "cell_type": "markdown",
   "metadata": {},
   "source": [
    "Our preferred model is the no-interaction(没有交互的) model:"
   ]
  },
  {
   "cell_type": "code",
   "execution_count": 13,
   "metadata": {
    "vscode": {
     "languageId": "r"
    }
   },
   "outputs": [
    {
     "data": {
      "text/plain": [
       "\n",
       "Call:\n",
       "lm(formula = lang ~ IQ + method, data = teach.df)\n",
       "\n",
       "Residuals:\n",
       "     Min       1Q   Median       3Q      Max \n",
       "-15.8936  -3.1331  -0.3047   4.1294  11.0003 \n",
       "\n",
       "Coefficients:\n",
       "             Estimate Std. Error t value Pr(>|t|)    \n",
       "(Intercept)  42.08552    8.73921   4.816 5.47e-05 ***\n",
       "IQ            0.31564    0.07341   4.299 0.000213 ***\n",
       "method2       9.87793    2.82068   3.502 0.001688 ** \n",
       "method3     -14.15922    2.85240  -4.964 3.70e-05 ***\n",
       "---\n",
       "Signif. codes:  0 '***' 0.001 '**' 0.01 '*' 0.05 '.' 0.1 ' ' 1\n",
       "\n",
       "Residual standard error: 6.205 on 26 degrees of freedom\n",
       "Multiple R-squared:  0.796,\tAdjusted R-squared:  0.7725 \n",
       "F-statistic: 33.82 on 3 and 26 DF,  p-value: 3.986e-09\n"
      ]
     },
     "metadata": {},
     "output_type": "display_data"
    }
   ],
   "source": [
    "summary(TeachIQmethod.fit2)\n"
   ]
  },
  {
   "attachments": {},
   "cell_type": "markdown",
   "metadata": {},
   "source": [
    "图像："
   ]
  },
  {
   "cell_type": "code",
   "execution_count": 14,
   "metadata": {
    "vscode": {
     "languageId": "r"
    }
   },
   "outputs": [
    {
     "data": {
      "image/png": "[encoded data removed]",
      "text/plain": [
       "plot without title"
      ]
     },
     "metadata": {
      "image/png": {
       "height": 420,
       "width": 420
      }
     },
     "output_type": "display_data"
    }
   ],
   "source": [
    "plot(lang ~ IQ,\n",
    "    ylim = c(40, 110),\n",
    "    pch = as.character(method),\n",
    "    data = teach.df,\n",
    "    ylab = \"Language score\"\n",
    ")\n",
    "b <- coef(TeachIQmethod.fit2)\n",
    "abline(b[1], b[2], lty = 2, col = \"darkorange\")\n",
    "abline(b[1] + b[3], b[2], lty = 2, col = \"tomato\")\n",
    "abline(b[1] + b[4], b[2], lty = 2, col = \"steelblue\")\n"
   ]
  },
  {
   "attachments": {},
   "cell_type": "markdown",
   "metadata": {},
   "source": [
    "We are now able to deduce:\n",
    "\n",
    "- $\\beta_1>0$: IQ has a common positive effect on the expected language score of all students\n",
    "- $\\beta_2>0$: teaching method 2 is better than teaching method 1 regardless of a student's IQ.\n",
    "- $\\beta_3<0$: teaching method 3 is worse than teaching method 1 regardless of a student's IQ."
   ]
  },
  {
   "attachments": {},
   "cell_type": "markdown",
   "metadata": {},
   "source": [
    "## Changing the reference level of teaching method\n",
    "\n",
    "We need to change this to make method 2 (or alternatively method 3) the baseline. The fitted model will be exactly the same, but the intercept coefficients will change due to the change in reference level."
   ]
  },
  {
   "cell_type": "code",
   "execution_count": 15,
   "metadata": {
    "vscode": {
     "languageId": "r"
    }
   },
   "outputs": [
    {
     "data": {
      "text/plain": [
       "\n",
       "Call:\n",
       "lm(formula = lang ~ IQ + method, data = teach.df)\n",
       "\n",
       "Residuals:\n",
       "     Min       1Q   Median       3Q      Max \n",
       "-15.8936  -3.1331  -0.3047   4.1294  11.0003 \n",
       "\n",
       "Coefficients:\n",
       "             Estimate Std. Error t value Pr(>|t|)    \n",
       "(Intercept)  51.96345    8.24637   6.301 1.14e-06 ***\n",
       "IQ            0.31564    0.07341   4.299 0.000213 ***\n",
       "method1      -9.87793    2.82068  -3.502 0.001688 ** \n",
       "method3     -24.03715    2.77910  -8.649 3.97e-09 ***\n",
       "---\n",
       "Signif. codes:  0 '***' 0.001 '**' 0.01 '*' 0.05 '.' 0.1 ' ' 1\n",
       "\n",
       "Residual standard error: 6.205 on 26 degrees of freedom\n",
       "Multiple R-squared:  0.796,\tAdjusted R-squared:  0.7725 \n",
       "F-statistic: 33.82 on 3 and 26 DF,  p-value: 3.986e-09\n"
      ]
     },
     "metadata": {},
     "output_type": "display_data"
    }
   ],
   "source": [
    "teach.df$method <- relevel(teach.df$method, ref = \"2\")\n",
    "TeachIQmethod.fit3 <- lm(lang ~ IQ + method, data = teach.df)\n",
    "summary(TeachIQmethod.fit3)"
   ]
  },
  {
   "attachments": {},
   "cell_type": "markdown",
   "metadata": {},
   "source": [
    "As the fit2:"
   ]
  },
  {
   "cell_type": "code",
   "execution_count": 16,
   "metadata": {
    "vscode": {
     "languageId": "r"
    }
   },
   "outputs": [
    {
     "data": {
      "text/plain": [
       "\n",
       "Call:\n",
       "lm(formula = lang ~ IQ + method, data = teach.df)\n",
       "\n",
       "Residuals:\n",
       "     Min       1Q   Median       3Q      Max \n",
       "-15.8936  -3.1331  -0.3047   4.1294  11.0003 \n",
       "\n",
       "Coefficients:\n",
       "             Estimate Std. Error t value Pr(>|t|)    \n",
       "(Intercept)  42.08552    8.73921   4.816 5.47e-05 ***\n",
       "IQ            0.31564    0.07341   4.299 0.000213 ***\n",
       "method2       9.87793    2.82068   3.502 0.001688 ** \n",
       "method3     -14.15922    2.85240  -4.964 3.70e-05 ***\n",
       "---\n",
       "Signif. codes:  0 '***' 0.001 '**' 0.01 '*' 0.05 '.' 0.1 ' ' 1\n",
       "\n",
       "Residual standard error: 6.205 on 26 degrees of freedom\n",
       "Multiple R-squared:  0.796,\tAdjusted R-squared:  0.7725 \n",
       "F-statistic: 33.82 on 3 and 26 DF,  p-value: 3.986e-09\n"
      ]
     },
     "metadata": {},
     "output_type": "display_data"
    }
   ],
   "source": [
    "summary(TeachIQmethod.fit2)"
   ]
  },
  {
   "attachments": {},
   "cell_type": "markdown",
   "metadata": {},
   "source": [
    "Let us put confidence bounds on our effects."
   ]
  },
  {
   "cell_type": "code",
   "execution_count": 17,
   "metadata": {
    "vscode": {
     "languageId": "r"
    }
   },
   "outputs": [
    {
     "data": {
      "text/html": [
       "<table class=\"dataframe\">\n",
       "<caption>A matrix: 4 × 2 of type dbl</caption>\n",
       "<thead>\n",
       "\t<tr><th></th><th scope=col>2.5 %</th><th scope=col>97.5 %</th></tr>\n",
       "</thead>\n",
       "<tbody>\n",
       "\t<tr><th scope=row>(Intercept)</th><td> 24.1218063</td><td>60.0492251</td></tr>\n",
       "\t<tr><th scope=row>IQ</th><td>  0.1647361</td><td> 0.4665482</td></tr>\n",
       "\t<tr><th scope=row>method2</th><td>  4.0799363</td><td>15.6759248</td></tr>\n",
       "\t<tr><th scope=row>method3</th><td>-20.0224212</td><td>-8.2960209</td></tr>\n",
       "</tbody>\n",
       "</table>\n"
      ],
      "text/latex": [
       "A matrix: 4 × 2 of type dbl\n",
       "\\begin{tabular}{r|ll}\n",
       "  & 2.5 \\% & 97.5 \\%\\\\\n",
       "\\hline\n",
       "\t(Intercept) &  24.1218063 & 60.0492251\\\\\n",
       "\tIQ &   0.1647361 &  0.4665482\\\\\n",
       "\tmethod2 &   4.0799363 & 15.6759248\\\\\n",
       "\tmethod3 & -20.0224212 & -8.2960209\\\\\n",
       "\\end{tabular}\n"
      ],
      "text/markdown": [
       "\n",
       "A matrix: 4 × 2 of type dbl\n",
       "\n",
       "| <!--/--> | 2.5 % | 97.5 % |\n",
       "|---|---|---|\n",
       "| (Intercept) |  24.1218063 | 60.0492251 |\n",
       "| IQ |   0.1647361 |  0.4665482 |\n",
       "| method2 |   4.0799363 | 15.6759248 |\n",
       "| method3 | -20.0224212 | -8.2960209 |\n",
       "\n"
      ],
      "text/plain": [
       "            2.5 %       97.5 %    \n",
       "(Intercept)  24.1218063 60.0492251\n",
       "IQ            0.1647361  0.4665482\n",
       "method2       4.0799363 15.6759248\n",
       "method3     -20.0224212 -8.2960209"
      ]
     },
     "metadata": {},
     "output_type": "display_data"
    },
    {
     "data": {
      "text/html": [
       "<table class=\"dataframe\">\n",
       "<caption>A matrix: 4 × 2 of type dbl</caption>\n",
       "<thead>\n",
       "\t<tr><th></th><th scope=col>2.5 %</th><th scope=col>97.5 %</th></tr>\n",
       "</thead>\n",
       "<tbody>\n",
       "\t<tr><th scope=row>(Intercept)</th><td> 35.0127936</td><td> 68.9140989</td></tr>\n",
       "\t<tr><th scope=row>IQ</th><td>  0.1647361</td><td>  0.4665482</td></tr>\n",
       "\t<tr><th scope=row>method1</th><td>-15.6759248</td><td> -4.0799363</td></tr>\n",
       "\t<tr><th scope=row>method3</th><td>-29.7496781</td><td>-18.3246250</td></tr>\n",
       "</tbody>\n",
       "</table>\n"
      ],
      "text/latex": [
       "A matrix: 4 × 2 of type dbl\n",
       "\\begin{tabular}{r|ll}\n",
       "  & 2.5 \\% & 97.5 \\%\\\\\n",
       "\\hline\n",
       "\t(Intercept) &  35.0127936 &  68.9140989\\\\\n",
       "\tIQ &   0.1647361 &   0.4665482\\\\\n",
       "\tmethod1 & -15.6759248 &  -4.0799363\\\\\n",
       "\tmethod3 & -29.7496781 & -18.3246250\\\\\n",
       "\\end{tabular}\n"
      ],
      "text/markdown": [
       "\n",
       "A matrix: 4 × 2 of type dbl\n",
       "\n",
       "| <!--/--> | 2.5 % | 97.5 % |\n",
       "|---|---|---|\n",
       "| (Intercept) |  35.0127936 |  68.9140989 |\n",
       "| IQ |   0.1647361 |   0.4665482 |\n",
       "| method1 | -15.6759248 |  -4.0799363 |\n",
       "| method3 | -29.7496781 | -18.3246250 |\n",
       "\n"
      ],
      "text/plain": [
       "            2.5 %       97.5 %     \n",
       "(Intercept)  35.0127936  68.9140989\n",
       "IQ            0.1647361   0.4665482\n",
       "method1     -15.6759248  -4.0799363\n",
       "method3     -29.7496781 -18.3246250"
      ]
     },
     "metadata": {},
     "output_type": "display_data"
    }
   ],
   "source": [
    "## Baseline method here is method1.\n",
    "confint(TeachIQmethod.fit2)\n",
    "## Baseline method here is method2.\n",
    "confint(TeachIQmethod.fit3)"
   ]
  },
  {
   "attachments": {},
   "cell_type": "markdown",
   "metadata": {},
   "source": [
    "> 备注：有log就是中位值，其他都是讨论的均值"
   ]
  }
 ],
 "metadata": {
  "kernelspec": {
   "display_name": "R",
   "language": "R",
   "name": "ir"
  },
  "language_info": {
   "codemirror_mode": "r",
   "file_extension": ".r",
   "mimetype": "text/x-r-source",
   "name": "R",
   "pygments_lexer": "r",
   "version": "4.2.2"
  },
  "orig_nbformat": 4
 },
 "nbformat": 4,
 "nbformat_minor": 2
}
