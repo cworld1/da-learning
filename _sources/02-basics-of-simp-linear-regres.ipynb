{
 "cells": [
  {
   "attachments": {},
   "cell_type": "markdown",
   "metadata": {},
   "source": [
    "# Basics of Simple Linear Regression\n",
    "\n",
    "本课程前置需要装的包："
   ]
  },
  {
   "cell_type": "code",
   "execution_count": 21,
   "metadata": {
    "tags": [
     "hide-output"
    ],
    "vscode": {
     "languageId": "r"
    }
   },
   "outputs": [],
   "source": [
    "require(s20x)"
   ]
  },
  {
   "attachments": {},
   "cell_type": "markdown",
   "metadata": {},
   "source": [
    "## 分析数据过程\n",
    "\n",
    "### 读取数据\n",
    "\n",
    "读取数据表格，`header=TRUE` 表示第一行是表头，`sep=\",\"` 表示分隔符是逗号。"
   ]
  },
  {
   "cell_type": "code",
   "execution_count": 22,
   "metadata": {
    "vscode": {
     "languageId": "r"
    }
   },
   "outputs": [
    {
     "data": {
      "text/html": [
       "<table class=\"dataframe\">\n",
       "<caption>A data.frame: 6 × 15</caption>\n",
       "<thead>\n",
       "\t<tr><th></th><th scope=col>Grade</th><th scope=col>Pass</th><th scope=col>Exam</th><th scope=col>Degree</th><th scope=col>Gender</th><th scope=col>Attend</th><th scope=col>Assign</th><th scope=col>Test</th><th scope=col>B</th><th scope=col>C</th><th scope=col>MC</th><th scope=col>Colour</th><th scope=col>Stage1</th><th scope=col>Years.Since</th><th scope=col>Repeat</th></tr>\n",
       "\t<tr><th></th><th scope=col>&lt;chr&gt;</th><th scope=col>&lt;chr&gt;</th><th scope=col>&lt;int&gt;</th><th scope=col>&lt;chr&gt;</th><th scope=col>&lt;chr&gt;</th><th scope=col>&lt;chr&gt;</th><th scope=col>&lt;dbl&gt;</th><th scope=col>&lt;dbl&gt;</th><th scope=col>&lt;int&gt;</th><th scope=col>&lt;int&gt;</th><th scope=col>&lt;int&gt;</th><th scope=col>&lt;chr&gt;</th><th scope=col>&lt;chr&gt;</th><th scope=col>&lt;dbl&gt;</th><th scope=col>&lt;chr&gt;</th></tr>\n",
       "</thead>\n",
       "<tbody>\n",
       "\t<tr><th scope=row>1</th><td>C</td><td>Yes</td><td>42</td><td>BSc  </td><td>Male  </td><td>Yes</td><td>17.2</td><td> 9.1</td><td> 5</td><td>13</td><td>12</td><td>Blue  </td><td>C</td><td>2.5</td><td>Yes</td></tr>\n",
       "\t<tr><th scope=row>2</th><td>B</td><td>Yes</td><td>58</td><td>BCom </td><td>Female</td><td>Yes</td><td>17.2</td><td>13.6</td><td>12</td><td>12</td><td>17</td><td>Yellow</td><td>A</td><td>2.0</td><td>No </td></tr>\n",
       "\t<tr><th scope=row>3</th><td>A</td><td>Yes</td><td>81</td><td>Other</td><td>Female</td><td>Yes</td><td>17.2</td><td>14.5</td><td>14</td><td>17</td><td>25</td><td>Blue  </td><td>A</td><td>3.0</td><td>No </td></tr>\n",
       "\t<tr><th scope=row>4</th><td>A</td><td>Yes</td><td>86</td><td>Other</td><td>Female</td><td>Yes</td><td>19.6</td><td>19.1</td><td>15</td><td>17</td><td>27</td><td>Yellow</td><td>A</td><td>0.0</td><td>No </td></tr>\n",
       "\t<tr><th scope=row>5</th><td>D</td><td>No </td><td>35</td><td>Other</td><td>Male  </td><td>No </td><td> 8.0</td><td> 8.2</td><td> 4</td><td> 1</td><td>15</td><td>Blue  </td><td>C</td><td>3.0</td><td>No </td></tr>\n",
       "\t<tr><th scope=row>6</th><td>A</td><td>Yes</td><td>72</td><td>BCom </td><td>Female</td><td>Yes</td><td>18.4</td><td>12.7</td><td>15</td><td>17</td><td>20</td><td>Blue  </td><td>A</td><td>1.5</td><td>No </td></tr>\n",
       "</tbody>\n",
       "</table>\n"
      ],
      "text/latex": [
       "A data.frame: 6 × 15\n",
       "\\begin{tabular}{r|lllllllllllllll}\n",
       "  & Grade & Pass & Exam & Degree & Gender & Attend & Assign & Test & B & C & MC & Colour & Stage1 & Years.Since & Repeat\\\\\n",
       "  & <chr> & <chr> & <int> & <chr> & <chr> & <chr> & <dbl> & <dbl> & <int> & <int> & <int> & <chr> & <chr> & <dbl> & <chr>\\\\\n",
       "\\hline\n",
       "\t1 & C & Yes & 42 & BSc   & Male   & Yes & 17.2 &  9.1 &  5 & 13 & 12 & Blue   & C & 2.5 & Yes\\\\\n",
       "\t2 & B & Yes & 58 & BCom  & Female & Yes & 17.2 & 13.6 & 12 & 12 & 17 & Yellow & A & 2.0 & No \\\\\n",
       "\t3 & A & Yes & 81 & Other & Female & Yes & 17.2 & 14.5 & 14 & 17 & 25 & Blue   & A & 3.0 & No \\\\\n",
       "\t4 & A & Yes & 86 & Other & Female & Yes & 19.6 & 19.1 & 15 & 17 & 27 & Yellow & A & 0.0 & No \\\\\n",
       "\t5 & D & No  & 35 & Other & Male   & No  &  8.0 &  8.2 &  4 &  1 & 15 & Blue   & C & 3.0 & No \\\\\n",
       "\t6 & A & Yes & 72 & BCom  & Female & Yes & 18.4 & 12.7 & 15 & 17 & 20 & Blue   & A & 1.5 & No \\\\\n",
       "\\end{tabular}\n"
      ],
      "text/markdown": [
       "\n",
       "A data.frame: 6 × 15\n",
       "\n",
       "| <!--/--> | Grade &lt;chr&gt; | Pass &lt;chr&gt; | Exam &lt;int&gt; | Degree &lt;chr&gt; | Gender &lt;chr&gt; | Attend &lt;chr&gt; | Assign &lt;dbl&gt; | Test &lt;dbl&gt; | B &lt;int&gt; | C &lt;int&gt; | MC &lt;int&gt; | Colour &lt;chr&gt; | Stage1 &lt;chr&gt; | Years.Since &lt;dbl&gt; | Repeat &lt;chr&gt; |\n",
       "|---|---|---|---|---|---|---|---|---|---|---|---|---|---|---|---|\n",
       "| 1 | C | Yes | 42 | BSc   | Male   | Yes | 17.2 |  9.1 |  5 | 13 | 12 | Blue   | C | 2.5 | Yes |\n",
       "| 2 | B | Yes | 58 | BCom  | Female | Yes | 17.2 | 13.6 | 12 | 12 | 17 | Yellow | A | 2.0 | No  |\n",
       "| 3 | A | Yes | 81 | Other | Female | Yes | 17.2 | 14.5 | 14 | 17 | 25 | Blue   | A | 3.0 | No  |\n",
       "| 4 | A | Yes | 86 | Other | Female | Yes | 19.6 | 19.1 | 15 | 17 | 27 | Yellow | A | 0.0 | No  |\n",
       "| 5 | D | No  | 35 | Other | Male   | No  |  8.0 |  8.2 |  4 |  1 | 15 | Blue   | C | 3.0 | No  |\n",
       "| 6 | A | Yes | 72 | BCom  | Female | Yes | 18.4 | 12.7 | 15 | 17 | 20 | Blue   | A | 1.5 | No  |\n",
       "\n"
      ],
      "text/plain": [
       "  Grade Pass Exam Degree Gender Attend Assign Test B  C  MC Colour Stage1\n",
       "1 C     Yes  42   BSc    Male   Yes    17.2    9.1  5 13 12 Blue   C     \n",
       "2 B     Yes  58   BCom   Female Yes    17.2   13.6 12 12 17 Yellow A     \n",
       "3 A     Yes  81   Other  Female Yes    17.2   14.5 14 17 25 Blue   A     \n",
       "4 A     Yes  86   Other  Female Yes    19.6   19.1 15 17 27 Yellow A     \n",
       "5 D     No   35   Other  Male   No      8.0    8.2  4  1 15 Blue   C     \n",
       "6 A     Yes  72   BCom   Female Yes    18.4   12.7 15 17 20 Blue   A     \n",
       "  Years.Since Repeat\n",
       "1 2.5         Yes   \n",
       "2 2.0         No    \n",
       "3 3.0         No    \n",
       "4 0.0         No    \n",
       "5 3.0         No    \n",
       "6 1.5         No    "
      ]
     },
     "metadata": {},
     "output_type": "display_data"
    },
    {
     "data": {
      "text/html": [
       "<style>\n",
       ".list-inline {list-style: none; margin:0; padding: 0}\n",
       ".list-inline>li {display: inline-block}\n",
       ".list-inline>li:not(:last-child)::after {content: \"\\00b7\"; padding: 0 .5ex}\n",
       "</style>\n",
       "<ol class=list-inline><li>146</li><li>15</li></ol>\n"
      ],
      "text/latex": [
       "\\begin{enumerate*}\n",
       "\\item 146\n",
       "\\item 15\n",
       "\\end{enumerate*}\n"
      ],
      "text/markdown": [
       "1. 146\n",
       "2. 15\n",
       "\n",
       "\n"
      ],
      "text/plain": [
       "[1] 146  15"
      ]
     },
     "metadata": {},
     "output_type": "display_data"
    },
    {
     "data": {
      "text/html": [
       "<style>\n",
       ".list-inline {list-style: none; margin:0; padding: 0}\n",
       ".list-inline>li {display: inline-block}\n",
       ".list-inline>li:not(:last-child)::after {content: \"\\00b7\"; padding: 0 .5ex}\n",
       "</style>\n",
       "<ol class=list-inline><li>42</li><li>58</li><li>81</li><li>86</li><li>35</li><li>72</li><li>42</li><li>25</li><li>36</li><li>48</li><li>29</li><li>54</li><li>49</li><li>52</li><li>28</li><li>34</li><li>51</li><li>81</li><li>80</li><li>41</li></ol>\n"
      ],
      "text/latex": [
       "\\begin{enumerate*}\n",
       "\\item 42\n",
       "\\item 58\n",
       "\\item 81\n",
       "\\item 86\n",
       "\\item 35\n",
       "\\item 72\n",
       "\\item 42\n",
       "\\item 25\n",
       "\\item 36\n",
       "\\item 48\n",
       "\\item 29\n",
       "\\item 54\n",
       "\\item 49\n",
       "\\item 52\n",
       "\\item 28\n",
       "\\item 34\n",
       "\\item 51\n",
       "\\item 81\n",
       "\\item 80\n",
       "\\item 41\n",
       "\\end{enumerate*}\n"
      ],
      "text/markdown": [
       "1. 42\n",
       "2. 58\n",
       "3. 81\n",
       "4. 86\n",
       "5. 35\n",
       "6. 72\n",
       "7. 42\n",
       "8. 25\n",
       "9. 36\n",
       "10. 48\n",
       "11. 29\n",
       "12. 54\n",
       "13. 49\n",
       "14. 52\n",
       "15. 28\n",
       "16. 34\n",
       "17. 51\n",
       "18. 81\n",
       "19. 80\n",
       "20. 41\n",
       "\n",
       "\n"
      ],
      "text/plain": [
       " [1] 42 58 81 86 35 72 42 25 36 48 29 54 49 52 28 34 51 81 80 41"
      ]
     },
     "metadata": {},
     "output_type": "display_data"
    }
   ],
   "source": [
    "course.df <- read.table(\"../data/STATS20x.txt\", header = TRUE, sep = \"\\t\")\n",
    "head(course.df) # 看前面大约10行的内容\n",
    "dim(course.df) # 看有多少行、多少列\n",
    "course.df$Exam[1:20] # 看前20行的Exam列"
   ]
  },
  {
   "attachments": {},
   "cell_type": "markdown",
   "metadata": {},
   "source": [
    "### 绘图观测数据\n",
    "\n",
    "对数据进行绘图分析，着重分析 `Exam` 和 `Test` 两个变量之间的关系。\n",
    "\n",
    "首先应当粗略查看两者的关系，如线性、二次、曲线、正弦等"
   ]
  },
  {
   "cell_type": "code",
   "execution_count": 23,
   "metadata": {
    "vscode": {
     "languageId": "r"
    }
   },
   "outputs": [
    {
     "data": {
      "image/png": "[encoded data removed]",
      "text/plain": [
       "Plot with title \"Plot of Exam vs. Test   (lowess+/-sd)\""
      ]
     },
     "metadata": {
      "image/png": {
       "height": 420,
       "width": 420
      }
     },
     "output_type": "display_data"
    }
   ],
   "source": [
    "library(s20x)\n",
    "trendscatter(Exam ~ Test, data = course.df)\n"
   ]
  },
  {
   "attachments": {},
   "cell_type": "markdown",
   "metadata": {},
   "source": [
    "### 进行初步拟合\n",
    "\n",
    "可以看到整体大致呈线性关系，故我们采用线性回归模型。"
   ]
  },
  {
   "cell_type": "code",
   "execution_count": 24,
   "metadata": {
    "vscode": {
     "languageId": "r"
    }
   },
   "outputs": [
    {
     "data": {
      "image/png": "[encoded data removed]",
      "text/plain": [
       "plot without title"
      ]
     },
     "metadata": {
      "image/png": {
       "height": 420,
       "width": 420
      }
     },
     "output_type": "display_data"
    }
   ],
   "source": [
    "plot(Exam ~ Test, data = course.df)\n",
    "# 绘制回归直线\n",
    "examtest.fit <- lm(Exam ~ Test, data = course.df)\n",
    "# lty = 2 表示虚线，col = \"red\" 表示红色\n",
    "abline(examtest.fit, lty = 2, col = \"red\")\n",
    "\n",
    "points(\n",
    "    0,\n",
    "    predict(examtest.fit, newdata = data.frame(Test = 0)),\n",
    "    col = \"blue\",\n",
    "    pch = 19\n",
    ")\n",
    "points(10, predict(examtest.fit, newdata = data.frame(Test = 10)), col = \"blue\", pch = 19)\n",
    "points(20, predict(examtest.fit, newdata = data.frame(Test = 20)), col = \"blue\", pch = 19)"
   ]
  },
  {
   "cell_type": "code",
   "execution_count": 25,
   "metadata": {
    "vscode": {
     "languageId": "r"
    }
   },
   "outputs": [
    {
     "data": {
      "text/plain": [
       "\n",
       "Call:\n",
       "lm(formula = Exam ~ Test, data = course.df)\n",
       "\n",
       "Residuals:\n",
       "    Min      1Q  Median      3Q     Max \n",
       "-39.980  -6.471   0.826   8.575  33.242 \n",
       "\n",
       "Coefficients:\n",
       "            Estimate Std. Error t value Pr(>|t|)    \n",
       "(Intercept)   9.0845     3.2204   2.821  0.00547 ** \n",
       "Test          3.7859     0.2647  14.301  < 2e-16 ***\n",
       "---\n",
       "Signif. codes:  0 '***' 0.001 '**' 0.01 '*' 0.05 '.' 0.1 ' ' 1\n",
       "\n",
       "Residual standard error: 12.05 on 144 degrees of freedom\n",
       "Multiple R-squared:  0.5868,\tAdjusted R-squared:  0.5839 \n",
       "F-statistic: 204.5 on 1 and 144 DF,  p-value: < 2.2e-16\n"
      ]
     },
     "metadata": {},
     "output_type": "display_data"
    }
   ],
   "source": [
    "summary(examtest.fit)"
   ]
  },
  {
   "attachments": {},
   "cell_type": "markdown",
   "metadata": {
    "notebookRunGroups": {
     "groupValue": ""
    }
   },
   "source": [
    "其中：\n",
    "\n",
    "- Call：表示回归方程，指明了自变量和因变量\n",
    "- Risiduals：残差，指明了残差的分布，如最大、最小、中值等\n",
    "- Coefficients：系数，此处即 $a_i$ 和 $b_i$ 的值\n",
    "- Residual standard error：残差标准差，即残差的标准差\n",
    "- Multiple R-squared：多元 $R^2$ 值\n",
    "- Adjusted R-squared：调整后的 $R^2$ 值\n",
    "- F-statistic：F 统计量，即 F 统计量。F 统计量的分子是回归平方和，分母是残差平方和。F 统计量的值越大，说明回归平方和越大，即回归模型的拟合效果越好。F 统计量的值越小，说明回归平方和越小，即回归模型的拟合效果越差。p-value 则相反。"
   ]
  },
  {
   "attachments": {},
   "cell_type": "markdown",
   "metadata": {},
   "source": [
    "## 分析数据是否可以接受\n",
    "\n",
    "### 残差观测\n",
    "\n",
    "针对指定行分析预测值和残差："
   ]
  },
  {
   "cell_type": "code",
   "execution_count": 26,
   "metadata": {
    "vscode": {
     "languageId": "r"
    }
   },
   "outputs": [
    {
     "data": {
      "text/html": [
       "<table class=\"dataframe\">\n",
       "<caption>A data.frame: 1 × 2</caption>\n",
       "<thead>\n",
       "\t<tr><th scope=col>course.df.Test.1.</th><th scope=col>course.df.Exam.1.</th></tr>\n",
       "\t<tr><th scope=col>&lt;dbl&gt;</th><th scope=col>&lt;int&gt;</th></tr>\n",
       "</thead>\n",
       "<tbody>\n",
       "\t<tr><td>9.1</td><td>42</td></tr>\n",
       "</tbody>\n",
       "</table>\n"
      ],
      "text/latex": [
       "A data.frame: 1 × 2\n",
       "\\begin{tabular}{ll}\n",
       " course.df.Test.1. & course.df.Exam.1.\\\\\n",
       " <dbl> & <int>\\\\\n",
       "\\hline\n",
       "\t 9.1 & 42\\\\\n",
       "\\end{tabular}\n"
      ],
      "text/markdown": [
       "\n",
       "A data.frame: 1 × 2\n",
       "\n",
       "| course.df.Test.1. &lt;dbl&gt; | course.df.Exam.1. &lt;int&gt; |\n",
       "|---|---|\n",
       "| 9.1 | 42 |\n",
       "\n"
      ],
      "text/plain": [
       "  course.df.Test.1. course.df.Exam.1.\n",
       "1 9.1               42               "
      ]
     },
     "metadata": {},
     "output_type": "display_data"
    },
    {
     "data": {
      "text/html": [
       "<strong>1:</strong> 43.5363712056028"
      ],
      "text/latex": [
       "\\textbf{1:} 43.5363712056028"
      ],
      "text/markdown": [
       "**1:** 43.5363712056028"
      ],
      "text/plain": [
       "       1 \n",
       "43.53637 "
      ]
     },
     "metadata": {},
     "output_type": "display_data"
    },
    {
     "data": {
      "text/html": [
       "<strong>1:</strong> -1.53637120560281"
      ],
      "text/latex": [
       "\\textbf{1:} -1.53637120560281"
      ],
      "text/markdown": [
       "**1:** -1.53637120560281"
      ],
      "text/plain": [
       "        1 \n",
       "-1.536371 "
      ]
     },
     "metadata": {},
     "output_type": "display_data"
    }
   ],
   "source": [
    "data.frame(course.df$Test[1], course.df$Exam[1]) # 原第一行\n",
    "# 按照 tidyverse 的风格，也可以使用 dplyr 包的 select 函数来选择列\n",
    "# dplyr::select(course.df[1, ], Exam, Test)\n",
    "fitted(examtest.fit)[1] # 拟合值\n",
    "resid(examtest.fit)[1] # 残差"
   ]
  },
  {
   "attachments": {},
   "cell_type": "markdown",
   "metadata": {},
   "source": [
    "检验上，一个成功的拟合模型的残差应当有：\n",
    "\n",
    "1. 残差均值接近于 0\n",
    "2. 残差满足正态分布\n",
    "3. 没有或排除了异常点\n",
    "\n",
    "#### 残差均值接近于 0\n",
    "\n",
    "分析残差，看是否符合均值等于0"
   ]
  },
  {
   "cell_type": "code",
   "execution_count": 27,
   "metadata": {
    "vscode": {
     "languageId": "r"
    }
   },
   "outputs": [
    {
     "data": {
      "image/png": "[encoded data removed]",
      "text/plain": [
       "Plot with title \"\""
      ]
     },
     "metadata": {
      "image/png": {
       "height": 420,
       "width": 420
      }
     },
     "output_type": "display_data"
    }
   ],
   "source": [
    "# 其中 which = 1 表示残差直方图（histogram of residuals），\n",
    "# which = 2 表示残差QQ图（qqplot，即 normal quantile-quantile-plot），\n",
    "# which = 3 表示残差标准化图\n",
    "plot(examtest.fit, which = 1)"
   ]
  },
  {
   "attachments": {},
   "cell_type": "markdown",
   "metadata": {},
   "source": [
    "#### 残差满足正态分布\n",
    "\n",
    "残差在分布上在符合正态同分布：iid – independence（并且这是根据学生在考试中应该相互独立的表现）。残差应该有大致恒定的散布。这其实是 Equality Of Variance (EOV，方差相等) 原则。\n",
    "\n",
    "检查残差是否满足正态分布："
   ]
  },
  {
   "cell_type": "code",
   "execution_count": 28,
   "metadata": {
    "vscode": {
     "languageId": "r"
    }
   },
   "outputs": [
    {
     "data": {
      "image/png": "[encoded data removed]",
      "text/plain": [
       "Plot with title \"\""
      ]
     },
     "metadata": {
      "image/png": {
       "height": 420,
       "width": 420
      }
     },
     "output_type": "display_data"
    }
   ],
   "source": [
    "normcheck(examtest.fit)"
   ]
  },
  {
   "cell_type": "code",
   "execution_count": 29,
   "metadata": {
    "vscode": {
     "languageId": "r"
    }
   },
   "outputs": [
    {
     "data": {
      "text/plain": [
       "\n",
       "Call:\n",
       "lm(formula = Exam ~ Test, data = course2.df)\n",
       "\n",
       "Residuals:\n",
       "    Min      1Q  Median      3Q     Max \n",
       "-90.251  -6.846   2.638   9.456  33.996 \n",
       "\n",
       "Coefficients:\n",
       "            Estimate Std. Error t value Pr(>|t|)    \n",
       "(Intercept)  15.2374     3.7172   4.099 6.88e-05 ***\n",
       "Test          3.2006     0.3023  10.588  < 2e-16 ***\n",
       "---\n",
       "Signif. codes:  0 '***' 0.001 '**' 0.01 '*' 0.05 '.' 0.1 ' ' 1\n",
       "\n",
       "Residual standard error: 14.34 on 145 degrees of freedom\n",
       "Multiple R-squared:  0.436,\tAdjusted R-squared:  0.4322 \n",
       "F-statistic: 112.1 on 1 and 145 DF,  p-value: < 2.2e-16\n"
      ]
     },
     "metadata": {},
     "output_type": "display_data"
    },
    {
     "data": {
      "image/png": "[encoded data removed]",
      "text/plain": [
       "plot without title"
      ]
     },
     "metadata": {
      "image/png": {
       "height": 420,
       "width": 420
      }
     },
     "output_type": "display_data"
    }
   ],
   "source": [
    "# 创造一个包含异常点的数据集并验证异常点对回归直线的影响\n",
    "n <- nrow(course.df)\n",
    "# 复制一数据集的最后一行\n",
    "course2.df <- course.df[c(1:n, n), ]\n",
    "# 修改新数据集的最后一行的 Test 和 Exam 列的值，故意创造一个差异极大的观测值\n",
    "course2.df[n + 1, c(\"Test\", \"Exam\")] <- c(25, 5)\n",
    "# 画出散点图\n",
    "plot(Exam ~ Test, data = course2.df)\n",
    "## 并标记我们创建的新的观测点\n",
    "points(25, 5, pch = 19, col = \"red\")\n",
    "\n",
    "# 如果有的观测值是异常值，那么回归直线就会受到影响\n",
    "examtest2.fit <- lm(Exam ~ Test, data = course2.df)\n",
    "summary(examtest2.fit)\n",
    "\n",
    "# 或者直接画图验证该点造成的影响\n",
    "abline(examtest.fit, lty = 2, lwd = 2, col = \"blue\")\n",
    "abline(examtest2.fit, lty = 2, lwd = 2, col = \"red\")"
   ]
  },
  {
   "attachments": {},
   "cell_type": "markdown",
   "metadata": {},
   "source": [
    "对其进行观测值差异分析："
   ]
  },
  {
   "cell_type": "code",
   "execution_count": 30,
   "metadata": {
    "vscode": {
     "languageId": "r"
    }
   },
   "outputs": [
    {
     "data": {
      "image/png": "[encoded data removed]",
      "text/plain": [
       "Plot with title \"Cook's Distance plot\""
      ]
     },
     "metadata": {
      "image/png": {
       "height": 420,
       "width": 420
      }
     },
     "output_type": "display_data"
    },
    {
     "data": {
      "image/png": "[encoded data removed]",
      "text/plain": [
       "Plot with title \"Cook's Distance plot\""
      ]
     },
     "metadata": {
      "image/png": {
       "height": 420,
       "width": 420
      }
     },
     "output_type": "display_data"
    }
   ],
   "source": [
    "# 画出异常值的影响\n",
    "cooks20x(examtest2.fit)\n",
    "# 对比原来的值影响\n",
    "cooks20x(examtest.fit)"
   ]
  },
  {
   "attachments": {},
   "cell_type": "markdown",
   "metadata": {},
   "source": [
    "### R 方观测\n",
    "\n",
    "R Squared 即 R 平方，是回归平方和与总平方和的比值，即 $R^2 = \\frac{SSR}{SST}$，其中 SSR 为回归平方和，SST 为总平方和。R 平方的值越大，说明回归平方和越大，即回归模型的拟合效果越好。R 平方的值越小，说明回归平方和越小，即回归模型的拟合效果越差。\n",
    "\n",
    "SSR 即回归平方和，是因变量的预测值与因变量的均值之差的平方和，即 $SSR = \\sum_{i=1}^n (y_i - \\bar{y})^2$，其中 $y_i$ 为第 $i$ 个观测值，$\\bar{y}$ 为因变量的均值。下面将简要介绍 SSR 的计算方法。"
   ]
  },
  {
   "cell_type": "code",
   "execution_count": 31,
   "metadata": {
    "vscode": {
     "languageId": "r"
    }
   },
   "outputs": [
    {
     "data": {
      "text/plain": [
       "\n",
       "Call:\n",
       "lm(formula = Exam ~ 1, data = course.df)\n",
       "\n",
       "Residuals:\n",
       "    Min      1Q  Median      3Q     Max \n",
       "-41.877 -12.877  -1.377  15.623  40.123 \n",
       "\n",
       "Coefficients:\n",
       "            Estimate Std. Error t value Pr(>|t|)    \n",
       "(Intercept)   52.877      1.546   34.21   <2e-16 ***\n",
       "---\n",
       "Signif. codes:  0 '***' 0.001 '**' 0.01 '*' 0.05 '.' 0.1 ' ' 1\n",
       "\n",
       "Residual standard error: 18.68 on 145 degrees of freedom\n"
      ]
     },
     "metadata": {},
     "output_type": "display_data"
    },
    {
     "data": {
      "text/plain": [
       "\n",
       "Call:\n",
       "lm(formula = Exam ~ Test, data = course.df)\n",
       "\n",
       "Residuals:\n",
       "    Min      1Q  Median      3Q     Max \n",
       "-39.980  -6.471   0.826   8.575  33.242 \n",
       "\n",
       "Coefficients:\n",
       "            Estimate Std. Error t value Pr(>|t|)    \n",
       "(Intercept)   9.0845     3.2204   2.821  0.00547 ** \n",
       "Test          3.7859     0.2647  14.301  < 2e-16 ***\n",
       "---\n",
       "Signif. codes:  0 '***' 0.001 '**' 0.01 '*' 0.05 '.' 0.1 ' ' 1\n",
       "\n",
       "Residual standard error: 12.05 on 144 degrees of freedom\n",
       "Multiple R-squared:  0.5868,\tAdjusted R-squared:  0.5839 \n",
       "F-statistic: 204.5 on 1 and 144 DF,  p-value: < 2.2e-16\n"
      ]
     },
     "metadata": {},
     "output_type": "display_data"
    }
   ],
   "source": [
    "# 消除一次项\n",
    "examnull.fit = lm(Exam ~ 1, data = course.df)\n",
    "summary(examnull.fit)\n",
    "# 对比之前的 Summary\n",
    "summary(examtest.fit)"
   ]
  },
  {
   "attachments": {},
   "cell_type": "markdown",
   "metadata": {},
   "source": [
    "此时我们可以得到 SS（Null）的值 18.68，以及 SS（Test）的值 12.05。\n",
    "\n",
    "R 方的值即 1 - SS（Null）/SS（Test）的值，即 0.5868。"
   ]
  },
  {
   "attachments": {},
   "cell_type": "markdown",
   "metadata": {},
   "source": [
    "置信区间：$[a_i - 2SE(a_i), a_i + 2SE(a_i)]$，即 $[a_i - 2\\sqrt{Var(a_i)}, a_i + 2\\sqrt{Var(a_i)}]$，其中 $Var(a_i)$ 为 $a_i$ 的方差。"
   ]
  },
  {
   "attachments": {},
   "cell_type": "markdown",
   "metadata": {},
   "source": [
    "### 每一个拟合值的 T 检验\n",
    "\n",
    "> 知道看什么，什么意思，怎么看"
   ]
  },
  {
   "cell_type": "code",
   "execution_count": 32,
   "metadata": {
    "vscode": {
     "languageId": "r"
    }
   },
   "outputs": [
    {
     "data": {
      "text/plain": [
       "\n",
       "Call:\n",
       "lm(formula = Exam ~ Test, data = course.df)\n",
       "\n",
       "Residuals:\n",
       "    Min      1Q  Median      3Q     Max \n",
       "-39.980  -6.471   0.826   8.575  33.242 \n",
       "\n",
       "Coefficients:\n",
       "            Estimate Std. Error t value Pr(>|t|)    \n",
       "(Intercept)   9.0845     3.2204   2.821  0.00547 ** \n",
       "Test          3.7859     0.2647  14.301  < 2e-16 ***\n",
       "---\n",
       "Signif. codes:  0 '***' 0.001 '**' 0.01 '*' 0.05 '.' 0.1 ' ' 1\n",
       "\n",
       "Residual standard error: 12.05 on 144 degrees of freedom\n",
       "Multiple R-squared:  0.5868,\tAdjusted R-squared:  0.5839 \n",
       "F-statistic: 204.5 on 1 and 144 DF,  p-value: < 2.2e-16\n"
      ]
     },
     "metadata": {},
     "output_type": "display_data"
    }
   ],
   "source": [
    "summary(examtest.fit)"
   ]
  },
  {
   "attachments": {},
   "cell_type": "markdown",
   "metadata": {},
   "source": [
    "可以看出 Test 行的 Pr（P-value）的值小于 2.2x10^-16，远小于 0.05，故拒绝原假设，即拟合值的系（旁边的3颗*也表示可信度极高，即该斜率的线性拟合极好）\n",
    "\n",
    "- 零假设 $H_0$：Test 和 Exam 之间的线性关系系数为 0（没有线性关系），即 即 $a_i$ 的系数为 0\n",
    "- 备择假设 $H_1$：Test 和 Exam 之间的线性关系系数不为 0（有线性关系），即 即 $a_i$ 的系数不为 0\n",
    "\n",
    "我们对于斜率的置信程度，是由标准误差决定的，即 $SE(a_i)$，即 $SE(a_i) = \\sqrt{\\frac{SSE}{n-2}}$，其中 SSE 为残差平方和，即 $SSE = \\sum_{i=1}^n (y_i - \\hat{y_i})^2$，其中 $\\hat{y_i}$ 为第 $i$ 个观测值的预测值，即 $\\hat{y_i} = a_i + b_i x_i$，$x_i$ 为第 $i$ 个观测值的自变量值。此处的 $se(a)$ 为 0.2647。于是我们有：\n",
    "\n",
    "$$\n",
    "\\frac{3.7859 - 0}{0.2647} = 14.34\n",
    "$$\n",
    "\n",
    "此结果表示偏离此结果的标准差，这个数字越大，代表我们对于斜率的置信程度越高。"
   ]
  },
  {
   "attachments": {},
   "cell_type": "markdown",
   "metadata": {},
   "source": [
    "## 利用分析结果做预测\n",
    "\n",
    "### 拟合值的置信区间"
   ]
  },
  {
   "cell_type": "code",
   "execution_count": 33,
   "metadata": {
    "vscode": {
     "languageId": "r"
    }
   },
   "outputs": [
    {
     "data": {
      "text/html": [
       "<table class=\"dataframe\">\n",
       "<caption>A matrix: 2 × 2 of type dbl</caption>\n",
       "<thead>\n",
       "\t<tr><th></th><th scope=col>2.5 %</th><th scope=col>97.5 %</th></tr>\n",
       "</thead>\n",
       "<tbody>\n",
       "\t<tr><th scope=row>(Intercept)</th><td>2.719020</td><td>15.449907</td></tr>\n",
       "\t<tr><th scope=row>Test</th><td>3.262659</td><td> 4.309189</td></tr>\n",
       "</tbody>\n",
       "</table>\n"
      ],
      "text/latex": [
       "A matrix: 2 × 2 of type dbl\n",
       "\\begin{tabular}{r|ll}\n",
       "  & 2.5 \\% & 97.5 \\%\\\\\n",
       "\\hline\n",
       "\t(Intercept) & 2.719020 & 15.449907\\\\\n",
       "\tTest & 3.262659 &  4.309189\\\\\n",
       "\\end{tabular}\n"
      ],
      "text/markdown": [
       "\n",
       "A matrix: 2 × 2 of type dbl\n",
       "\n",
       "| <!--/--> | 2.5 % | 97.5 % |\n",
       "|---|---|---|\n",
       "| (Intercept) | 2.719020 | 15.449907 |\n",
       "| Test | 3.262659 |  4.309189 |\n",
       "\n"
      ],
      "text/plain": [
       "            2.5 %    97.5 %   \n",
       "(Intercept) 2.719020 15.449907\n",
       "Test        3.262659  4.309189"
      ]
     },
     "metadata": {},
     "output_type": "display_data"
    },
    {
     "data": {
      "text/html": [
       "<table class=\"dataframe\">\n",
       "<caption>A matrix: 2 × 2 of type dbl</caption>\n",
       "<thead>\n",
       "\t<tr><th></th><th scope=col>0.5 %</th><th scope=col>99.5 %</th></tr>\n",
       "</thead>\n",
       "<tbody>\n",
       "\t<tr><th scope=row>(Intercept)</th><td>0.6778171</td><td>17.491110</td></tr>\n",
       "\t<tr><th scope=row>Test</th><td>3.0948635</td><td> 4.476984</td></tr>\n",
       "</tbody>\n",
       "</table>\n"
      ],
      "text/latex": [
       "A matrix: 2 × 2 of type dbl\n",
       "\\begin{tabular}{r|ll}\n",
       "  & 0.5 \\% & 99.5 \\%\\\\\n",
       "\\hline\n",
       "\t(Intercept) & 0.6778171 & 17.491110\\\\\n",
       "\tTest & 3.0948635 &  4.476984\\\\\n",
       "\\end{tabular}\n"
      ],
      "text/markdown": [
       "\n",
       "A matrix: 2 × 2 of type dbl\n",
       "\n",
       "| <!--/--> | 0.5 % | 99.5 % |\n",
       "|---|---|---|\n",
       "| (Intercept) | 0.6778171 | 17.491110 |\n",
       "| Test | 3.0948635 |  4.476984 |\n",
       "\n"
      ],
      "text/plain": [
       "            0.5 %     99.5 %   \n",
       "(Intercept) 0.6778171 17.491110\n",
       "Test        3.0948635  4.476984"
      ]
     },
     "metadata": {},
     "output_type": "display_data"
    }
   ],
   "source": [
    "confint(examtest.fit)\n",
    "# Intercept 即截距，Test 即斜率\n",
    "# 也可以自己修改置信水平\n",
    "confint(examtest.fit, level = 0.99)"
   ]
  },
  {
   "attachments": {},
   "cell_type": "markdown",
   "metadata": {},
   "source": [
    "### 预测\n",
    "\n",
    "1. 准确预测值\n",
    "2. 预测的均值范围\n",
    "3. 预测每一个个体的取值范围\n",
    "\n",
    "区间估计和点估计的区别：\n",
    "\n",
    "- 区间估计：给出一个区间，表示参数的可能取值范围\n",
    "- 点估计：给出一个点，表示参数的可能取值"
   ]
  },
  {
   "cell_type": "code",
   "execution_count": 34,
   "metadata": {
    "vscode": {
     "languageId": "r"
    }
   },
   "outputs": [
    {
     "data": {
      "text/html": [
       "<table class=\"dataframe\">\n",
       "<caption>A matrix: 3 × 3 of type dbl</caption>\n",
       "<thead>\n",
       "\t<tr><th></th><th scope=col>fit</th><th scope=col>lwr</th><th scope=col>upr</th></tr>\n",
       "</thead>\n",
       "<tbody>\n",
       "\t<tr><th scope=row>1</th><td> 9.084463</td><td> 2.71902</td><td>15.44991</td></tr>\n",
       "\t<tr><th scope=row>2</th><td>46.943703</td><td>44.80912</td><td>49.07828</td></tr>\n",
       "\t<tr><th scope=row>3</th><td>84.802942</td><td>79.97021</td><td>89.63568</td></tr>\n",
       "</tbody>\n",
       "</table>\n"
      ],
      "text/latex": [
       "A matrix: 3 × 3 of type dbl\n",
       "\\begin{tabular}{r|lll}\n",
       "  & fit & lwr & upr\\\\\n",
       "\\hline\n",
       "\t1 &  9.084463 &  2.71902 & 15.44991\\\\\n",
       "\t2 & 46.943703 & 44.80912 & 49.07828\\\\\n",
       "\t3 & 84.802942 & 79.97021 & 89.63568\\\\\n",
       "\\end{tabular}\n"
      ],
      "text/markdown": [
       "\n",
       "A matrix: 3 × 3 of type dbl\n",
       "\n",
       "| <!--/--> | fit | lwr | upr |\n",
       "|---|---|---|---|\n",
       "| 1 |  9.084463 |  2.71902 | 15.44991 |\n",
       "| 2 | 46.943703 | 44.80912 | 49.07828 |\n",
       "| 3 | 84.802942 | 79.97021 | 89.63568 |\n",
       "\n"
      ],
      "text/plain": [
       "  fit       lwr      upr     \n",
       "1  9.084463  2.71902 15.44991\n",
       "2 46.943703 44.80912 49.07828\n",
       "3 84.802942 79.97021 89.63568"
      ]
     },
     "metadata": {},
     "output_type": "display_data"
    },
    {
     "data": {
      "text/html": [
       "<table class=\"dataframe\">\n",
       "<caption>A matrix: 3 × 3 of type dbl</caption>\n",
       "<thead>\n",
       "\t<tr><th></th><th scope=col>fit</th><th scope=col>lwr</th><th scope=col>upr</th></tr>\n",
       "</thead>\n",
       "<tbody>\n",
       "\t<tr><th scope=row>1</th><td> 9.084463</td><td>-15.56475</td><td> 33.73368</td></tr>\n",
       "\t<tr><th scope=row>2</th><td>46.943703</td><td> 23.03510</td><td> 70.85231</td></tr>\n",
       "\t<tr><th scope=row>3</th><td>84.802942</td><td> 60.50438</td><td>109.10151</td></tr>\n",
       "</tbody>\n",
       "</table>\n"
      ],
      "text/latex": [
       "A matrix: 3 × 3 of type dbl\n",
       "\\begin{tabular}{r|lll}\n",
       "  & fit & lwr & upr\\\\\n",
       "\\hline\n",
       "\t1 &  9.084463 & -15.56475 &  33.73368\\\\\n",
       "\t2 & 46.943703 &  23.03510 &  70.85231\\\\\n",
       "\t3 & 84.802942 &  60.50438 & 109.10151\\\\\n",
       "\\end{tabular}\n"
      ],
      "text/markdown": [
       "\n",
       "A matrix: 3 × 3 of type dbl\n",
       "\n",
       "| <!--/--> | fit | lwr | upr |\n",
       "|---|---|---|---|\n",
       "| 1 |  9.084463 | -15.56475 |  33.73368 |\n",
       "| 2 | 46.943703 |  23.03510 |  70.85231 |\n",
       "| 3 | 84.802942 |  60.50438 | 109.10151 |\n",
       "\n"
      ],
      "text/plain": [
       "  fit       lwr       upr      \n",
       "1  9.084463 -15.56475  33.73368\n",
       "2 46.943703  23.03510  70.85231\n",
       "3 84.802942  60.50438 109.10151"
      ]
     },
     "metadata": {},
     "output_type": "display_data"
    }
   ],
   "source": [
    "# 区间估计\n",
    "preds.df <- data.frame(Test = seq(0, 20, by = 10))\n",
    "predict(examtest.fit, newdata = preds.df, interval = \"confidence\")\n",
    "# 点估计\n",
    "predict(examtest.fit, newdata = preds.df, interval = \"prediction\")"
   ]
  },
  {
   "attachments": {},
   "cell_type": "markdown",
   "metadata": {},
   "source": [
    "其中：\n",
    "\n",
    "- 区间估计表格的 [2,2:3] 表示所有半期考试10分，期末考试的分数的均值的范围\n",
    "- 区间估计表格的 [2,2:3] 表示所有半期考试10分个体的分数的范围，落在这个范围即为正常值"
   ]
  },
  {
   "attachments": {},
   "cell_type": "markdown",
   "metadata": {},
   "source": [
    "## 总结\n",
    "\n",
    "遇到此类问题，通用思路（适用于分析x和y两个未知数的某种关系）：\n",
    "\n",
    "- 绘制数据散点图并简要查看自变量与因变量之间是哪种关系（如果有关系），最好是能够通过工具分析（也可能会有一份研究意图的声明可以被指导）。提出适当的研究方式。在上边的例子中，我们就决定采用了线性模型：\n",
    "\n",
    "    $$\n",
    "    y = β_0 + β_1x_i + ε_i, ε_i ∼ N(0, σ^2) (where β_1 > 0)\n",
    "    $$\n",
    "\n",
    "- 使用 `lm` 函数进行模型拟合。\n",
    "- 检查我们提出的假设进行合适方式的验证。\n",
    "    - Independence OK? (how were the data collected?)\n",
    "    - EOV Okay? Using `plot(examtest.fit, which = 1)`.\n",
    "    - Normality Okay? Using `normcheck`.\n",
    "    \n",
    "    If these are okay then go to next step.\n",
    "- 尝试适时删除任何不重要的解释变量（后面会讲）。如果能删除，请检查新的研究方式。\n",
    "- 确保个别要点不会产生过分的不适当的影响，并尝试删除/纠正它们。Using `cooks20x`.\n",
    "- 做出结论/预测，讨论极限，并回答相关的研究问题。\n",
    "\n",
    "注意：在上述步骤中，在对当前步骤满意之前，切记不要匆忙进行下一步。"
   ]
  }
 ],
 "metadata": {
  "kernelspec": {
   "display_name": "R",
   "language": "R",
   "name": "ir"
  },
  "language_info": {
   "codemirror_mode": "r",
   "file_extension": ".r",
   "mimetype": "text/x-r-source",
   "name": "R",
   "pygments_lexer": "r",
   "version": "4.2.2"
  },
  "orig_nbformat": 4
 },
 "nbformat": 4,
 "nbformat_minor": 2
}
