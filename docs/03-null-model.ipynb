{
 "cells": [
  {
   "attachments": {},
   "cell_type": "markdown",
   "metadata": {},
   "source": [
    "# The null model\n",
    "\n",
    "本课程前置需要装的包："
   ]
  },
  {
   "cell_type": "code",
   "execution_count": null,
   "metadata": {
    "tags": [
     "hide-output"
    ],
    "vscode": {
     "languageId": "r"
    }
   },
   "outputs": [],
   "source": [
    "require(s20x)\n",
    "require(bootstrap)"
   ]
  },
  {
   "attachments": {},
   "cell_type": "markdown",
   "metadata": {},
   "source": [
    "## Revisiting the null model 回顾零模型\n",
    "\n",
    "本节同样以 Stats20x 的学生考试成绩为例："
   ]
  },
  {
   "cell_type": "code",
   "execution_count": null,
   "metadata": {
    "vscode": {
     "languageId": "r"
    }
   },
   "outputs": [],
   "source": [
    "Stats20x.df <- read.table(\"../data/STATS20x.txt\", header = TRUE, sep = \"\\t\")"
   ]
  },
  {
   "attachments": {},
   "cell_type": "markdown",
   "metadata": {
    "notebookRunGroups": {
     "groupValue": ""
    }
   },
   "source": [
    "零模型就是把线性模型中的斜率去掉，或斜率指定常数，从而排除其影响单独分析截距。本节将重点讲述零模型的最大作用：T检验。\n",
    "\n",
    "> [一文详解t检验 - 知乎](https://zhuanlan.zhihu.com/p/138711532)\n",
    "> \n",
    "> t检验（t test）又称学生t检验（Student t-test）可以说是统计推断中非常常见的一种检验方法，用于统计量服从正态分布，但方差未知的情况。\n",
    "> \n",
    "> t检验的前提是要求样本服从正态分布或近似正态分布，不然可以利用一些变换（取对数、开根号、倒数等等）试图将其转化为服从正态分布是数据，如若还是不满足正态分布，只能利用非参数检验方法。不过当样本量大于30的时候，可以认为数据近似正态分布。\n",
    "> \n",
    "> t检验最常见的四个用途：\n",
    "> \n",
    "> - 单样本均值检验（One-sample t-test）\n",
    ">   用于检验 “总体方差未知、正态数据或近似正态的” 单样本的均值，是否与已知的总体均值相等。\n",
    "> - 两独立样本均值检验（Independent two-sample t-test）\n",
    ">   用于检验两对 “独立的，正态数据或近似正态的” 样本的均值是否相等，这里可根据总体方差是否相等分类讨论。\n",
    "> - 配对样本均值检验（Dependent t-test for paired samples）\n",
    ">   用于检验一对配对样本的均值的差，是否等于某一个值\n",
    "> - 回归系数的显著性检验（t-test for regression coefficient significance）\n",
    ">   用于检验回归模型的解释变量，对被解释变量是否有显著影响"
   ]
  },
  {
   "cell_type": "code",
   "execution_count": null,
   "metadata": {
    "vscode": {
     "languageId": "r"
    }
   },
   "outputs": [
    {
     "data": {
      "image/png": "[encoded data removed]",
      "text/plain": [
       "plot without title"
      ]
     },
     "metadata": {
      "image/png": {
       "height": 420,
       "width": 420
      }
     },
     "output_type": "display_data"
    }
   ],
   "source": [
    "# 建立回归模型\n",
    "examtest.fit <- lm(Exam ~ Test, data = Stats20x.df)\n",
    "examtest.fit2 <- lm(Exam ~ 1, data = Stats20x.df)\n",
    "\n",
    "# 绘图\n",
    "plot(Exam ~ Test, data = Stats20x.df, col = \"grey\")\n",
    "abline(examtest.fit, col = \"blue\", lty = 2)\n",
    "abline(examtest.fit2, col = \"red\", lty = 2)"
   ]
  },
  {
   "attachments": {},
   "cell_type": "markdown",
   "metadata": {},
   "source": [
    "推断总体均值：\n",
    "\n",
    "To save some typing we’ll let y be the vector Stats20x.df$Exam of exam scores."
   ]
  },
  {
   "cell_type": "code",
   "execution_count": null,
   "metadata": {
    "vscode": {
     "languageId": "r"
    }
   },
   "outputs": [
    {
     "data": {
      "image/png": "[encoded data removed]",
      "text/plain": [
       "Plot with title \"\""
      ]
     },
     "metadata": {
      "image/png": {
       "height": 420,
       "width": 420
      }
     },
     "output_type": "display_data"
    }
   ],
   "source": [
    "y=Stats20x.df$Exam\n",
    "hist(y,breaks=20,main=\"\") #Use main to suppress plot title"
   ]
  },
  {
   "attachments": {},
   "cell_type": "markdown",
   "metadata": {},
   "source": [
    "继续使用零模型做线性回归，使其更关注于y值的置信关系与p检验。"
   ]
  },
  {
   "cell_type": "code",
   "execution_count": null,
   "metadata": {
    "vscode": {
     "languageId": "r"
    }
   },
   "outputs": [
    {
     "data": {
      "text/html": [
       "<table class=\"dataframe\">\n",
       "<caption>A matrix: 1 × 4 of type dbl</caption>\n",
       "<thead>\n",
       "\t<tr><th></th><th scope=col>Estimate</th><th scope=col>Std. Error</th><th scope=col>t value</th><th scope=col>Pr(&gt;|t|)</th></tr>\n",
       "</thead>\n",
       "<tbody>\n",
       "\t<tr><th scope=row>(Intercept)</th><td>52.87671</td><td>1.545802</td><td>34.20666</td><td>2.632011e-71</td></tr>\n",
       "</tbody>\n",
       "</table>\n"
      ],
      "text/latex": [
       "A matrix: 1 × 4 of type dbl\n",
       "\\begin{tabular}{r|llll}\n",
       "  & Estimate & Std. Error & t value & Pr(>\\textbar{}t\\textbar{})\\\\\n",
       "\\hline\n",
       "\t(Intercept) & 52.87671 & 1.545802 & 34.20666 & 2.632011e-71\\\\\n",
       "\\end{tabular}\n"
      ],
      "text/markdown": [
       "\n",
       "A matrix: 1 × 4 of type dbl\n",
       "\n",
       "| <!--/--> | Estimate | Std. Error | t value | Pr(&gt;|t|) |\n",
       "|---|---|---|---|---|\n",
       "| (Intercept) | 52.87671 | 1.545802 | 34.20666 | 2.632011e-71 |\n",
       "\n"
      ],
      "text/plain": [
       "            Estimate Std. Error t value  Pr(>|t|)    \n",
       "(Intercept) 52.87671 1.545802   34.20666 2.632011e-71"
      ]
     },
     "metadata": {},
     "output_type": "display_data"
    },
    {
     "data": {
      "text/html": [
       "<table class=\"dataframe\">\n",
       "<caption>A matrix: 1 × 2 of type dbl</caption>\n",
       "<thead>\n",
       "\t<tr><th></th><th scope=col>2.5 %</th><th scope=col>97.5 %</th></tr>\n",
       "</thead>\n",
       "<tbody>\n",
       "\t<tr><th scope=row>(Intercept)</th><td>49.8215</td><td>55.93193</td></tr>\n",
       "</tbody>\n",
       "</table>\n"
      ],
      "text/latex": [
       "A matrix: 1 × 2 of type dbl\n",
       "\\begin{tabular}{r|ll}\n",
       "  & 2.5 \\% & 97.5 \\%\\\\\n",
       "\\hline\n",
       "\t(Intercept) & 49.8215 & 55.93193\\\\\n",
       "\\end{tabular}\n"
      ],
      "text/markdown": [
       "\n",
       "A matrix: 1 × 2 of type dbl\n",
       "\n",
       "| <!--/--> | 2.5 % | 97.5 % |\n",
       "|---|---|---|\n",
       "| (Intercept) | 49.8215 | 55.93193 |\n",
       "\n"
      ],
      "text/plain": [
       "            2.5 %   97.5 %  \n",
       "(Intercept) 49.8215 55.93193"
      ]
     },
     "metadata": {},
     "output_type": "display_data"
    }
   ],
   "source": [
    "null.fit = lm(y ~ 1)\n",
    "# Only give coefficients from summary 将系数板块单独提取出做展示\n",
    "coef(summary(null.fit))\n",
    "# 获得该零模型的对应置信区间\n",
    "confint(null.fit)"
   ]
  },
  {
   "attachments": {},
   "cell_type": "markdown",
   "metadata": {},
   "source": [
    "Conclusion:\n",
    "\n",
    "- The near zero $Pr(>|t|)$ p-value totally rejects(拒绝) the null hypothesis(零假设) that $H0 : µ ≡ β0 = 0$.\n",
    "- The 95% confidence interval(置信区间) for $µ$ is 49.82 to 55.93."
   ]
  },
  {
   "attachments": {},
   "cell_type": "markdown",
   "metadata": {},
   "source": [
    "## Revisiting the t-test\n",
    "\n",
    "$$\n",
    "T = \\frac\n",
    "{\\bar{y} - \\mu}\n",
    "{\\frac{s}{\\sqrt n}} \\sim t_{n-1}\n",
    "$$\n",
    "\n",
    "其中 $\\bar{y}$ 为样本均值，$s$ 为样本标准差。\n",
    "\n",
    "$$\n",
    "s=\\sqrt{\\frac{1}{n-1}\\sum_{i=1}^n(X_i-\\bar X)^2}\n",
    "$$"
   ]
  },
  {
   "attachments": {},
   "cell_type": "markdown",
   "metadata": {},
   "source": []
  },
  {
   "cell_type": "code",
   "execution_count": null,
   "metadata": {
    "vscode": {
     "languageId": "r"
    }
   },
   "outputs": [
    {
     "data": {
      "text/html": [
       "34.2066579217089"
      ],
      "text/latex": [
       "34.2066579217089"
      ],
      "text/markdown": [
       "34.2066579217089"
      ],
      "text/plain": [
       "[1] 34.20666"
      ]
     },
     "metadata": {},
     "output_type": "display_data"
    }
   ],
   "source": [
    "n=length(y) #146 students\n",
    "tstat=(mean(y)-0)/(sd(y)/sqrt(n)) \n",
    "tstat"
   ]
  },
  {
   "cell_type": "code",
   "execution_count": null,
   "metadata": {
    "vscode": {
     "languageId": "r"
    }
   },
   "outputs": [
    {
     "data": {
      "text/html": [
       "49.8214976403875"
      ],
      "text/latex": [
       "49.8214976403875"
      ],
      "text/markdown": [
       "49.8214976403875"
      ],
      "text/plain": [
       "[1] 49.8215"
      ]
     },
     "metadata": {},
     "output_type": "display_data"
    },
    {
     "data": {
      "text/html": [
       "55.9319270171467"
      ],
      "text/latex": [
       "55.9319270171467"
      ],
      "text/markdown": [
       "55.9319270171467"
      ],
      "text/plain": [
       "[1] 55.93193"
      ]
     },
     "metadata": {},
     "output_type": "display_data"
    },
    {
     "data": {
      "text/html": [
       "<style>\n",
       ".list-inline {list-style: none; margin:0; padding: 0}\n",
       ".list-inline>li {display: inline-block}\n",
       ".list-inline>li:not(:last-child)::after {content: \"\\00b7\"; padding: 0 .5ex}\n",
       "</style>\n",
       "<ol class=list-inline><li>49.8214976403875</li><li>55.9319270171467</li></ol>\n"
      ],
      "text/latex": [
       "\\begin{enumerate*}\n",
       "\\item 49.8214976403875\n",
       "\\item 55.9319270171467\n",
       "\\end{enumerate*}\n"
      ],
      "text/markdown": [
       "1. 49.8214976403875\n",
       "2. 55.9319270171467\n",
       "\n",
       "\n"
      ],
      "text/plain": [
       "[1] 49.82150 55.93193"
      ]
     },
     "metadata": {},
     "output_type": "display_data"
    }
   ],
   "source": [
    "## t-multiplier\n",
    "tmult = qt(1-.05/2, df=n-1)\n",
    "## We want the upper 97.5% (or 1-.05/2) bound of the CI\n",
    "## NOTE: mean = sample mean; sd = standard deviation; sqrt = square root\n",
    "mean(y) - tmult * sd(y) / sqrt(n)\n",
    "\n",
    "## Upper bound of CI 置信区间上限\n",
    "mean(y) + tmult*sd(y)/sqrt(n)\n",
    "## Or if we want both the lower and upper bounds of the CI in one statement\n",
    "## 置信区间下限\n",
    "mean(y) + c(-1,1)*tmult*sd(y)/sqrt(n)"
   ]
  },
  {
   "attachments": {},
   "cell_type": "markdown",
   "metadata": {},
   "source": [
    "零模型就是单样本T检验。"
   ]
  },
  {
   "attachments": {},
   "cell_type": "markdown",
   "metadata": {},
   "source": [
    "手动随机抽样检验我们的结果："
   ]
  },
  {
   "cell_type": "code",
   "execution_count": null,
   "metadata": {
    "vscode": {
     "languageId": "r"
    }
   },
   "outputs": [
    {
     "data": {
      "text/html": [
       "52.8934349315068"
      ],
      "text/latex": [
       "52.8934349315068"
      ],
      "text/markdown": [
       "52.8934349315068"
      ],
      "text/plain": [
       "[1] 52.89343"
      ]
     },
     "metadata": {},
     "output_type": "display_data"
    }
   ],
   "source": [
    "## Resampling the exam marks, N times with replacement:\n",
    "N <- 10000 # The number of bootstrap resamples we want\n",
    "# The new sample means are stored in ybar\n",
    "ybar <- rep(NA, N) ## A vector of length N to store our resampled means\n",
    "\n",
    "## A loop - allows us to do something N (10,000) times\n",
    "for (i in 1:N) {\n",
    "    ## Take the average of this sample (below) from a sample of size n = 146 from y - with replacement\n",
    "    ybar[i] <- mean(sample(y, n, replace = T))\n",
    "}\n",
    "mean(ybar)"
   ]
  },
  {
   "cell_type": "code",
   "execution_count": null,
   "metadata": {
    "vscode": {
     "languageId": "r"
    }
   },
   "outputs": [
    {
     "data": {
      "text/html": [
       "52.8800849315069"
      ],
      "text/latex": [
       "52.8800849315069"
      ],
      "text/markdown": [
       "52.8800849315069"
      ],
      "text/plain": [
       "[1] 52.88008"
      ]
     },
     "metadata": {},
     "output_type": "display_data"
    }
   ],
   "source": [
    "library(bootstrap)\n",
    "ybar = bootstrap(Stats20x.df$Exam, 10000, mean)$thetastar\n",
    "mean(ybar)"
   ]
  },
  {
   "cell_type": "code",
   "execution_count": null,
   "metadata": {
    "vscode": {
     "languageId": "r"
    }
   },
   "outputs": [
    {
     "data": {
      "image/png": "[encoded data removed]",
      "text/plain": [
       "Plot with title \"Histogram of ybar\""
      ]
     },
     "metadata": {
      "image/png": {
       "height": 420,
       "width": 420
      }
     },
     "output_type": "display_data"
    }
   ],
   "source": [
    "## Histogram of these 10,000 bootstrap means \n",
    "hist(ybar,xlab=\"Bootstrapped sample means\")"
   ]
  },
  {
   "attachments": {},
   "cell_type": "markdown",
   "metadata": {},
   "source": [
    "## The paired t-test\n",
    "\n",
    "For a meaningful comparison, We will need to make them have the same scale, so we multiply the test mark by 5 so that it is also out of 100.\n"
   ]
  },
  {
   "cell_type": "code",
   "execution_count": null,
   "metadata": {
    "vscode": {
     "languageId": "r"
    }
   },
   "outputs": [
    {
     "data": {
      "text/html": [
       "<table class=\"dataframe\">\n",
       "<caption>A data.frame: 3 × 3</caption>\n",
       "<thead>\n",
       "\t<tr><th></th><th scope=col>Exam</th><th scope=col>Test</th><th scope=col>Test2</th></tr>\n",
       "\t<tr><th></th><th scope=col>&lt;int&gt;</th><th scope=col>&lt;dbl&gt;</th><th scope=col>&lt;dbl&gt;</th></tr>\n",
       "</thead>\n",
       "<tbody>\n",
       "\t<tr><th scope=row>1</th><td>42</td><td> 9.1</td><td>45.5</td></tr>\n",
       "\t<tr><th scope=row>2</th><td>58</td><td>13.6</td><td>68.0</td></tr>\n",
       "\t<tr><th scope=row>3</th><td>81</td><td>14.5</td><td>72.5</td></tr>\n",
       "</tbody>\n",
       "</table>\n"
      ],
      "text/latex": [
       "A data.frame: 3 × 3\n",
       "\\begin{tabular}{r|lll}\n",
       "  & Exam & Test & Test2\\\\\n",
       "  & <int> & <dbl> & <dbl>\\\\\n",
       "\\hline\n",
       "\t1 & 42 &  9.1 & 45.5\\\\\n",
       "\t2 & 58 & 13.6 & 68.0\\\\\n",
       "\t3 & 81 & 14.5 & 72.5\\\\\n",
       "\\end{tabular}\n"
      ],
      "text/markdown": [
       "\n",
       "A data.frame: 3 × 3\n",
       "\n",
       "| <!--/--> | Exam &lt;int&gt; | Test &lt;dbl&gt; | Test2 &lt;dbl&gt; |\n",
       "|---|---|---|---|\n",
       "| 1 | 42 |  9.1 | 45.5 |\n",
       "| 2 | 58 | 13.6 | 68.0 |\n",
       "| 3 | 81 | 14.5 | 72.5 |\n",
       "\n"
      ],
      "text/plain": [
       "  Exam Test Test2\n",
       "1 42    9.1 45.5 \n",
       "2 58   13.6 68.0 \n",
       "3 81   14.5 72.5 "
      ]
     },
     "metadata": {},
     "output_type": "display_data"
    }
   ],
   "source": [
    "Stats20x.df$Test2 = 5 * Stats20x.df$Test \n",
    "## Check that it worked\n",
    "Stats20x.df[1:3, c(\"Exam\",\"Test\",\"Test2\")]"
   ]
  },
  {
   "cell_type": "code",
   "execution_count": null,
   "metadata": {
    "vscode": {
     "languageId": "r"
    }
   },
   "outputs": [
    {
     "data": {
      "text/html": [
       "<table class=\"dataframe\">\n",
       "<caption>A data.frame: 5 × 3</caption>\n",
       "<thead>\n",
       "\t<tr><th></th><th scope=col>Test2</th><th scope=col>Exam</th><th scope=col>Diff</th></tr>\n",
       "\t<tr><th></th><th scope=col>&lt;dbl&gt;</th><th scope=col>&lt;int&gt;</th><th scope=col>&lt;dbl&gt;</th></tr>\n",
       "</thead>\n",
       "<tbody>\n",
       "\t<tr><th scope=row>1</th><td>45.5</td><td>42</td><td> 3.5</td></tr>\n",
       "\t<tr><th scope=row>2</th><td>68.0</td><td>58</td><td>10.0</td></tr>\n",
       "\t<tr><th scope=row>3</th><td>72.5</td><td>81</td><td>-8.5</td></tr>\n",
       "\t<tr><th scope=row>4</th><td>95.5</td><td>86</td><td> 9.5</td></tr>\n",
       "\t<tr><th scope=row>5</th><td>41.0</td><td>35</td><td> 6.0</td></tr>\n",
       "</tbody>\n",
       "</table>\n"
      ],
      "text/latex": [
       "A data.frame: 5 × 3\n",
       "\\begin{tabular}{r|lll}\n",
       "  & Test2 & Exam & Diff\\\\\n",
       "  & <dbl> & <int> & <dbl>\\\\\n",
       "\\hline\n",
       "\t1 & 45.5 & 42 &  3.5\\\\\n",
       "\t2 & 68.0 & 58 & 10.0\\\\\n",
       "\t3 & 72.5 & 81 & -8.5\\\\\n",
       "\t4 & 95.5 & 86 &  9.5\\\\\n",
       "\t5 & 41.0 & 35 &  6.0\\\\\n",
       "\\end{tabular}\n"
      ],
      "text/markdown": [
       "\n",
       "A data.frame: 5 × 3\n",
       "\n",
       "| <!--/--> | Test2 &lt;dbl&gt; | Exam &lt;int&gt; | Diff &lt;dbl&gt; |\n",
       "|---|---|---|---|\n",
       "| 1 | 45.5 | 42 |  3.5 |\n",
       "| 2 | 68.0 | 58 | 10.0 |\n",
       "| 3 | 72.5 | 81 | -8.5 |\n",
       "| 4 | 95.5 | 86 |  9.5 |\n",
       "| 5 | 41.0 | 35 |  6.0 |\n",
       "\n"
      ],
      "text/plain": [
       "  Test2 Exam Diff\n",
       "1 45.5  42    3.5\n",
       "2 68.0  58   10.0\n",
       "3 72.5  81   -8.5\n",
       "4 95.5  86    9.5\n",
       "5 41.0  35    6.0"
      ]
     },
     "metadata": {},
     "output_type": "display_data"
    }
   ],
   "source": [
    "Stats20x.df$Diff = Stats20x.df$Test2 - Stats20x.df$Exam \n",
    "## Check the first 5 measurements\n",
    "Stats20x.df[1:5, c(\"Test2\",\"Exam\",\"Diff\")]"
   ]
  },
  {
   "cell_type": "code",
   "execution_count": null,
   "metadata": {
    "vscode": {
     "languageId": "r"
    }
   },
   "outputs": [
    {
     "data": {
      "image/png": "[encoded data removed]",
      "text/plain": [
       "Plot with title \"Histogram of Stats20x.df$Diff\""
      ]
     },
     "metadata": {
      "image/png": {
       "height": 420,
       "width": 420
      }
     },
     "output_type": "display_data"
    }
   ],
   "source": [
    "hist(Stats20x.df$Diff)"
   ]
  }
 ],
 "metadata": {
  "kernelspec": {
   "display_name": "R",
   "language": "R",
   "name": "ir"
  },
  "language_info": {
   "codemirror_mode": "r",
   "file_extension": ".r",
   "mimetype": "text/x-r-source",
   "name": "R",
   "pygments_lexer": "r",
   "version": "4.2.2"
  },
  "orig_nbformat": 4
 },
 "nbformat": 4,
 "nbformat_minor": 2
}
