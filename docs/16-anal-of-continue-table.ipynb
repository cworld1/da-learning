{
 "cells": [
  {
   "attachments": {},
   "cell_type": "markdown",
   "metadata": {},
   "source": [
    "# Analysis of contingency tables\n",
    "\n",
    "本节需要的包："
   ]
  },
  {
   "cell_type": "code",
   "execution_count": 1,
   "metadata": {
    "tags": [
     "hide-output"
    ],
    "vscode": {
     "languageId": "r"
    }
   },
   "outputs": [
    {
     "name": "stderr",
     "output_type": "stream",
     "text": [
      "载入需要的程辑包：s20x\n",
      "\n",
      "Warning message:\n",
      "\"程辑包's20x'是用R版本4.2.3 来建造的\"\n"
     ]
    }
   ],
   "source": [
    "require(s20x)\n"
   ]
  },
  {
   "attachments": {},
   "cell_type": "markdown",
   "metadata": {},
   "source": [
    "## Introduction\n",
    "\n",
    "分类统计表"
   ]
  },
  {
   "cell_type": "code",
   "execution_count": 2,
   "metadata": {
    "vscode": {
     "languageId": "r"
    }
   },
   "outputs": [
    {
     "data": {
      "text/html": [
       "<table class=\"dataframe\">\n",
       "<caption>A data.frame: 8 × 3</caption>\n",
       "<thead>\n",
       "\t<tr><th></th><th scope=col>Subject</th><th scope=col>Pass</th><th scope=col>Attend</th></tr>\n",
       "\t<tr><th></th><th scope=col>&lt;int&gt;</th><th scope=col>&lt;chr&gt;</th><th scope=col>&lt;chr&gt;</th></tr>\n",
       "</thead>\n",
       "<tbody>\n",
       "\t<tr><th scope=row>1</th><td>1</td><td>pass</td><td>attend    </td></tr>\n",
       "\t<tr><th scope=row>2</th><td>2</td><td>pass</td><td>attend    </td></tr>\n",
       "\t<tr><th scope=row>3</th><td>3</td><td>pass</td><td>attend    </td></tr>\n",
       "\t<tr><th scope=row>4</th><td>4</td><td>pass</td><td>attend    </td></tr>\n",
       "\t<tr><th scope=row>5</th><td>5</td><td>pass</td><td>attend    </td></tr>\n",
       "\t<tr><th scope=row>6</th><td>6</td><td>fail</td><td>not.attend</td></tr>\n",
       "\t<tr><th scope=row>7</th><td>7</td><td>pass</td><td>not.attend</td></tr>\n",
       "\t<tr><th scope=row>8</th><td>8</td><td>fail</td><td>attend    </td></tr>\n",
       "</tbody>\n",
       "</table>\n"
      ],
      "text/latex": [
       "A data.frame: 8 × 3\n",
       "\\begin{tabular}{r|lll}\n",
       "  & Subject & Pass & Attend\\\\\n",
       "  & <int> & <chr> & <chr>\\\\\n",
       "\\hline\n",
       "\t1 & 1 & pass & attend    \\\\\n",
       "\t2 & 2 & pass & attend    \\\\\n",
       "\t3 & 3 & pass & attend    \\\\\n",
       "\t4 & 4 & pass & attend    \\\\\n",
       "\t5 & 5 & pass & attend    \\\\\n",
       "\t6 & 6 & fail & not.attend\\\\\n",
       "\t7 & 7 & pass & not.attend\\\\\n",
       "\t8 & 8 & fail & attend    \\\\\n",
       "\\end{tabular}\n"
      ],
      "text/markdown": [
       "\n",
       "A data.frame: 8 × 3\n",
       "\n",
       "| <!--/--> | Subject &lt;int&gt; | Pass &lt;chr&gt; | Attend &lt;chr&gt; |\n",
       "|---|---|---|---|\n",
       "| 1 | 1 | pass | attend     |\n",
       "| 2 | 2 | pass | attend     |\n",
       "| 3 | 3 | pass | attend     |\n",
       "| 4 | 4 | pass | attend     |\n",
       "| 5 | 5 | pass | attend     |\n",
       "| 6 | 6 | fail | not.attend |\n",
       "| 7 | 7 | pass | not.attend |\n",
       "| 8 | 8 | fail | attend     |\n",
       "\n"
      ],
      "text/plain": [
       "  Subject Pass Attend    \n",
       "1 1       pass attend    \n",
       "2 2       pass attend    \n",
       "3 3       pass attend    \n",
       "4 4       pass attend    \n",
       "5 5       pass attend    \n",
       "6 6       fail not.attend\n",
       "7 7       pass not.attend\n",
       "8 8       fail attend    "
      ]
     },
     "metadata": {},
     "output_type": "display_data"
    }
   ],
   "source": [
    "AP.df <- read.table(\"../data/AttendPass.txt\", header = T)\n",
    "head(AP.df, 8)\n"
   ]
  },
  {
   "cell_type": "code",
   "execution_count": 3,
   "metadata": {
    "vscode": {
     "languageId": "r"
    }
   },
   "outputs": [
    {
     "data": {
      "text/plain": [
       "            Pass\n",
       "Attend       fail pass\n",
       "  attend       17   83\n",
       "  not.attend   27   19"
      ]
     },
     "metadata": {},
     "output_type": "display_data"
    }
   ],
   "source": [
    "AP.tbl <- with(AP.df, table(Attend, Pass))\n",
    "AP.tbl\n"
   ]
  },
  {
   "cell_type": "code",
   "execution_count": 4,
   "metadata": {
    "vscode": {
     "languageId": "r"
    }
   },
   "outputs": [
    {
     "data": {
      "image/png": "[encoded data removed]",
      "text/plain": [
       "Plot with title \"\""
      ]
     },
     "metadata": {
      "image/png": {
       "height": 420,
       "width": 420
      }
     },
     "output_type": "display_data"
    }
   ],
   "source": [
    "plot(AP.tbl, main = \"\", las = 1)\n"
   ]
  },
  {
   "cell_type": "code",
   "execution_count": 5,
   "metadata": {
    "vscode": {
     "languageId": "r"
    }
   },
   "outputs": [
    {
     "data": {
      "image/png": "[encoded data removed]",
      "text/plain": [
       "plot without title"
      ]
     },
     "metadata": {
      "image/png": {
       "height": 420,
       "width": 420
      }
     },
     "output_type": "display_data"
    }
   ],
   "source": [
    "barplot(t(AP.tbl), legend = T)\n"
   ]
  },
  {
   "attachments": {},
   "cell_type": "markdown",
   "metadata": {},
   "source": [
    "## The binomial approach to contingency table analysis"
   ]
  },
  {
   "cell_type": "code",
   "execution_count": 6,
   "metadata": {
    "vscode": {
     "languageId": "r"
    }
   },
   "outputs": [
    {
     "data": {
      "text/html": [
       "<table class=\"dataframe\">\n",
       "<caption>A data.frame: 2 × 3</caption>\n",
       "<thead>\n",
       "\t<tr><th scope=col>Attend</th><th scope=col>Fail</th><th scope=col>Pass</th></tr>\n",
       "\t<tr><th scope=col>&lt;fct&gt;</th><th scope=col>&lt;dbl&gt;</th><th scope=col>&lt;dbl&gt;</th></tr>\n",
       "</thead>\n",
       "<tbody>\n",
       "\t<tr><td>not.attend</td><td>27</td><td>19</td></tr>\n",
       "\t<tr><td>attend    </td><td>17</td><td>83</td></tr>\n",
       "</tbody>\n",
       "</table>\n"
      ],
      "text/latex": [
       "A data.frame: 2 × 3\n",
       "\\begin{tabular}{lll}\n",
       " Attend & Fail & Pass\\\\\n",
       " <fct> & <dbl> & <dbl>\\\\\n",
       "\\hline\n",
       "\t not.attend & 27 & 19\\\\\n",
       "\t attend     & 17 & 83\\\\\n",
       "\\end{tabular}\n"
      ],
      "text/markdown": [
       "\n",
       "A data.frame: 2 × 3\n",
       "\n",
       "| Attend &lt;fct&gt; | Fail &lt;dbl&gt; | Pass &lt;dbl&gt; |\n",
       "|---|---|---|\n",
       "| not.attend | 27 | 19 |\n",
       "| attend     | 17 | 83 |\n",
       "\n"
      ],
      "text/plain": [
       "  Attend     Fail Pass\n",
       "1 not.attend 27   19  \n",
       "2 attend     17   83  "
      ]
     },
     "metadata": {},
     "output_type": "display_data"
    }
   ],
   "source": [
    "Freqs.df <- data.frame(\n",
    "    Attend = c(\"not.attend\", \"attend\"),\n",
    "    Fail = c(27, 17), Pass = c(19, 83)\n",
    ")\n",
    "Freqs.df <- transform(Freqs.df, Attend = factor(Attend))\n",
    "Freqs.df\n"
   ]
  },
  {
   "cell_type": "code",
   "execution_count": 7,
   "metadata": {
    "vscode": {
     "languageId": "r"
    }
   },
   "outputs": [
    {
     "data": {
      "text/plain": [
       "\n",
       "Call:\n",
       "glm(formula = cbind(Pass, Fail) ~ Attend, family = binomial, \n",
       "    data = Freqs.df)\n",
       "\n",
       "Deviance Residuals: \n",
       "[1]  0  0\n",
       "\n",
       "Coefficients:\n",
       "                 Estimate Std. Error z value Pr(>|z|)    \n",
       "(Intercept)        1.5856     0.2662   5.956 2.58e-09 ***\n",
       "Attendnot.attend  -1.9370     0.4007  -4.834 1.34e-06 ***\n",
       "---\n",
       "Signif. codes:  0 '***' 0.001 '**' 0.01 '*' 0.05 '.' 0.1 ' ' 1\n",
       "\n",
       "(Dispersion parameter for binomial family taken to be 1)\n",
       "\n",
       "    Null deviance:  2.5162e+01  on 1  degrees of freedom\n",
       "Residual deviance: -4.2188e-15  on 0  degrees of freedom\n",
       "AIC: 12.756\n",
       "\n",
       "Number of Fisher Scoring iterations: 3\n"
      ]
     },
     "metadata": {},
     "output_type": "display_data"
    }
   ],
   "source": [
    "AP.binom <- glm(cbind(Pass, Fail) ~ Attend, data = Freqs.df, family = binomial)\n",
    "summary(AP.binom)\n"
   ]
  },
  {
   "cell_type": "code",
   "execution_count": 8,
   "metadata": {
    "vscode": {
     "languageId": "r"
    }
   },
   "outputs": [
    {
     "name": "stderr",
     "output_type": "stream",
     "text": [
      "Waiting for profiling to be done...\n",
      "\n"
     ]
    },
    {
     "data": {
      "text/html": [
       "<style>\n",
       ".dl-inline {width: auto; margin:0; padding: 0}\n",
       ".dl-inline>dt, .dl-inline>dd {float: none; width: auto; display: inline-block}\n",
       ".dl-inline>dt::after {content: \":\\0020\"; padding-right: .5ex}\n",
       ".dl-inline>dt:not(:first-of-type) {padding-left: .5ex}\n",
       "</style><dl class=dl-inline><dt>2.5 %</dt><dd>0.0642983964738622</dd><dt>97.5 %</dt><dd>0.311134072466483</dd></dl>\n"
      ],
      "text/latex": [
       "\\begin{description*}\n",
       "\\item[2.5 \\textbackslash{}\\%] 0.0642983964738622\n",
       "\\item[97.5 \\textbackslash{}\\%] 0.311134072466483\n",
       "\\end{description*}\n"
      ],
      "text/markdown": [
       "2.5 %\n",
       ":   0.064298396473862297.5 %\n",
       ":   0.311134072466483\n",
       "\n"
      ],
      "text/plain": [
       "    2.5 %    97.5 % \n",
       "0.0642984 0.3111341 "
      ]
     },
     "metadata": {},
     "output_type": "display_data"
    }
   ],
   "source": [
    "exp(confint(AP.binom))[2, ]\n"
   ]
  },
  {
   "attachments": {},
   "cell_type": "markdown",
   "metadata": {},
   "source": [
    "## The Poisson approach to contingency table analysis"
   ]
  },
  {
   "cell_type": "code",
   "execution_count": 9,
   "metadata": {
    "vscode": {
     "languageId": "r"
    }
   },
   "outputs": [
    {
     "name": "stderr",
     "output_type": "stream",
     "text": [
      "Warning message:\n",
      "\"程辑包'dplyr'是用R版本4.2.3 来建造的\"\n",
      "\n",
      "载入程辑包：'dplyr'\n",
      "\n",
      "\n",
      "The following objects are masked from 'package:stats':\n",
      "\n",
      "    filter, lag\n",
      "\n",
      "\n",
      "The following objects are masked from 'package:base':\n",
      "\n",
      "    intersect, setdiff, setequal, union\n",
      "\n",
      "\n",
      "\u001b[1m\u001b[22m`summarise()` has grouped output by 'Attend'. You can override using the\n",
      "`.groups` argument.\n"
     ]
    },
    {
     "data": {
      "text/html": [
       "<table class=\"dataframe\">\n",
       "<caption>A data.frame: 4 × 3</caption>\n",
       "<thead>\n",
       "\t<tr><th scope=col>Attend</th><th scope=col>Pass</th><th scope=col>freq</th></tr>\n",
       "\t<tr><th scope=col>&lt;fct&gt;</th><th scope=col>&lt;fct&gt;</th><th scope=col>&lt;int&gt;</th></tr>\n",
       "</thead>\n",
       "<tbody>\n",
       "\t<tr><td>attend    </td><td>fail</td><td>17</td></tr>\n",
       "\t<tr><td>attend    </td><td>pass</td><td>83</td></tr>\n",
       "\t<tr><td>not.attend</td><td>fail</td><td>27</td></tr>\n",
       "\t<tr><td>not.attend</td><td>pass</td><td>19</td></tr>\n",
       "</tbody>\n",
       "</table>\n"
      ],
      "text/latex": [
       "A data.frame: 4 × 3\n",
       "\\begin{tabular}{lll}\n",
       " Attend & Pass & freq\\\\\n",
       " <fct> & <fct> & <int>\\\\\n",
       "\\hline\n",
       "\t attend     & fail & 17\\\\\n",
       "\t attend     & pass & 83\\\\\n",
       "\t not.attend & fail & 27\\\\\n",
       "\t not.attend & pass & 19\\\\\n",
       "\\end{tabular}\n"
      ],
      "text/markdown": [
       "\n",
       "A data.frame: 4 × 3\n",
       "\n",
       "| Attend &lt;fct&gt; | Pass &lt;fct&gt; | freq &lt;int&gt; |\n",
       "|---|---|---|\n",
       "| attend     | fail | 17 |\n",
       "| attend     | pass | 83 |\n",
       "| not.attend | fail | 27 |\n",
       "| not.attend | pass | 19 |\n",
       "\n"
      ],
      "text/plain": [
       "  Attend     Pass freq\n",
       "1 attend     fail 17  \n",
       "2 attend     pass 83  \n",
       "3 not.attend fail 27  \n",
       "4 not.attend pass 19  "
      ]
     },
     "metadata": {},
     "output_type": "display_data"
    }
   ],
   "source": [
    "library(dplyr)\n",
    "AP.df <- read.table(\"../data/AttendPass.txt\", header = T)\n",
    "AP.df <- transform(AP.df, Pass = factor(Pass), Attend = factor(Attend))\n",
    "Freqs2.df <- AP.df %>%\n",
    "    group_by(Attend, Pass) %>%\n",
    "    summarize(freq = n()) %>%\n",
    "    data.frame()\n",
    "Freqs2.df\n"
   ]
  },
  {
   "cell_type": "code",
   "execution_count": 14,
   "metadata": {
    "vscode": {
     "languageId": "r"
    }
   },
   "outputs": [
    {
     "data": {
      "text/html": [
       "<table class=\"dataframe\">\n",
       "<caption>A matrix: 4 × 4 of type dbl</caption>\n",
       "<thead>\n",
       "\t<tr><th></th><th scope=col>Estimate</th><th scope=col>Std. Error</th><th scope=col>z value</th><th scope=col>Pr(&gt;|z|)</th></tr>\n",
       "</thead>\n",
       "<tbody>\n",
       "\t<tr><th scope=row>(Intercept)</th><td> 3.2958369</td><td>0.1924501</td><td>17.125671</td><td>9.550242e-66</td></tr>\n",
       "\t<tr><th scope=row>Attendattend</th><td>-0.4626235</td><td>0.3096136</td><td>-1.494197</td><td>1.351243e-01</td></tr>\n",
       "\t<tr><th scope=row>Passpass</th><td>-0.3513979</td><td>0.2994472</td><td>-1.173489</td><td>2.405999e-01</td></tr>\n",
       "\t<tr><th scope=row>Attendattend:Passpass</th><td> 1.9370252</td><td>0.4006749</td><td> 4.834407</td><td>1.335434e-06</td></tr>\n",
       "</tbody>\n",
       "</table>\n"
      ],
      "text/latex": [
       "A matrix: 4 × 4 of type dbl\n",
       "\\begin{tabular}{r|llll}\n",
       "  & Estimate & Std. Error & z value & Pr(>\\textbar{}z\\textbar{})\\\\\n",
       "\\hline\n",
       "\t(Intercept) &  3.2958369 & 0.1924501 & 17.125671 & 9.550242e-66\\\\\n",
       "\tAttendattend & -0.4626235 & 0.3096136 & -1.494197 & 1.351243e-01\\\\\n",
       "\tPasspass & -0.3513979 & 0.2994472 & -1.173489 & 2.405999e-01\\\\\n",
       "\tAttendattend:Passpass &  1.9370252 & 0.4006749 &  4.834407 & 1.335434e-06\\\\\n",
       "\\end{tabular}\n"
      ],
      "text/markdown": [
       "\n",
       "A matrix: 4 × 4 of type dbl\n",
       "\n",
       "| <!--/--> | Estimate | Std. Error | z value | Pr(&gt;|z|) |\n",
       "|---|---|---|---|---|\n",
       "| (Intercept) |  3.2958369 | 0.1924501 | 17.125671 | 9.550242e-66 |\n",
       "| Attendattend | -0.4626235 | 0.3096136 | -1.494197 | 1.351243e-01 |\n",
       "| Passpass | -0.3513979 | 0.2994472 | -1.173489 | 2.405999e-01 |\n",
       "| Attendattend:Passpass |  1.9370252 | 0.4006749 |  4.834407 | 1.335434e-06 |\n",
       "\n"
      ],
      "text/plain": [
       "                      Estimate   Std. Error z value   Pr(>|z|)    \n",
       "(Intercept)            3.2958369 0.1924501  17.125671 9.550242e-66\n",
       "Attendattend          -0.4626235 0.3096136  -1.494197 1.351243e-01\n",
       "Passpass              -0.3513979 0.2994472  -1.173489 2.405999e-01\n",
       "Attendattend:Passpass  1.9370252 0.4006749   4.834407 1.335434e-06"
      ]
     },
     "metadata": {},
     "output_type": "display_data"
    },
    {
     "data": {
      "text/html": [
       "<strong>Attendattend:Passpass:</strong> 6.93808049535602"
      ],
      "text/latex": [
       "\\textbf{Attendattend:Passpass:} 6.93808049535602"
      ],
      "text/markdown": [
       "**Attendattend:Passpass:** 6.93808049535602"
      ],
      "text/plain": [
       "Attendattend:Passpass \n",
       "              6.93808 "
      ]
     },
     "metadata": {},
     "output_type": "display_data"
    }
   ],
   "source": [
    "Freqs2.df$Attend <- relevel(Freqs2.df$Attend, ref = \"not.attend\")\n",
    "AP.pois <- glm(freq ~ Attend * Pass, family = poisson, data = Freqs2.df)\n",
    "summary(AP.pois)\n"
   ]
  },
  {
   "attachments": {},
   "cell_type": "markdown",
   "metadata": {},
   "source": [
    "Null deviance 叫做零模型自由度，Residual deviance 叫做残差自由度。\n",
    "\n",
    "残差自由度等于零时，参数个数等于该数据的行数。由此可以推出原数据有 4 行。"
   ]
  },
  {
   "cell_type": "code",
   "execution_count": 11,
   "metadata": {
    "vscode": {
     "languageId": "r"
    }
   },
   "outputs": [
    {
     "name": "stderr",
     "output_type": "stream",
     "text": [
      "Waiting for profiling to be done...\n",
      "\n"
     ]
    },
    {
     "data": {
      "text/html": [
       "<style>\n",
       ".dl-inline {width: auto; margin:0; padding: 0}\n",
       ".dl-inline>dt, .dl-inline>dd {float: none; width: auto; display: inline-block}\n",
       ".dl-inline>dt::after {content: \":\\0020\"; padding-right: .5ex}\n",
       ".dl-inline>dt:not(:first-of-type) {padding-left: .5ex}\n",
       "</style><dl class=dl-inline><dt>2.5 %</dt><dd>3.21404850350281</dd><dt>97.5 %</dt><dd>15.552487384471</dd></dl>\n"
      ],
      "text/latex": [
       "\\begin{description*}\n",
       "\\item[2.5 \\textbackslash{}\\%] 3.21404850350281\n",
       "\\item[97.5 \\textbackslash{}\\%] 15.552487384471\n",
       "\\end{description*}\n"
      ],
      "text/markdown": [
       "2.5 %\n",
       ":   3.2140485035028197.5 %\n",
       ":   15.552487384471\n",
       "\n"
      ],
      "text/plain": [
       "    2.5 %    97.5 % \n",
       " 3.214049 15.552487 "
      ]
     },
     "metadata": {},
     "output_type": "display_data"
    }
   ],
   "source": [
    "exp(confint(AP.pois))[4, ]\n"
   ]
  },
  {
   "attachments": {},
   "cell_type": "markdown",
   "metadata": {},
   "source": [
    "## Equivalence of the binomial and Poisson approaches"
   ]
  },
  {
   "cell_type": "code",
   "execution_count": 12,
   "metadata": {
    "vscode": {
     "languageId": "r"
    }
   },
   "outputs": [
    {
     "data": {
      "text/html": [
       "<table class=\"dataframe\">\n",
       "<caption>A data.frame: 2 × 3</caption>\n",
       "<thead>\n",
       "\t<tr><th scope=col>Attend</th><th scope=col>Fail</th><th scope=col>Pass</th></tr>\n",
       "\t<tr><th scope=col>&lt;fct&gt;</th><th scope=col>&lt;dbl&gt;</th><th scope=col>&lt;dbl&gt;</th></tr>\n",
       "</thead>\n",
       "<tbody>\n",
       "\t<tr><td>not.attend</td><td>27</td><td>19</td></tr>\n",
       "\t<tr><td>attend    </td><td>17</td><td>83</td></tr>\n",
       "</tbody>\n",
       "</table>\n"
      ],
      "text/latex": [
       "A data.frame: 2 × 3\n",
       "\\begin{tabular}{lll}\n",
       " Attend & Fail & Pass\\\\\n",
       " <fct> & <dbl> & <dbl>\\\\\n",
       "\\hline\n",
       "\t not.attend & 27 & 19\\\\\n",
       "\t attend     & 17 & 83\\\\\n",
       "\\end{tabular}\n"
      ],
      "text/markdown": [
       "\n",
       "A data.frame: 2 × 3\n",
       "\n",
       "| Attend &lt;fct&gt; | Fail &lt;dbl&gt; | Pass &lt;dbl&gt; |\n",
       "|---|---|---|\n",
       "| not.attend | 27 | 19 |\n",
       "| attend     | 17 | 83 |\n",
       "\n"
      ],
      "text/plain": [
       "  Attend     Fail Pass\n",
       "1 not.attend 27   19  \n",
       "2 attend     17   83  "
      ]
     },
     "metadata": {},
     "output_type": "display_data"
    },
    {
     "name": "stderr",
     "output_type": "stream",
     "text": [
      "Waiting for profiling to be done...\n",
      "\n"
     ]
    },
    {
     "data": {
      "text/html": [
       "<style>\n",
       ".dl-inline {width: auto; margin:0; padding: 0}\n",
       ".dl-inline>dt, .dl-inline>dd {float: none; width: auto; display: inline-block}\n",
       ".dl-inline>dt::after {content: \":\\0020\"; padding-right: .5ex}\n",
       ".dl-inline>dt:not(:first-of-type) {padding-left: .5ex}\n",
       "</style><dl class=dl-inline><dt>2.5 %</dt><dd>3.21404850350281</dd><dt>97.5 %</dt><dd>15.552487384471</dd></dl>\n"
      ],
      "text/latex": [
       "\\begin{description*}\n",
       "\\item[2.5 \\textbackslash{}\\%] 3.21404850350281\n",
       "\\item[97.5 \\textbackslash{}\\%] 15.552487384471\n",
       "\\end{description*}\n"
      ],
      "text/markdown": [
       "2.5 %\n",
       ":   3.2140485035028197.5 %\n",
       ":   15.552487384471\n",
       "\n"
      ],
      "text/plain": [
       "    2.5 %    97.5 % \n",
       " 3.214049 15.552487 "
      ]
     },
     "metadata": {},
     "output_type": "display_data"
    }
   ],
   "source": [
    "Freqs.df\n",
    "exp(confint(AP.pois))[4, ]\n"
   ]
  },
  {
   "cell_type": "code",
   "execution_count": 13,
   "metadata": {
    "vscode": {
     "languageId": "r"
    }
   },
   "outputs": [
    {
     "data": {
      "text/html": [
       "<style>\n",
       ".dl-inline {width: auto; margin:0; padding: 0}\n",
       ".dl-inline>dt, .dl-inline>dd {float: none; width: auto; display: inline-block}\n",
       ".dl-inline>dt::after {content: \":\\0020\"; padding-right: .5ex}\n",
       ".dl-inline>dt:not(:first-of-type) {padding-left: .5ex}\n",
       "</style><dl class=dl-inline><dt>1</dt><dd>17.0000000000001</dd><dt>2</dt><dd>83.0000000000001</dd><dt>3</dt><dd>27</dd><dt>4</dt><dd>19</dd></dl>\n"
      ],
      "text/latex": [
       "\\begin{description*}\n",
       "\\item[1] 17.0000000000001\n",
       "\\item[2] 83.0000000000001\n",
       "\\item[3] 27\n",
       "\\item[4] 19\n",
       "\\end{description*}\n"
      ],
      "text/markdown": [
       "1\n",
       ":   17.00000000000012\n",
       ":   83.00000000000013\n",
       ":   274\n",
       ":   19\n",
       "\n"
      ],
      "text/plain": [
       " 1  2  3  4 \n",
       "17 83 27 19 "
      ]
     },
     "metadata": {},
     "output_type": "display_data"
    }
   ],
   "source": [
    "predict(AP.pois, type = \"response\")\n"
   ]
  },
  {
   "cell_type": "code",
   "execution_count": 15,
   "metadata": {
    "vscode": {
     "languageId": "r"
    }
   },
   "outputs": [
    {
     "data": {
      "text/html": [
       "<table class=\"dataframe\">\n",
       "<caption>A data.frame: 2 × 3</caption>\n",
       "<thead>\n",
       "\t<tr><th scope=col>Attend</th><th scope=col>Fail</th><th scope=col>Pass</th></tr>\n",
       "\t<tr><th scope=col>&lt;fct&gt;</th><th scope=col>&lt;dbl&gt;</th><th scope=col>&lt;dbl&gt;</th></tr>\n",
       "</thead>\n",
       "<tbody>\n",
       "\t<tr><td>not.attend</td><td>27</td><td>19</td></tr>\n",
       "\t<tr><td>attend    </td><td>17</td><td>83</td></tr>\n",
       "</tbody>\n",
       "</table>\n"
      ],
      "text/latex": [
       "A data.frame: 2 × 3\n",
       "\\begin{tabular}{lll}\n",
       " Attend & Fail & Pass\\\\\n",
       " <fct> & <dbl> & <dbl>\\\\\n",
       "\\hline\n",
       "\t not.attend & 27 & 19\\\\\n",
       "\t attend     & 17 & 83\\\\\n",
       "\\end{tabular}\n"
      ],
      "text/markdown": [
       "\n",
       "A data.frame: 2 × 3\n",
       "\n",
       "| Attend &lt;fct&gt; | Fail &lt;dbl&gt; | Pass &lt;dbl&gt; |\n",
       "|---|---|---|\n",
       "| not.attend | 27 | 19 |\n",
       "| attend     | 17 | 83 |\n",
       "\n"
      ],
      "text/plain": [
       "  Attend     Fail Pass\n",
       "1 not.attend 27   19  \n",
       "2 attend     17   83  "
      ]
     },
     "metadata": {},
     "output_type": "display_data"
    },
    {
     "data": {
      "text/html": [
       "<table class=\"dataframe\">\n",
       "<caption>A matrix: 4 × 4 of type dbl</caption>\n",
       "<thead>\n",
       "\t<tr><th></th><th scope=col>Estimate</th><th scope=col>Std. Error</th><th scope=col>z value</th><th scope=col>Pr(&gt;|z|)</th></tr>\n",
       "</thead>\n",
       "<tbody>\n",
       "\t<tr><th scope=row>(Intercept)</th><td> 3.2958369</td><td>0.1924501</td><td>17.125671</td><td>9.550242e-66</td></tr>\n",
       "\t<tr><th scope=row>Attendattend</th><td>-0.4626235</td><td>0.3096136</td><td>-1.494197</td><td>1.351243e-01</td></tr>\n",
       "\t<tr><th scope=row>Passpass</th><td>-0.3513979</td><td>0.2994472</td><td>-1.173489</td><td>2.405999e-01</td></tr>\n",
       "\t<tr><th scope=row>Attendattend:Passpass</th><td> 1.9370252</td><td>0.4006749</td><td> 4.834407</td><td>1.335434e-06</td></tr>\n",
       "</tbody>\n",
       "</table>\n"
      ],
      "text/latex": [
       "A matrix: 4 × 4 of type dbl\n",
       "\\begin{tabular}{r|llll}\n",
       "  & Estimate & Std. Error & z value & Pr(>\\textbar{}z\\textbar{})\\\\\n",
       "\\hline\n",
       "\t(Intercept) &  3.2958369 & 0.1924501 & 17.125671 & 9.550242e-66\\\\\n",
       "\tAttendattend & -0.4626235 & 0.3096136 & -1.494197 & 1.351243e-01\\\\\n",
       "\tPasspass & -0.3513979 & 0.2994472 & -1.173489 & 2.405999e-01\\\\\n",
       "\tAttendattend:Passpass &  1.9370252 & 0.4006749 &  4.834407 & 1.335434e-06\\\\\n",
       "\\end{tabular}\n"
      ],
      "text/markdown": [
       "\n",
       "A matrix: 4 × 4 of type dbl\n",
       "\n",
       "| <!--/--> | Estimate | Std. Error | z value | Pr(&gt;|z|) |\n",
       "|---|---|---|---|---|\n",
       "| (Intercept) |  3.2958369 | 0.1924501 | 17.125671 | 9.550242e-66 |\n",
       "| Attendattend | -0.4626235 | 0.3096136 | -1.494197 | 1.351243e-01 |\n",
       "| Passpass | -0.3513979 | 0.2994472 | -1.173489 | 2.405999e-01 |\n",
       "| Attendattend:Passpass |  1.9370252 | 0.4006749 |  4.834407 | 1.335434e-06 |\n",
       "\n"
      ],
      "text/plain": [
       "                      Estimate   Std. Error z value   Pr(>|z|)    \n",
       "(Intercept)            3.2958369 0.1924501  17.125671 9.550242e-66\n",
       "Attendattend          -0.4626235 0.3096136  -1.494197 1.351243e-01\n",
       "Passpass              -0.3513979 0.2994472  -1.173489 2.405999e-01\n",
       "Attendattend:Passpass  1.9370252 0.4006749   4.834407 1.335434e-06"
      ]
     },
     "metadata": {},
     "output_type": "display_data"
    },
    {
     "data": {
      "text/html": [
       "<strong>Attendattend:Passpass:</strong> 6.93808049535602"
      ],
      "text/latex": [
       "\\textbf{Attendattend:Passpass:} 6.93808049535602"
      ],
      "text/markdown": [
       "**Attendattend:Passpass:** 6.93808049535602"
      ],
      "text/plain": [
       "Attendattend:Passpass \n",
       "              6.93808 "
      ]
     },
     "metadata": {},
     "output_type": "display_data"
    }
   ],
   "source": [
    "Freqs.df\n",
    "coef(summary(AP.pois))\n",
    "exp(coef(AP.pois))[4]\n"
   ]
  },
  {
   "cell_type": "code",
   "execution_count": null,
   "metadata": {
    "vscode": {
     "languageId": "r"
    }
   },
   "outputs": [],
   "source": [
    "options(digits = 4)\n",
    "OR <- 27 * 83 / (17 * 19)\n",
    "OR\n"
   ]
  }
 ],
 "metadata": {
  "kernelspec": {
   "display_name": "R",
   "language": "R",
   "name": "ir"
  },
  "language_info": {
   "codemirror_mode": "r",
   "file_extension": ".r",
   "mimetype": "text/x-r-source",
   "name": "R",
   "pygments_lexer": "r",
   "version": "4.2.2"
  },
  "orig_nbformat": 4
 },
 "nbformat": 4,
 "nbformat_minor": 2
}
