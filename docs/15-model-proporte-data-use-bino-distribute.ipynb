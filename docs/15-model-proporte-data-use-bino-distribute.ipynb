{
 "cells": [
  {
   "attachments": {},
   "cell_type": "markdown",
   "metadata": {},
   "source": [
    "# Modelling proportion data using the binomial distribution\n",
    "\n",
    "本节需要的包："
   ]
  },
  {
   "cell_type": "code",
   "execution_count": 2,
   "metadata": {
    "tags": [
     "hide-output"
    ],
    "vscode": {
     "languageId": "r"
    }
   },
   "outputs": [
    {
     "name": "stderr",
     "output_type": "stream",
     "text": [
      "载入需要的程辑包：s20x\n",
      "\n",
      "Warning message:\n",
      "\"程辑包's20x'是用R版本4.2.3 来建造的\"\n"
     ]
    }
   ],
   "source": [
    "require(s20x)\n"
   ]
  },
  {
   "attachments": {},
   "cell_type": "markdown",
   "metadata": {},
   "source": [
    "## Binary (Bernoulli) data, odds and log-odds\n",
    "\n",
    "Here we are considering the situation where the response can only take two possible values. These might be coded in the form of:\n",
    "\n",
    "- Zeros or ones.\n",
    "- TRUE or FALSE.\n",
    "- Yes or No.\n",
    "- Success or Failure.\n",
    "- Or any other pair of categorical values.\n",
    "\n",
    "Bernoulli random variables(伯努利随机变量):\n",
    "\n",
    "If Y is a Bernoulli random variable with parameter p, then Y will take the value 1 with probability p, and the value 0 with probability 1 - p. Since it is a probability, p must be a value that is between 0 and 1, i.e. $p ∈ [0, 1]$.\n",
    "\n",
    "很容易表明，伯努利随机变量的平均值为：\n",
    "\n",
    "$$\n",
    "E(Y) = p\n",
    "$$\n",
    "\n",
    "而且，方差为\n",
    "\n",
    "$$\n",
    "Var(Y) = p(1 - p)\n",
    "$$\n",
    "\n",
    "### Odds\n",
    "\n",
    "为了使 glm 对数几率的解释更加容易，我们需要引入 Odds 这个概念，把定义域从 $[0, 1]$ 扩展到 $[0, \\infty]$。\n",
    "\n",
    "Odds 是指事件发生的概率与事件不发生的概率的比值，即：\n",
    "\n",
    "$$\n",
    "Odds = \\frac{p}{1 - p}\n",
    "$$\n",
    "\n",
    "反过来说：\n",
    "\n",
    "$$\n",
    "p = \\frac{Odds}{1 + Odds}\n",
    "$$\n",
    "\n",
    "### Log-odds\n",
    "\n",
    "Odds 的对数（简称为 log-odds）为：\n",
    "\n",
    "$$\n",
    "LogOdds = log(\\frac{p}{1 - p})\n",
    "$$\n",
    "\n",
    "此时定义域从 $[0, \\infty]$ 变为 $[-\\infty, \\infty]$。\n",
    "\n",
    "$$\n",
    "p = \\frac{exp(LogOdds)}{1 + exp(LogOdds)}\n",
    "$$"
   ]
  },
  {
   "attachments": {},
   "cell_type": "markdown",
   "metadata": {},
   "source": [
    "## Modelling log-odds\n",
    "\n",
    "Why log-odds?\n",
    "\n",
    "由于我们的模型对或的值没有限制，所以在设置变量为 $β_0$、$β_1$ 的情况下，$β_0 + β_1 x$ 可以在实线上取任何值。\n",
    "\n",
    "That is, $\\beta_0+\\beta_1x\\in(-\\infty,\\infty)$.\n",
    "\n",
    "$$\n",
    "\\text{Log-Odds}=\\beta_0+\\beta_1x\n",
    "$$\n",
    "\n",
    "Log-Odds can be any real number.\n",
    "\n",
    "即：\n",
    "\n",
    "$$\n",
    "\\text{log}\\left(\\frac{p}{1-p}\\right)=\\beta_0+\\beta_1x\n",
    "$$\n",
    "\n",
    "其中p是解释变量x的主体 \"成功\" 的概率。\n",
    "\n",
    "This can be re-arranged in the logistic form\n",
    "\n",
    "$$\n",
    "p=\\frac{exp(\\beta_0+\\beta_1x)}{1+exp(\\beta_0+\\beta_1x)}\n",
    "$$"
   ]
  },
  {
   "attachments": {},
   "cell_type": "markdown",
   "metadata": {},
   "source": [
    "## Modelling the response when it is binary (ungrouped data) via glm"
   ]
  },
  {
   "cell_type": "code",
   "execution_count": 3,
   "metadata": {
    "vscode": {
     "languageId": "r"
    }
   },
   "outputs": [
    {
     "data": {
      "text/html": [
       "<table class=\"dataframe\">\n",
       "<caption>A data.frame: 10 × 3</caption>\n",
       "<thead>\n",
       "\t<tr><th></th><th scope=col>distance</th><th scope=col>gender</th><th scope=col>basket</th></tr>\n",
       "\t<tr><th></th><th scope=col>&lt;int&gt;</th><th scope=col>&lt;chr&gt;</th><th scope=col>&lt;int&gt;</th></tr>\n",
       "</thead>\n",
       "<tbody>\n",
       "\t<tr><th scope=row>1</th><td>3</td><td>M</td><td>1</td></tr>\n",
       "\t<tr><th scope=row>2</th><td>1</td><td>F</td><td>1</td></tr>\n",
       "\t<tr><th scope=row>3</th><td>2</td><td>M</td><td>1</td></tr>\n",
       "\t<tr><th scope=row>4</th><td>3</td><td>M</td><td>0</td></tr>\n",
       "\t<tr><th scope=row>5</th><td>1</td><td>M</td><td>1</td></tr>\n",
       "\t<tr><th scope=row>6</th><td>2</td><td>F</td><td>1</td></tr>\n",
       "\t<tr><th scope=row>7</th><td>2</td><td>F</td><td>1</td></tr>\n",
       "\t<tr><th scope=row>8</th><td>1</td><td>F</td><td>1</td></tr>\n",
       "\t<tr><th scope=row>9</th><td>3</td><td>F</td><td>0</td></tr>\n",
       "\t<tr><th scope=row>10</th><td>1</td><td>F</td><td>1</td></tr>\n",
       "</tbody>\n",
       "</table>\n"
      ],
      "text/latex": [
       "A data.frame: 10 × 3\n",
       "\\begin{tabular}{r|lll}\n",
       "  & distance & gender & basket\\\\\n",
       "  & <int> & <chr> & <int>\\\\\n",
       "\\hline\n",
       "\t1 & 3 & M & 1\\\\\n",
       "\t2 & 1 & F & 1\\\\\n",
       "\t3 & 2 & M & 1\\\\\n",
       "\t4 & 3 & M & 0\\\\\n",
       "\t5 & 1 & M & 1\\\\\n",
       "\t6 & 2 & F & 1\\\\\n",
       "\t7 & 2 & F & 1\\\\\n",
       "\t8 & 1 & F & 1\\\\\n",
       "\t9 & 3 & F & 0\\\\\n",
       "\t10 & 1 & F & 1\\\\\n",
       "\\end{tabular}\n"
      ],
      "text/markdown": [
       "\n",
       "A data.frame: 10 × 3\n",
       "\n",
       "| <!--/--> | distance &lt;int&gt; | gender &lt;chr&gt; | basket &lt;int&gt; |\n",
       "|---|---|---|---|\n",
       "| 1 | 3 | M | 1 |\n",
       "| 2 | 1 | F | 1 |\n",
       "| 3 | 2 | M | 1 |\n",
       "| 4 | 3 | M | 0 |\n",
       "| 5 | 1 | M | 1 |\n",
       "| 6 | 2 | F | 1 |\n",
       "| 7 | 2 | F | 1 |\n",
       "| 8 | 1 | F | 1 |\n",
       "| 9 | 3 | F | 0 |\n",
       "| 10 | 1 | F | 1 |\n",
       "\n"
      ],
      "text/plain": [
       "   distance gender basket\n",
       "1  3        M      1     \n",
       "2  1        F      1     \n",
       "3  2        M      1     \n",
       "4  3        M      0     \n",
       "5  1        M      1     \n",
       "6  2        F      1     \n",
       "7  2        F      1     \n",
       "8  1        F      1     \n",
       "9  3        F      0     \n",
       "10 1        F      1     "
      ]
     },
     "metadata": {},
     "output_type": "display_data"
    }
   ],
   "source": [
    "bb.df <- read.csv(\"../data/basketball.csv\")\n",
    "head(bb.df, 10)\n"
   ]
  },
  {
   "cell_type": "code",
   "execution_count": 4,
   "metadata": {
    "vscode": {
     "languageId": "r"
    }
   },
   "outputs": [
    {
     "data": {
      "text/plain": [
       "        gender\n",
       "distance  F  M\n",
       "       1 10 10\n",
       "       2  6  5\n",
       "       3  2  1"
      ]
     },
     "metadata": {},
     "output_type": "display_data"
    }
   ],
   "source": [
    "success.tbl <- xtabs(basket ~ distance + gender, data = bb.df)\n",
    "success.tbl\n"
   ]
  },
  {
   "cell_type": "code",
   "execution_count": 5,
   "metadata": {
    "vscode": {
     "languageId": "r"
    }
   },
   "outputs": [],
   "source": [
    "bb.fit <- glm(\n",
    "    basket ~ distance * gender,\n",
    "    family = binomial, # binomial distribution\n",
    "    data = bb.df\n",
    ")\n"
   ]
  },
  {
   "cell_type": "code",
   "execution_count": 6,
   "metadata": {
    "vscode": {
     "languageId": "r"
    }
   },
   "outputs": [
    {
     "data": {
      "image/png": "[encoded data removed]",
      "text/plain": [
       "Plot with title \"\""
      ]
     },
     "metadata": {
      "image/png": {
       "height": 420,
       "width": 420
      }
     },
     "output_type": "display_data"
    }
   ],
   "source": [
    "plot(bb.fit, which = 1, lty = 2)\n"
   ]
  },
  {
   "cell_type": "code",
   "execution_count": 7,
   "metadata": {
    "vscode": {
     "languageId": "r"
    }
   },
   "outputs": [
    {
     "data": {
      "text/plain": [
       "\n",
       "Call:\n",
       "glm(formula = basket ~ distance * gender, family = binomial, \n",
       "    data = bb.df)\n",
       "\n",
       "Deviance Residuals: \n",
       "    Min       1Q   Median       3Q      Max  \n",
       "-1.5106  -0.5900   0.2723   0.2866   2.3474  \n",
       "\n",
       "Coefficients:\n",
       "                 Estimate Std. Error z value Pr(>|z|)   \n",
       "(Intercept)        5.5878     1.9050   2.933  0.00335 **\n",
       "distance          -2.4159     0.8181  -2.953  0.00314 **\n",
       "genderM            0.6710     2.9235   0.230  0.81847   \n",
       "distance:genderM  -0.5668     1.3213  -0.429  0.66794   \n",
       "---\n",
       "Signif. codes:  0 '***' 0.001 '**' 0.01 '*' 0.05 '.' 0.1 ' ' 1\n",
       "\n",
       "(Dispersion parameter for binomial family taken to be 1)\n",
       "\n",
       "    Null deviance: 82.108  on 59  degrees of freedom\n",
       "Residual deviance: 46.202  on 56  degrees of freedom\n",
       "AIC: 54.202\n",
       "\n",
       "Number of Fisher Scoring iterations: 5\n"
      ]
     },
     "metadata": {},
     "output_type": "display_data"
    }
   ],
   "source": [
    "summary(bb.fit)\n"
   ]
  },
  {
   "cell_type": "code",
   "execution_count": 8,
   "metadata": {
    "vscode": {
     "languageId": "r"
    }
   },
   "outputs": [
    {
     "data": {
      "text/plain": [
       "\n",
       "Call:\n",
       "glm(formula = basket ~ distance + gender, family = binomial, \n",
       "    data = bb.df)\n",
       "\n",
       "Deviance Residuals: \n",
       "    Min       1Q   Median       3Q      Max  \n",
       "-1.5382  -0.5411   0.2461   0.3219   2.2283  \n",
       "\n",
       "Coefficients:\n",
       "            Estimate Std. Error z value Pr(>|z|)    \n",
       "(Intercept)   6.1469     1.5242   4.033 5.51e-05 ***\n",
       "distance     -2.6648     0.6364  -4.188 2.82e-05 ***\n",
       "genderM      -0.5478     0.7486  -0.732    0.464    \n",
       "---\n",
       "Signif. codes:  0 '***' 0.001 '**' 0.01 '*' 0.05 '.' 0.1 ' ' 1\n",
       "\n",
       "(Dispersion parameter for binomial family taken to be 1)\n",
       "\n",
       "    Null deviance: 82.108  on 59  degrees of freedom\n",
       "Residual deviance: 46.392  on 57  degrees of freedom\n",
       "AIC: 52.392\n",
       "\n",
       "Number of Fisher Scoring iterations: 5\n"
      ]
     },
     "metadata": {},
     "output_type": "display_data"
    }
   ],
   "source": [
    "bb.fit1 <- glm(basket ~ distance + gender,\n",
    "    family = binomial, data = bb.df\n",
    ")\n",
    "summary(bb.fit1)\n"
   ]
  },
  {
   "cell_type": "code",
   "execution_count": 9,
   "metadata": {
    "vscode": {
     "languageId": "r"
    }
   },
   "outputs": [
    {
     "data": {
      "text/plain": [
       "\n",
       "Call:\n",
       "glm(formula = basket ~ distance, family = binomial, data = bb.df)\n",
       "\n",
       "Deviance Residuals: \n",
       "    Min       1Q   Median       3Q      Max  \n",
       "-1.4118  -0.4818   0.2873   0.2873   2.1029  \n",
       "\n",
       "Coefficients:\n",
       "            Estimate Std. Error z value Pr(>|z|)    \n",
       "(Intercept)   5.7980     1.4038   4.130 3.63e-05 ***\n",
       "distance     -2.6310     0.6274  -4.193 2.75e-05 ***\n",
       "---\n",
       "Signif. codes:  0 '***' 0.001 '**' 0.01 '*' 0.05 '.' 0.1 ' ' 1\n",
       "\n",
       "(Dispersion parameter for binomial family taken to be 1)\n",
       "\n",
       "    Null deviance: 82.108  on 59  degrees of freedom\n",
       "Residual deviance: 46.937  on 58  degrees of freedom\n",
       "AIC: 50.937\n",
       "\n",
       "Number of Fisher Scoring iterations: 5\n"
      ]
     },
     "metadata": {},
     "output_type": "display_data"
    }
   ],
   "source": [
    "bb.fit2 <- glm(basket ~ distance, family = binomial, data = bb.df)\n",
    "summary(bb.fit2)\n"
   ]
  },
  {
   "cell_type": "code",
   "execution_count": 10,
   "metadata": {
    "vscode": {
     "languageId": "r"
    }
   },
   "outputs": [
    {
     "data": {
      "text/html": [
       "<style>\n",
       ".dl-inline {width: auto; margin:0; padding: 0}\n",
       ".dl-inline>dt, .dl-inline>dd {float: none; width: auto; display: inline-block}\n",
       ".dl-inline>dt::after {content: \":\\0020\"; padding-right: .5ex}\n",
       ".dl-inline>dt:not(:first-of-type) {padding-left: .5ex}\n",
       "</style><dl class=dl-inline><dt>(Intercept)</dt><dd>5.79796774980359</dd><dt>distance</dt><dd>-2.63103340427344</dd></dl>\n"
      ],
      "text/latex": [
       "\\begin{description*}\n",
       "\\item[(Intercept)] 5.79796774980359\n",
       "\\item[distance] -2.63103340427344\n",
       "\\end{description*}\n"
      ],
      "text/markdown": [
       "(Intercept)\n",
       ":   5.79796774980359distance\n",
       ":   -2.63103340427344\n",
       "\n"
      ],
      "text/plain": [
       "(Intercept)    distance \n",
       "   5.797968   -2.631033 "
      ]
     },
     "metadata": {},
     "output_type": "display_data"
    }
   ],
   "source": [
    "coef(bb.fit2)\n"
   ]
  },
  {
   "cell_type": "code",
   "execution_count": 11,
   "metadata": {
    "vscode": {
     "languageId": "r"
    }
   },
   "outputs": [
    {
     "data": {
      "text/html": [
       "<style>\n",
       ".dl-inline {width: auto; margin:0; padding: 0}\n",
       ".dl-inline>dt, .dl-inline>dd {float: none; width: auto; display: inline-block}\n",
       ".dl-inline>dt::after {content: \":\\0020\"; padding-right: .5ex}\n",
       ".dl-inline>dt:not(:first-of-type) {padding-left: .5ex}\n",
       "</style><dl class=dl-inline><dt>(Intercept)</dt><dd>329.628990177673</dd><dt>distance</dt><dd>0.0720040145217855</dd></dl>\n"
      ],
      "text/latex": [
       "\\begin{description*}\n",
       "\\item[(Intercept)] 329.628990177673\n",
       "\\item[distance] 0.0720040145217855\n",
       "\\end{description*}\n"
      ],
      "text/markdown": [
       "(Intercept)\n",
       ":   329.628990177673distance\n",
       ":   0.0720040145217855\n",
       "\n"
      ],
      "text/plain": [
       " (Intercept)     distance \n",
       "329.62899018   0.07200401 "
      ]
     },
     "metadata": {},
     "output_type": "display_data"
    },
    {
     "data": {
      "text/html": [
       "<style>\n",
       ".dl-inline {width: auto; margin:0; padding: 0}\n",
       ".dl-inline>dt, .dl-inline>dd {float: none; width: auto; display: inline-block}\n",
       ".dl-inline>dt::after {content: \":\\0020\"; padding-right: .5ex}\n",
       ".dl-inline>dt:not(:first-of-type) {padding-left: .5ex}\n",
       "</style><dl class=dl-inline><dt>(Intercept)</dt><dd>-32862.8990177673</dd><dt>distance</dt><dd>92.7995985478214</dd></dl>\n"
      ],
      "text/latex": [
       "\\begin{description*}\n",
       "\\item[(Intercept)] -32862.8990177673\n",
       "\\item[distance] 92.7995985478214\n",
       "\\end{description*}\n"
      ],
      "text/markdown": [
       "(Intercept)\n",
       ":   -32862.8990177673distance\n",
       ":   92.7995985478214\n",
       "\n"
      ],
      "text/plain": [
       "(Intercept)    distance \n",
       "-32862.8990     92.7996 "
      ]
     },
     "metadata": {},
     "output_type": "display_data"
    }
   ],
   "source": [
    "exp(coef(bb.fit2))\n",
    "100 * (1 - exp(coef(bb.fit2)))\n"
   ]
  },
  {
   "cell_type": "code",
   "execution_count": 12,
   "metadata": {
    "vscode": {
     "languageId": "r"
    }
   },
   "outputs": [
    {
     "name": "stderr",
     "output_type": "stream",
     "text": [
      "Waiting for profiling to be done...\n",
      "\n"
     ]
    },
    {
     "data": {
      "text/html": [
       "<table class=\"dataframe\">\n",
       "<caption>A matrix: 2 × 2 of type dbl</caption>\n",
       "<thead>\n",
       "\t<tr><th></th><th scope=col>2.5 %</th><th scope=col>97.5 %</th></tr>\n",
       "</thead>\n",
       "<tbody>\n",
       "\t<tr><th scope=row>(Intercept)</th><td> 3.422396</td><td> 9.037020</td></tr>\n",
       "\t<tr><th scope=row>distance</th><td>-4.103523</td><td>-1.568945</td></tr>\n",
       "</tbody>\n",
       "</table>\n"
      ],
      "text/latex": [
       "A matrix: 2 × 2 of type dbl\n",
       "\\begin{tabular}{r|ll}\n",
       "  & 2.5 \\% & 97.5 \\%\\\\\n",
       "\\hline\n",
       "\t(Intercept) &  3.422396 &  9.037020\\\\\n",
       "\tdistance & -4.103523 & -1.568945\\\\\n",
       "\\end{tabular}\n"
      ],
      "text/markdown": [
       "\n",
       "A matrix: 2 × 2 of type dbl\n",
       "\n",
       "| <!--/--> | 2.5 % | 97.5 % |\n",
       "|---|---|---|\n",
       "| (Intercept) |  3.422396 |  9.037020 |\n",
       "| distance | -4.103523 | -1.568945 |\n",
       "\n"
      ],
      "text/plain": [
       "            2.5 %     97.5 %   \n",
       "(Intercept)  3.422396  9.037020\n",
       "distance    -4.103523 -1.568945"
      ]
     },
     "metadata": {},
     "output_type": "display_data"
    },
    {
     "data": {
      "text/html": [
       "<table class=\"dataframe\">\n",
       "<caption>A matrix: 2 × 2 of type dbl</caption>\n",
       "<thead>\n",
       "\t<tr><th></th><th scope=col>2.5 %</th><th scope=col>97.5 %</th></tr>\n",
       "</thead>\n",
       "<tbody>\n",
       "\t<tr><th scope=row>(Intercept)</th><td>-2964.27509</td><td>-840767.86136</td></tr>\n",
       "\t<tr><th scope=row>distance</th><td>   98.34856</td><td>     79.17351</td></tr>\n",
       "</tbody>\n",
       "</table>\n"
      ],
      "text/latex": [
       "A matrix: 2 × 2 of type dbl\n",
       "\\begin{tabular}{r|ll}\n",
       "  & 2.5 \\% & 97.5 \\%\\\\\n",
       "\\hline\n",
       "\t(Intercept) & -2964.27509 & -840767.86136\\\\\n",
       "\tdistance &    98.34856 &      79.17351\\\\\n",
       "\\end{tabular}\n"
      ],
      "text/markdown": [
       "\n",
       "A matrix: 2 × 2 of type dbl\n",
       "\n",
       "| <!--/--> | 2.5 % | 97.5 % |\n",
       "|---|---|---|\n",
       "| (Intercept) | -2964.27509 | -840767.86136 |\n",
       "| distance |    98.34856 |      79.17351 |\n",
       "\n"
      ],
      "text/plain": [
       "            2.5 %       97.5 %       \n",
       "(Intercept) -2964.27509 -840767.86136\n",
       "distance       98.34856      79.17351"
      ]
     },
     "metadata": {},
     "output_type": "display_data"
    }
   ],
   "source": [
    "(bb.ci2 <- confint(bb.fit2))\n",
    "100 * (1 - exp(bb.ci2))\n"
   ]
  },
  {
   "cell_type": "code",
   "execution_count": 13,
   "metadata": {
    "vscode": {
     "languageId": "r"
    }
   },
   "outputs": [
    {
     "data": {
      "text/html": [
       "<style>\n",
       ".dl-inline {width: auto; margin:0; padding: 0}\n",
       ".dl-inline>dt, .dl-inline>dd {float: none; width: auto; display: inline-block}\n",
       ".dl-inline>dt::after {content: \":\\0020\"; padding-right: .5ex}\n",
       ".dl-inline>dt:not(:first-of-type) {padding-left: .5ex}\n",
       "</style><dl class=dl-inline><dt>1</dt><dd>3.16693434553015</dd><dt>2</dt><dd>0.535900941256714</dd><dt>3</dt><dd>-2.09513246301672</dd></dl>\n"
      ],
      "text/latex": [
       "\\begin{description*}\n",
       "\\item[1] 3.16693434553015\n",
       "\\item[2] 0.535900941256714\n",
       "\\item[3] -2.09513246301672\n",
       "\\end{description*}\n"
      ],
      "text/markdown": [
       "1\n",
       ":   3.166934345530152\n",
       ":   0.5359009412567143\n",
       ":   -2.09513246301672\n",
       "\n"
      ],
      "text/plain": [
       "         1          2          3 \n",
       " 3.1669343  0.5359009 -2.0951325 "
      ]
     },
     "metadata": {},
     "output_type": "display_data"
    }
   ],
   "source": [
    "predn.df <- data.frame(distance = 1:3)\n",
    "bb.logit.pred <- predict(bb.fit2, newdata = predn.df)\n",
    "bb.logit.pred\n"
   ]
  },
  {
   "cell_type": "code",
   "execution_count": 14,
   "metadata": {
    "vscode": {
     "languageId": "r"
    }
   },
   "outputs": [
    {
     "data": {
      "text/html": [
       "<style>\n",
       ".dl-inline {width: auto; margin:0; padding: 0}\n",
       ".dl-inline>dt, .dl-inline>dd {float: none; width: auto; display: inline-block}\n",
       ".dl-inline>dt::after {content: \":\\0020\"; padding-right: .5ex}\n",
       ".dl-inline>dt:not(:first-of-type) {padding-left: .5ex}\n",
       "</style><dl class=dl-inline><dt>1</dt><dd>0.959570820970203</dd><dt>2</dt><dd>0.630858358052516</dd><dt>3</dt><dd>0.109570820976234</dd></dl>\n"
      ],
      "text/latex": [
       "\\begin{description*}\n",
       "\\item[1] 0.959570820970203\n",
       "\\item[2] 0.630858358052516\n",
       "\\item[3] 0.109570820976234\n",
       "\\end{description*}\n"
      ],
      "text/markdown": [
       "1\n",
       ":   0.9595708209702032\n",
       ":   0.6308583580525163\n",
       ":   0.109570820976234\n",
       "\n"
      ],
      "text/plain": [
       "        1         2         3 \n",
       "0.9595708 0.6308584 0.1095708 "
      ]
     },
     "metadata": {},
     "output_type": "display_data"
    }
   ],
   "source": [
    "plogis(bb.logit.pred)\n"
   ]
  },
  {
   "cell_type": "code",
   "execution_count": 15,
   "metadata": {
    "vscode": {
     "languageId": "r"
    }
   },
   "outputs": [
    {
     "data": {
      "text/html": [
       "<style>\n",
       ".dl-inline {width: auto; margin:0; padding: 0}\n",
       ".dl-inline>dt, .dl-inline>dd {float: none; width: auto; display: inline-block}\n",
       ".dl-inline>dt::after {content: \":\\0020\"; padding-right: .5ex}\n",
       ".dl-inline>dt:not(:first-of-type) {padding-left: .5ex}\n",
       "</style><dl class=dl-inline><dt>1</dt><dd>0.959570820970203</dd><dt>2</dt><dd>0.630858358052516</dd><dt>3</dt><dd>0.109570820976234</dd></dl>\n"
      ],
      "text/latex": [
       "\\begin{description*}\n",
       "\\item[1] 0.959570820970203\n",
       "\\item[2] 0.630858358052516\n",
       "\\item[3] 0.109570820976234\n",
       "\\end{description*}\n"
      ],
      "text/markdown": [
       "1\n",
       ":   0.9595708209702032\n",
       ":   0.6308583580525163\n",
       ":   0.109570820976234\n",
       "\n"
      ],
      "text/plain": [
       "        1         2         3 \n",
       "0.9595708 0.6308584 0.1095708 "
      ]
     },
     "metadata": {},
     "output_type": "display_data"
    }
   ],
   "source": [
    "predict(bb.fit2, newdata = predn.df, type = \"response\")\n"
   ]
  },
  {
   "cell_type": "code",
   "execution_count": 16,
   "metadata": {
    "vscode": {
     "languageId": "r"
    }
   },
   "outputs": [
    {
     "data": {
      "text/html": [
       "<style>\n",
       ".dl-inline {width: auto; margin:0; padding: 0}\n",
       ".dl-inline>dt, .dl-inline>dd {float: none; width: auto; display: inline-block}\n",
       ".dl-inline>dt::after {content: \":\\0020\"; padding-right: .5ex}\n",
       ".dl-inline>dt:not(:first-of-type) {padding-left: .5ex}\n",
       "</style><dl class=dl-inline><dt>1</dt><dd>0.815101808705841</dd><dt>2</dt><dd>0.381297733450052</dd><dt>3</dt><dd>0.643231168633718</dd></dl>\n"
      ],
      "text/latex": [
       "\\begin{description*}\n",
       "\\item[1] 0.815101808705841\n",
       "\\item[2] 0.381297733450052\n",
       "\\item[3] 0.643231168633718\n",
       "\\end{description*}\n"
      ],
      "text/markdown": [
       "1\n",
       ":   0.8151018087058412\n",
       ":   0.3812977334500523\n",
       ":   0.643231168633718\n",
       "\n"
      ],
      "text/plain": [
       "        1         2         3 \n",
       "0.8151018 0.3812977 0.6432312 "
      ]
     },
     "metadata": {},
     "output_type": "display_data"
    },
    {
     "data": {
      "text/html": [
       "<table class=\"dataframe\">\n",
       "<caption>A matrix: 3 × 2 of type dbl</caption>\n",
       "<thead>\n",
       "\t<tr><th></th><th scope=col>lower</th><th scope=col>upper</th></tr>\n",
       "</thead>\n",
       "<tbody>\n",
       "\t<tr><th scope=row>1</th><td>0.82768876</td><td>0.9915452</td></tr>\n",
       "\t<tr><th scope=row>2</th><td>0.44733541</td><td>0.7830016</td></tr>\n",
       "\t<tr><th scope=row>3</th><td>0.03370361</td><td>0.3027157</td></tr>\n",
       "</tbody>\n",
       "</table>\n"
      ],
      "text/latex": [
       "A matrix: 3 × 2 of type dbl\n",
       "\\begin{tabular}{r|ll}\n",
       "  & lower & upper\\\\\n",
       "\\hline\n",
       "\t1 & 0.82768876 & 0.9915452\\\\\n",
       "\t2 & 0.44733541 & 0.7830016\\\\\n",
       "\t3 & 0.03370361 & 0.3027157\\\\\n",
       "\\end{tabular}\n"
      ],
      "text/markdown": [
       "\n",
       "A matrix: 3 × 2 of type dbl\n",
       "\n",
       "| <!--/--> | lower | upper |\n",
       "|---|---|---|\n",
       "| 1 | 0.82768876 | 0.9915452 |\n",
       "| 2 | 0.44733541 | 0.7830016 |\n",
       "| 3 | 0.03370361 | 0.3027157 |\n",
       "\n"
      ],
      "text/plain": [
       "  lower      upper    \n",
       "1 0.82768876 0.9915452\n",
       "2 0.44733541 0.7830016\n",
       "3 0.03370361 0.3027157"
      ]
     },
     "metadata": {},
     "output_type": "display_data"
    }
   ],
   "source": [
    "bb.logit.predses <- predict(bb.fit2, newdata = predn.df, se.fit = TRUE)$se.fit\n",
    "bb.logit.predses\n",
    "# Lower and upper bounds of CIs for the log-odds\n",
    "lower = bb.logit.pred - 1.96 * bb.logit.predses\n",
    "upper = bb.logit.pred + 1.96 * bb.logit.predses\n",
    "ci = cbind(lower, upper)\n",
    "plogis(ci)\n"
   ]
  },
  {
   "cell_type": "code",
   "execution_count": 17,
   "metadata": {
    "vscode": {
     "languageId": "r"
    }
   },
   "outputs": [
    {
     "name": "stderr",
     "output_type": "stream",
     "text": [
      "***Estimates and CIs are on the link scale***\n",
      "\n"
     ]
    },
    {
     "data": {
      "text/html": [
       "<table class=\"dataframe\">\n",
       "<caption>A matrix: 3 × 3 of type dbl</caption>\n",
       "<thead>\n",
       "\t<tr><th></th><th scope=col>fit</th><th scope=col>lwr</th><th scope=col>upr</th></tr>\n",
       "</thead>\n",
       "<tbody>\n",
       "\t<tr><th scope=row>1</th><td> 3.1669343</td><td> 1.5693642</td><td> 4.7645045</td></tr>\n",
       "\t<tr><th scope=row>2</th><td> 0.5359009</td><td>-0.2114289</td><td> 1.2832308</td></tr>\n",
       "\t<tr><th scope=row>3</th><td>-2.0951325</td><td>-3.3558424</td><td>-0.8344225</td></tr>\n",
       "</tbody>\n",
       "</table>\n"
      ],
      "text/latex": [
       "A matrix: 3 × 3 of type dbl\n",
       "\\begin{tabular}{r|lll}\n",
       "  & fit & lwr & upr\\\\\n",
       "\\hline\n",
       "\t1 &  3.1669343 &  1.5693642 &  4.7645045\\\\\n",
       "\t2 &  0.5359009 & -0.2114289 &  1.2832308\\\\\n",
       "\t3 & -2.0951325 & -3.3558424 & -0.8344225\\\\\n",
       "\\end{tabular}\n"
      ],
      "text/markdown": [
       "\n",
       "A matrix: 3 × 3 of type dbl\n",
       "\n",
       "| <!--/--> | fit | lwr | upr |\n",
       "|---|---|---|---|\n",
       "| 1 |  3.1669343 |  1.5693642 |  4.7645045 |\n",
       "| 2 |  0.5359009 | -0.2114289 |  1.2832308 |\n",
       "| 3 | -2.0951325 | -3.3558424 | -0.8344225 |\n",
       "\n"
      ],
      "text/plain": [
       "  fit        lwr        upr       \n",
       "1  3.1669343  1.5693642  4.7645045\n",
       "2  0.5359009 -0.2114289  1.2832308\n",
       "3 -2.0951325 -3.3558424 -0.8344225"
      ]
     },
     "metadata": {},
     "output_type": "display_data"
    },
    {
     "name": "stderr",
     "output_type": "stream",
     "text": [
      "***Estimates and CIs are on the response scale***\n",
      "\n"
     ]
    },
    {
     "data": {
      "text/html": [
       "<table class=\"dataframe\">\n",
       "<caption>A matrix: 3 × 3 of type dbl</caption>\n",
       "<thead>\n",
       "\t<tr><th></th><th scope=col>fit</th><th scope=col>lwr</th><th scope=col>upr</th></tr>\n",
       "</thead>\n",
       "<tbody>\n",
       "\t<tr><th scope=row>1</th><td>0.9595708</td><td>0.82769294</td><td>0.9915450</td></tr>\n",
       "\t<tr><th scope=row>2</th><td>0.6308584</td><td>0.44733881</td><td>0.7829992</td></tr>\n",
       "\t<tr><th scope=row>3</th><td>0.1095708</td><td>0.03370437</td><td>0.3027108</td></tr>\n",
       "</tbody>\n",
       "</table>\n"
      ],
      "text/latex": [
       "A matrix: 3 × 3 of type dbl\n",
       "\\begin{tabular}{r|lll}\n",
       "  & fit & lwr & upr\\\\\n",
       "\\hline\n",
       "\t1 & 0.9595708 & 0.82769294 & 0.9915450\\\\\n",
       "\t2 & 0.6308584 & 0.44733881 & 0.7829992\\\\\n",
       "\t3 & 0.1095708 & 0.03370437 & 0.3027108\\\\\n",
       "\\end{tabular}\n"
      ],
      "text/markdown": [
       "\n",
       "A matrix: 3 × 3 of type dbl\n",
       "\n",
       "| <!--/--> | fit | lwr | upr |\n",
       "|---|---|---|---|\n",
       "| 1 | 0.9595708 | 0.82769294 | 0.9915450 |\n",
       "| 2 | 0.6308584 | 0.44733881 | 0.7829992 |\n",
       "| 3 | 0.1095708 | 0.03370437 | 0.3027108 |\n",
       "\n"
      ],
      "text/plain": [
       "  fit       lwr        upr      \n",
       "1 0.9595708 0.82769294 0.9915450\n",
       "2 0.6308584 0.44733881 0.7829992\n",
       "3 0.1095708 0.03370437 0.3027108"
      ]
     },
     "metadata": {},
     "output_type": "display_data"
    }
   ],
   "source": [
    "predictGLM(bb.fit2, newdata = data.frame(distance = 1:3), type = \"link\")\n",
    "predictGLM(bb.fit2, newdata = data.frame(distance = 1:3), type = \"response\")\n"
   ]
  },
  {
   "attachments": {},
   "cell_type": "markdown",
   "metadata": {},
   "source": [
    "## Modelling the response when it is binomial (grouped binary data) via glm"
   ]
  },
  {
   "cell_type": "code",
   "execution_count": 18,
   "metadata": {
    "vscode": {
     "languageId": "r"
    }
   },
   "outputs": [
    {
     "name": "stderr",
     "output_type": "stream",
     "text": [
      "\u001b[1m\u001b[22m`summarise()` has grouped output by 'gender'. You can override using the\n",
      "`.groups` argument.\n"
     ]
    },
    {
     "data": {
      "text/html": [
       "<table class=\"dataframe\">\n",
       "<caption>A data.frame: 6 × 4</caption>\n",
       "<thead>\n",
       "\t<tr><th scope=col>gender</th><th scope=col>distance</th><th scope=col>n</th><th scope=col>propn</th></tr>\n",
       "\t<tr><th scope=col>&lt;chr&gt;</th><th scope=col>&lt;int&gt;</th><th scope=col>&lt;int&gt;</th><th scope=col>&lt;dbl&gt;</th></tr>\n",
       "</thead>\n",
       "<tbody>\n",
       "\t<tr><td>F</td><td>1</td><td>10</td><td>1.0</td></tr>\n",
       "\t<tr><td>F</td><td>2</td><td>10</td><td>0.6</td></tr>\n",
       "\t<tr><td>F</td><td>3</td><td>10</td><td>0.2</td></tr>\n",
       "\t<tr><td>M</td><td>1</td><td>10</td><td>1.0</td></tr>\n",
       "\t<tr><td>M</td><td>2</td><td>10</td><td>0.5</td></tr>\n",
       "\t<tr><td>M</td><td>3</td><td>10</td><td>0.1</td></tr>\n",
       "</tbody>\n",
       "</table>\n"
      ],
      "text/latex": [
       "A data.frame: 6 × 4\n",
       "\\begin{tabular}{llll}\n",
       " gender & distance & n & propn\\\\\n",
       " <chr> & <int> & <int> & <dbl>\\\\\n",
       "\\hline\n",
       "\t F & 1 & 10 & 1.0\\\\\n",
       "\t F & 2 & 10 & 0.6\\\\\n",
       "\t F & 3 & 10 & 0.2\\\\\n",
       "\t M & 1 & 10 & 1.0\\\\\n",
       "\t M & 2 & 10 & 0.5\\\\\n",
       "\t M & 3 & 10 & 0.1\\\\\n",
       "\\end{tabular}\n"
      ],
      "text/markdown": [
       "\n",
       "A data.frame: 6 × 4\n",
       "\n",
       "| gender &lt;chr&gt; | distance &lt;int&gt; | n &lt;int&gt; | propn &lt;dbl&gt; |\n",
       "|---|---|---|---|\n",
       "| F | 1 | 10 | 1.0 |\n",
       "| F | 2 | 10 | 0.6 |\n",
       "| F | 3 | 10 | 0.2 |\n",
       "| M | 1 | 10 | 1.0 |\n",
       "| M | 2 | 10 | 0.5 |\n",
       "| M | 3 | 10 | 0.1 |\n",
       "\n"
      ],
      "text/plain": [
       "  gender distance n  propn\n",
       "1 F      1        10 1.0  \n",
       "2 F      2        10 0.6  \n",
       "3 F      3        10 0.2  \n",
       "4 M      1        10 1.0  \n",
       "5 M      2        10 0.5  \n",
       "6 M      3        10 0.1  "
      ]
     },
     "metadata": {},
     "output_type": "display_data"
    }
   ],
   "source": [
    "# Load dplyr package to manipulate data frames\n",
    "library(dplyr)\n",
    "bb.grouped.df = bb.df %>%\n",
    "    group_by(gender, distance) %>%\n",
    "    summarize(n = n(), propn = sum(basket) / n)\n",
    "# Change tibble back to a data frame\n",
    "bb.grouped.df = data.frame(bb.grouped.df)\n",
    "bb.grouped.df\n"
   ]
  },
  {
   "attachments": {},
   "cell_type": "markdown",
   "metadata": {},
   "source": [
    "这样转换后，虽然结果相同，但我们可以做卡方检验了（手动经历了分组）。"
   ]
  },
  {
   "cell_type": "code",
   "execution_count": 19,
   "metadata": {
    "vscode": {
     "languageId": "r"
    }
   },
   "outputs": [
    {
     "data": {
      "text/plain": [
       "\n",
       "Call:\n",
       "glm(formula = propn ~ distance * gender, family = binomial, data = bb.grouped.df, \n",
       "    weights = n)\n",
       "\n",
       "Deviance Residuals: \n",
       "      1        2        3        4        5        6  \n",
       " 0.9063  -0.5354   0.3367   0.8612  -0.4629   0.4376  \n",
       "\n",
       "Coefficients:\n",
       "                 Estimate Std. Error z value Pr(>|z|)   \n",
       "(Intercept)        5.5878     1.9050   2.933  0.00335 **\n",
       "distance          -2.4159     0.8181  -2.953  0.00314 **\n",
       "genderM            0.6710     2.9236   0.230  0.81848   \n",
       "distance:genderM  -0.5668     1.3214  -0.429  0.66795   \n",
       "---\n",
       "Signif. codes:  0 '***' 0.001 '**' 0.01 '*' 0.05 '.' 0.1 ' ' 1\n",
       "\n",
       "(Dispersion parameter for binomial family taken to be 1)\n",
       "\n",
       "    Null deviance: 38.2749  on 5  degrees of freedom\n",
       "Residual deviance:  2.3688  on 2  degrees of freedom\n",
       "AIC: 20.23\n",
       "\n",
       "Number of Fisher Scoring iterations: 4\n"
      ]
     },
     "metadata": {},
     "output_type": "display_data"
    }
   ],
   "source": [
    "bb.fit3 = glm(propn ~ distance * gender,\n",
    "    weights = n,\n",
    "    family = binomial, data = bb.grouped.df\n",
    ")\n",
    "summary(bb.fit3)\n"
   ]
  },
  {
   "cell_type": "code",
   "execution_count": 20,
   "metadata": {
    "vscode": {
     "languageId": "r"
    }
   },
   "outputs": [
    {
     "data": {
      "text/html": [
       "0.305929682251732"
      ],
      "text/latex": [
       "0.305929682251732"
      ],
      "text/markdown": [
       "0.305929682251732"
      ],
      "text/plain": [
       "[1] 0.3059297"
      ]
     },
     "metadata": {},
     "output_type": "display_data"
    }
   ],
   "source": [
    "1 - pchisq(2.3688, 2)\n"
   ]
  },
  {
   "cell_type": "code",
   "execution_count": 21,
   "metadata": {
    "vscode": {
     "languageId": "r"
    }
   },
   "outputs": [
    {
     "data": {
      "image/png": "[encoded data removed]",
      "text/plain": [
       "Plot with title \"\""
      ]
     },
     "metadata": {
      "image/png": {
       "height": 420,
       "width": 420
      }
     },
     "output_type": "display_data"
    }
   ],
   "source": [
    "plot(bb.fit3, which = 1, lty = 2)\n"
   ]
  },
  {
   "cell_type": "code",
   "execution_count": 22,
   "metadata": {
    "vscode": {
     "languageId": "r"
    }
   },
   "outputs": [
    {
     "data": {
      "text/html": [
       "<table class=\"dataframe\">\n",
       "<caption>A data.frame: 6 × 6</caption>\n",
       "<thead>\n",
       "\t<tr><th scope=col>gender</th><th scope=col>distance</th><th scope=col>n</th><th scope=col>propn</th><th scope=col>success</th><th scope=col>fail</th></tr>\n",
       "\t<tr><th scope=col>&lt;chr&gt;</th><th scope=col>&lt;int&gt;</th><th scope=col>&lt;int&gt;</th><th scope=col>&lt;dbl&gt;</th><th scope=col>&lt;dbl&gt;</th><th scope=col>&lt;dbl&gt;</th></tr>\n",
       "</thead>\n",
       "<tbody>\n",
       "\t<tr><td>F</td><td>1</td><td>10</td><td>1.0</td><td>10</td><td>0</td></tr>\n",
       "\t<tr><td>F</td><td>2</td><td>10</td><td>0.6</td><td> 6</td><td>4</td></tr>\n",
       "\t<tr><td>F</td><td>3</td><td>10</td><td>0.2</td><td> 2</td><td>8</td></tr>\n",
       "\t<tr><td>M</td><td>1</td><td>10</td><td>1.0</td><td>10</td><td>0</td></tr>\n",
       "\t<tr><td>M</td><td>2</td><td>10</td><td>0.5</td><td> 5</td><td>5</td></tr>\n",
       "\t<tr><td>M</td><td>3</td><td>10</td><td>0.1</td><td> 1</td><td>9</td></tr>\n",
       "</tbody>\n",
       "</table>\n"
      ],
      "text/latex": [
       "A data.frame: 6 × 6\n",
       "\\begin{tabular}{llllll}\n",
       " gender & distance & n & propn & success & fail\\\\\n",
       " <chr> & <int> & <int> & <dbl> & <dbl> & <dbl>\\\\\n",
       "\\hline\n",
       "\t F & 1 & 10 & 1.0 & 10 & 0\\\\\n",
       "\t F & 2 & 10 & 0.6 &  6 & 4\\\\\n",
       "\t F & 3 & 10 & 0.2 &  2 & 8\\\\\n",
       "\t M & 1 & 10 & 1.0 & 10 & 0\\\\\n",
       "\t M & 2 & 10 & 0.5 &  5 & 5\\\\\n",
       "\t M & 3 & 10 & 0.1 &  1 & 9\\\\\n",
       "\\end{tabular}\n"
      ],
      "text/markdown": [
       "\n",
       "A data.frame: 6 × 6\n",
       "\n",
       "| gender &lt;chr&gt; | distance &lt;int&gt; | n &lt;int&gt; | propn &lt;dbl&gt; | success &lt;dbl&gt; | fail &lt;dbl&gt; |\n",
       "|---|---|---|---|---|---|\n",
       "| F | 1 | 10 | 1.0 | 10 | 0 |\n",
       "| F | 2 | 10 | 0.6 |  6 | 4 |\n",
       "| F | 3 | 10 | 0.2 |  2 | 8 |\n",
       "| M | 1 | 10 | 1.0 | 10 | 0 |\n",
       "| M | 2 | 10 | 0.5 |  5 | 5 |\n",
       "| M | 3 | 10 | 0.1 |  1 | 9 |\n",
       "\n"
      ],
      "text/plain": [
       "  gender distance n  propn success fail\n",
       "1 F      1        10 1.0   10      0   \n",
       "2 F      2        10 0.6    6      4   \n",
       "3 F      3        10 0.2    2      8   \n",
       "4 M      1        10 1.0   10      0   \n",
       "5 M      2        10 0.5    5      5   \n",
       "6 M      3        10 0.1    1      9   "
      ]
     },
     "metadata": {},
     "output_type": "display_data"
    }
   ],
   "source": [
    "bb.grouped.df <- transform(bb.grouped.df, success = n * propn, fail = n * (1 - propn))\n",
    "bb.grouped.df\n"
   ]
  },
  {
   "cell_type": "code",
   "execution_count": null,
   "metadata": {
    "vscode": {
     "languageId": "r"
    }
   },
   "outputs": [],
   "source": [
    "bb.fit4 = glm(cbind(success, fail) ~ distance * gender,\n",
    "    family = binomial,\n",
    "    data = bb.grouped.df\n",
    ")\n",
    "summary(bb.fit4)\n"
   ]
  },
  {
   "attachments": {},
   "cell_type": "markdown",
   "metadata": {},
   "source": [
    "## Example 1: Space shuttle Challenger accident\n",
    "\n",
    "The NASA space shuttle Challenger broke up during launch on the cold morning of 28 January 1986. Most of the crew survived the initial break-up, but are believed to have been killed when the crew capsule hit the ocean at high speed. 1986年1月28日的寒冷早晨，美国宇航局的挑战者号航天飞机在发射过程中解体。大多数机组人员在最初的解体过程中幸存下来，但据信在机组人员舱高速撞向海洋时被杀死。"
   ]
  },
  {
   "cell_type": "code",
   "execution_count": 24,
   "metadata": {
    "vscode": {
     "languageId": "r"
    }
   },
   "outputs": [
    {
     "data": {
      "text/html": [
       "<style>\n",
       ".list-inline {list-style: none; margin:0; padding: 0}\n",
       ".list-inline>li {display: inline-block}\n",
       ".list-inline>li:not(:last-child)::after {content: \"\\00b7\"; padding: 0 .5ex}\n",
       "</style>\n",
       "<ol class=list-inline><li>66</li><li>70</li><li>69</li><li>68</li><li>67</li><li>72</li><li>73</li><li>70</li><li>57</li><li>63</li><li>70</li><li>78</li><li>67</li><li>53</li><li>67</li><li>75</li><li>70</li><li>81</li><li>76</li><li>79</li><li>75</li><li>76</li><li>58</li></ol>\n"
      ],
      "text/latex": [
       "\\begin{enumerate*}\n",
       "\\item 66\n",
       "\\item 70\n",
       "\\item 69\n",
       "\\item 68\n",
       "\\item 67\n",
       "\\item 72\n",
       "\\item 73\n",
       "\\item 70\n",
       "\\item 57\n",
       "\\item 63\n",
       "\\item 70\n",
       "\\item 78\n",
       "\\item 67\n",
       "\\item 53\n",
       "\\item 67\n",
       "\\item 75\n",
       "\\item 70\n",
       "\\item 81\n",
       "\\item 76\n",
       "\\item 79\n",
       "\\item 75\n",
       "\\item 76\n",
       "\\item 58\n",
       "\\end{enumerate*}\n"
      ],
      "text/markdown": [
       "1. 66\n",
       "2. 70\n",
       "3. 69\n",
       "4. 68\n",
       "5. 67\n",
       "6. 72\n",
       "7. 73\n",
       "8. 70\n",
       "9. 57\n",
       "10. 63\n",
       "11. 70\n",
       "12. 78\n",
       "13. 67\n",
       "14. 53\n",
       "15. 67\n",
       "16. 75\n",
       "17. 70\n",
       "18. 81\n",
       "19. 76\n",
       "20. 79\n",
       "21. 75\n",
       "22. 76\n",
       "23. 58\n",
       "\n",
       "\n"
      ],
      "text/plain": [
       " [1] 66 70 69 68 67 72 73 70 57 63 70 78 67 53 67 75 70 81 76 79 75 76 58"
      ]
     },
     "metadata": {},
     "output_type": "display_data"
    },
    {
     "data": {
      "text/html": [
       "<style>\n",
       ".list-inline {list-style: none; margin:0; padding: 0}\n",
       ".list-inline>li {display: inline-block}\n",
       ".list-inline>li:not(:last-child)::after {content: \"\\00b7\"; padding: 0 .5ex}\n",
       "</style>\n",
       "<ol class=list-inline><li>0</li><li>1</li><li>0</li><li>0</li><li>0</li><li>0</li><li>0</li><li>0</li><li>1</li><li>1</li><li>1</li><li>0</li><li>0</li><li>2</li><li>0</li><li>0</li><li>0</li><li>0</li><li>0</li><li>0</li><li>2</li><li>0</li><li>1</li></ol>\n"
      ],
      "text/latex": [
       "\\begin{enumerate*}\n",
       "\\item 0\n",
       "\\item 1\n",
       "\\item 0\n",
       "\\item 0\n",
       "\\item 0\n",
       "\\item 0\n",
       "\\item 0\n",
       "\\item 0\n",
       "\\item 1\n",
       "\\item 1\n",
       "\\item 1\n",
       "\\item 0\n",
       "\\item 0\n",
       "\\item 2\n",
       "\\item 0\n",
       "\\item 0\n",
       "\\item 0\n",
       "\\item 0\n",
       "\\item 0\n",
       "\\item 0\n",
       "\\item 2\n",
       "\\item 0\n",
       "\\item 1\n",
       "\\end{enumerate*}\n"
      ],
      "text/markdown": [
       "1. 0\n",
       "2. 1\n",
       "3. 0\n",
       "4. 0\n",
       "5. 0\n",
       "6. 0\n",
       "7. 0\n",
       "8. 0\n",
       "9. 1\n",
       "10. 1\n",
       "11. 1\n",
       "12. 0\n",
       "13. 0\n",
       "14. 2\n",
       "15. 0\n",
       "16. 0\n",
       "17. 0\n",
       "18. 0\n",
       "19. 0\n",
       "20. 0\n",
       "21. 2\n",
       "22. 0\n",
       "23. 1\n",
       "\n",
       "\n"
      ],
      "text/plain": [
       " [1] 0 1 0 0 0 0 0 0 1 1 1 0 0 2 0 0 0 0 0 0 2 0 1"
      ]
     },
     "metadata": {},
     "output_type": "display_data"
    }
   ],
   "source": [
    "Space.df <- read.table(\"../data/ChallengerShuttle.txt\", head = TRUE)\n",
    "Space.df$Temp\n",
    "Space.df$Failure\n"
   ]
  },
  {
   "cell_type": "code",
   "execution_count": 25,
   "metadata": {
    "vscode": {
     "languageId": "r"
    }
   },
   "outputs": [
    {
     "data": {
      "text/plain": [
       "\n",
       "Call:\n",
       "glm(formula = cbind(Failure, 6 - Failure) ~ Temp, family = binomial, \n",
       "    data = Space.df)\n",
       "\n",
       "Deviance Residuals: \n",
       "     Min        1Q    Median        3Q       Max  \n",
       "-0.95227  -0.78299  -0.54117  -0.04379   2.65152  \n",
       "\n",
       "Coefficients:\n",
       "            Estimate Std. Error z value Pr(>|z|)  \n",
       "(Intercept)  5.08498    3.05247   1.666   0.0957 .\n",
       "Temp        -0.11560    0.04702  -2.458   0.0140 *\n",
       "---\n",
       "Signif. codes:  0 '***' 0.001 '**' 0.01 '*' 0.05 '.' 0.1 ' ' 1\n",
       "\n",
       "(Dispersion parameter for binomial family taken to be 1)\n",
       "\n",
       "    Null deviance: 24.230  on 22  degrees of freedom\n",
       "Residual deviance: 18.086  on 21  degrees of freedom\n",
       "AIC: 35.647\n",
       "\n",
       "Number of Fisher Scoring iterations: 5\n"
      ]
     },
     "metadata": {},
     "output_type": "display_data"
    }
   ],
   "source": [
    "Space.gfit = glm(cbind(Failure, 6 - Failure) ~ Temp,\n",
    "    family = binomial,\n",
    "    data = Space.df\n",
    ")\n",
    "summary(Space.gfit)\n"
   ]
  },
  {
   "cell_type": "code",
   "execution_count": null,
   "metadata": {
    "vscode": {
     "languageId": "r"
    }
   },
   "outputs": [],
   "source": [
    "predictGLM(Space.gfit, newdata = data.frame(Temp = 31), type = \"response\")\n"
   ]
  },
  {
   "cell_type": "code",
   "execution_count": null,
   "metadata": {
    "vscode": {
     "languageId": "r"
    }
   },
   "outputs": [],
   "source": [
    "6 * predictGLM(Space.gfit, newdata = data.frame(Temp = 31), type = \"response\")\n"
   ]
  }
 ],
 "metadata": {
  "kernelspec": {
   "display_name": "R",
   "language": "R",
   "name": "ir"
  },
  "language_info": {
   "codemirror_mode": "r",
   "file_extension": ".r",
   "mimetype": "text/x-r-source",
   "name": "R",
   "pygments_lexer": "r",
   "version": "4.2.2"
  },
  "orig_nbformat": 4
 },
 "nbformat": 4,
 "nbformat_minor": 2
}
