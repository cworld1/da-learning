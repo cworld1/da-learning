{
 "cells": [
  {
   "attachments": {},
   "cell_type": "markdown",
   "metadata": {},
   "source": [
    "# Poisson modelling of count data: Two examples\n",
    "\n",
    "本节需要的包："
   ]
  },
  {
   "cell_type": "code",
   "execution_count": 1,
   "metadata": {
    "tags": [
     "hide-output"
    ],
    "vscode": {
     "languageId": "r"
    }
   },
   "outputs": [
    {
     "name": "stderr",
     "output_type": "stream",
     "text": [
      "载入需要的程辑包：s20x\n",
      "\n",
      "Warning message:\n",
      "\"程辑包's20x'是用R版本4.2.3 来建造的\"\n"
     ]
    }
   ],
   "source": [
    "require(s20x)\n"
   ]
  },
  {
   "attachments": {},
   "cell_type": "markdown",
   "metadata": {},
   "source": [
    "## Example 1: Earthquake frequency"
   ]
  },
  {
   "attachments": {},
   "cell_type": "markdown",
   "metadata": {},
   "source": [
    "古腾堡•里希特定律说，在一定时期内，预期的地震数量会随着地震的大小而成倍地减少。其公式为：\n",
    "\n",
    "$$\n",
    "\\log_{10}N=a-bM\n",
    "$$\n",
    "\n",
    "where N is the expected number of earthquakes of magnitude M or more on the Richter scale. Here, a and b are unknown parameters. 其中N是里氏震级M级以上的地震的预期数量。这里，a和b是未知参数。"
   ]
  },
  {
   "cell_type": "code",
   "execution_count": 2,
   "metadata": {
    "vscode": {
     "languageId": "r"
    }
   },
   "outputs": [
    {
     "data": {
      "text/html": [
       "<table class=\"dataframe\">\n",
       "<caption>A data.frame: 4 × 3</caption>\n",
       "<thead>\n",
       "\t<tr><th></th><th scope=col>Locn</th><th scope=col>Magnitude</th><th scope=col>Freq</th></tr>\n",
       "\t<tr><th></th><th scope=col>&lt;fct&gt;</th><th scope=col>&lt;dbl&gt;</th><th scope=col>&lt;int&gt;</th></tr>\n",
       "</thead>\n",
       "<tbody>\n",
       "\t<tr><th scope=row>1</th><td>SC</td><td>5.25</td><td>32</td></tr>\n",
       "\t<tr><th scope=row>2</th><td>SC</td><td>5.50</td><td>27</td></tr>\n",
       "\t<tr><th scope=row>3</th><td>SC</td><td>5.75</td><td>10</td></tr>\n",
       "\t<tr><th scope=row>4</th><td>SC</td><td>6.00</td><td> 9</td></tr>\n",
       "</tbody>\n",
       "</table>\n"
      ],
      "text/latex": [
       "A data.frame: 4 × 3\n",
       "\\begin{tabular}{r|lll}\n",
       "  & Locn & Magnitude & Freq\\\\\n",
       "  & <fct> & <dbl> & <int>\\\\\n",
       "\\hline\n",
       "\t1 & SC & 5.25 & 32\\\\\n",
       "\t2 & SC & 5.50 & 27\\\\\n",
       "\t3 & SC & 5.75 & 10\\\\\n",
       "\t4 & SC & 6.00 &  9\\\\\n",
       "\\end{tabular}\n"
      ],
      "text/markdown": [
       "\n",
       "A data.frame: 4 × 3\n",
       "\n",
       "| <!--/--> | Locn &lt;fct&gt; | Magnitude &lt;dbl&gt; | Freq &lt;int&gt; |\n",
       "|---|---|---|---|\n",
       "| 1 | SC | 5.25 | 32 |\n",
       "| 2 | SC | 5.50 | 27 |\n",
       "| 3 | SC | 5.75 | 10 |\n",
       "| 4 | SC | 6.00 |  9 |\n",
       "\n"
      ],
      "text/plain": [
       "  Locn Magnitude Freq\n",
       "1 SC   5.25      32  \n",
       "2 SC   5.50      27  \n",
       "3 SC   5.75      10  \n",
       "4 SC   6.00       9  "
      ]
     },
     "metadata": {},
     "output_type": "display_data"
    },
    {
     "data": {
      "text/html": [
       "<table class=\"dataframe\">\n",
       "<caption>A data.frame: 4 × 3</caption>\n",
       "<thead>\n",
       "\t<tr><th></th><th scope=col>Locn</th><th scope=col>Magnitude</th><th scope=col>Freq</th></tr>\n",
       "\t<tr><th></th><th scope=col>&lt;fct&gt;</th><th scope=col>&lt;dbl&gt;</th><th scope=col>&lt;int&gt;</th></tr>\n",
       "</thead>\n",
       "<tbody>\n",
       "\t<tr><th scope=row>10</th><td>WA</td><td>5.25</td><td>13</td></tr>\n",
       "\t<tr><th scope=row>11</th><td>WA</td><td>5.50</td><td> 6</td></tr>\n",
       "\t<tr><th scope=row>12</th><td>WA</td><td>5.75</td><td> 2</td></tr>\n",
       "\t<tr><th scope=row>13</th><td>WA</td><td>6.00</td><td> 1</td></tr>\n",
       "</tbody>\n",
       "</table>\n"
      ],
      "text/latex": [
       "A data.frame: 4 × 3\n",
       "\\begin{tabular}{r|lll}\n",
       "  & Locn & Magnitude & Freq\\\\\n",
       "  & <fct> & <dbl> & <int>\\\\\n",
       "\\hline\n",
       "\t10 & WA & 5.25 & 13\\\\\n",
       "\t11 & WA & 5.50 &  6\\\\\n",
       "\t12 & WA & 5.75 &  2\\\\\n",
       "\t13 & WA & 6.00 &  1\\\\\n",
       "\\end{tabular}\n"
      ],
      "text/markdown": [
       "\n",
       "A data.frame: 4 × 3\n",
       "\n",
       "| <!--/--> | Locn &lt;fct&gt; | Magnitude &lt;dbl&gt; | Freq &lt;int&gt; |\n",
       "|---|---|---|---|\n",
       "| 10 | WA | 5.25 | 13 |\n",
       "| 11 | WA | 5.50 |  6 |\n",
       "| 12 | WA | 5.75 |  2 |\n",
       "| 13 | WA | 6.00 |  1 |\n",
       "\n"
      ],
      "text/plain": [
       "   Locn Magnitude Freq\n",
       "10 WA   5.25      13  \n",
       "11 WA   5.50       6  \n",
       "12 WA   5.75       2  \n",
       "13 WA   6.00       1  "
      ]
     },
     "metadata": {},
     "output_type": "display_data"
    }
   ],
   "source": [
    "Quakes.df <- read.table(\"../data/EarthquakeMagnitudes.txt\", header = TRUE)\n",
    "Quakes.df$Locn <- as.factor(Quakes.df$Locn)\n",
    "# Print first 4 SC observations\n",
    "subset(Quakes.df, subset = c(Locn == \"SC\"))[1:4, ]\n",
    "# Print first 4 WA observations\n",
    "subset(Quakes.df, subset = c(Locn == \"WA\"))[1:4, ]\n"
   ]
  },
  {
   "cell_type": "code",
   "execution_count": 3,
   "metadata": {
    "vscode": {
     "languageId": "r"
    }
   },
   "outputs": [
    {
     "data": {
      "image/png": "[encoded data removed]",
      "text/plain": [
       "plot without title"
      ]
     },
     "metadata": {
      "image/png": {
       "height": 420,
       "width": 420
      }
     },
     "output_type": "display_data"
    }
   ],
   "source": [
    "plot(Freq ~ Magnitude, data = Quakes.df, pch = substr(Locn, 1, 1))\n"
   ]
  },
  {
   "cell_type": "code",
   "execution_count": 4,
   "metadata": {
    "vscode": {
     "languageId": "r"
    }
   },
   "outputs": [
    {
     "data": {
      "image/png": "[encoded data removed]",
      "text/plain": [
       "Plot with title \"\""
      ]
     },
     "metadata": {
      "image/png": {
       "height": 420,
       "width": 420
      }
     },
     "output_type": "display_data"
    }
   ],
   "source": [
    "Quake.gfit <- glm(\n",
    "    Freq ~ Locn * Magnitude,\n",
    "    family = poisson,\n",
    "    data = Quakes.df\n",
    ")\n",
    "plot(Quake.gfit, which = 1)\n"
   ]
  },
  {
   "cell_type": "code",
   "execution_count": 5,
   "metadata": {
    "vscode": {
     "languageId": "r"
    }
   },
   "outputs": [
    {
     "data": {
      "image/png": "[encoded data removed]",
      "text/plain": [
       "Plot with title \"\""
      ]
     },
     "metadata": {
      "image/png": {
       "height": 420,
       "width": 420
      }
     },
     "output_type": "display_data"
    }
   ],
   "source": [
    "plot(Quake.gfit, which = 4)\n"
   ]
  },
  {
   "cell_type": "code",
   "execution_count": 6,
   "metadata": {
    "vscode": {
     "languageId": "r"
    }
   },
   "outputs": [
    {
     "data": {
      "text/plain": [
       "\n",
       "Call:\n",
       "glm(formula = Freq ~ Locn * Magnitude, family = poisson, data = Quakes.df)\n",
       "\n",
       "Deviance Residuals: \n",
       "    Min       1Q   Median       3Q      Max  \n",
       "-1.3261  -0.3225  -0.1172   0.1241   1.6190  \n",
       "\n",
       "Coefficients:\n",
       "                 Estimate Std. Error z value Pr(>|z|)    \n",
       "(Intercept)       11.6923     1.1762   9.941  < 2e-16 ***\n",
       "LocnWA             7.3923     3.9500   1.871   0.0613 .  \n",
       "Magnitude         -1.5648     0.2055  -7.616 2.61e-14 ***\n",
       "LocnWA:Magnitude  -1.5884     0.7199  -2.206   0.0274 *  \n",
       "---\n",
       "Signif. codes:  0 '***' 0.001 '**' 0.01 '*' 0.05 '.' 0.1 ' ' 1\n",
       "\n",
       "(Dispersion parameter for poisson family taken to be 1)\n",
       "\n",
       "    Null deviance: 176.1767  on 17  degrees of freedom\n",
       "Residual deviance:   8.2295  on 14  degrees of freedom\n",
       "AIC: 65.11\n",
       "\n",
       "Number of Fisher Scoring iterations: 5\n"
      ]
     },
     "metadata": {},
     "output_type": "display_data"
    }
   ],
   "source": [
    "summary(Quake.gfit)\n"
   ]
  },
  {
   "cell_type": "code",
   "execution_count": 7,
   "metadata": {
    "vscode": {
     "languageId": "r"
    }
   },
   "outputs": [
    {
     "data": {
      "text/html": [
       "0.877002515280767"
      ],
      "text/latex": [
       "0.877002515280767"
      ],
      "text/markdown": [
       "0.877002515280767"
      ],
      "text/plain": [
       "[1] 0.8770025"
      ]
     },
     "metadata": {},
     "output_type": "display_data"
    }
   ],
   "source": [
    "1 - pchisq(8.23, 14)\n"
   ]
  },
  {
   "cell_type": "code",
   "execution_count": 9,
   "metadata": {
    "vscode": {
     "languageId": "r"
    }
   },
   "outputs": [
    {
     "name": "stderr",
     "output_type": "stream",
     "text": [
      "Waiting for profiling to be done...\n",
      "\n"
     ]
    },
    {
     "data": {
      "text/html": [
       "<style>\n",
       ".dl-inline {width: auto; margin:0; padding: 0}\n",
       ".dl-inline>dt, .dl-inline>dd {float: none; width: auto; display: inline-block}\n",
       ".dl-inline>dt::after {content: \":\\0020\"; padding-right: .5ex}\n",
       ".dl-inline>dt:not(:first-of-type) {padding-left: .5ex}\n",
       "</style><dl class=dl-inline><dt>2.5 %</dt><dd>0.137474251413585</dd><dt>97.5 %</dt><dd>0.308243734868518</dd></dl>\n"
      ],
      "text/latex": [
       "\\begin{description*}\n",
       "\\item[2.5 \\textbackslash{}\\%] 0.137474251413585\n",
       "\\item[97.5 \\textbackslash{}\\%] 0.308243734868518\n",
       "\\end{description*}\n"
      ],
      "text/markdown": [
       "2.5 %\n",
       ":   0.13747425141358597.5 %\n",
       ":   0.308243734868518\n",
       "\n"
      ],
      "text/plain": [
       "    2.5 %    97.5 % \n",
       "0.1374743 0.3082437 "
      ]
     },
     "metadata": {},
     "output_type": "display_data"
    },
    {
     "data": {
      "text/html": [
       "<style>\n",
       ".dl-inline {width: auto; margin:0; padding: 0}\n",
       ".dl-inline>dt, .dl-inline>dd {float: none; width: auto; display: inline-block}\n",
       ".dl-inline>dt::after {content: \":\\0020\"; padding-right: .5ex}\n",
       ".dl-inline>dt:not(:first-of-type) {padding-left: .5ex}\n",
       "</style><dl class=dl-inline><dt>2.5 %</dt><dd>86.2525748586415</dd><dt>97.5 %</dt><dd>69.1756265131482</dd></dl>\n"
      ],
      "text/latex": [
       "\\begin{description*}\n",
       "\\item[2.5 \\textbackslash{}\\%] 86.2525748586415\n",
       "\\item[97.5 \\textbackslash{}\\%] 69.1756265131482\n",
       "\\end{description*}\n"
      ],
      "text/markdown": [
       "2.5 %\n",
       ":   86.252574858641597.5 %\n",
       ":   69.1756265131482\n",
       "\n"
      ],
      "text/plain": [
       "   2.5 %   97.5 % \n",
       "86.25257 69.17563 "
      ]
     },
     "metadata": {},
     "output_type": "display_data"
    }
   ],
   "source": [
    "Quake.cis <- confint(Quake.gfit)\n",
    "exp(Quake.cis[3, ])\n",
    "## To interpret as percentage decreases\n",
    "100 * (1 - exp(Quake.cis[3, ]))\n"
   ]
  },
  {
   "cell_type": "code",
   "execution_count": 9,
   "metadata": {
    "vscode": {
     "languageId": "r"
    }
   },
   "outputs": [
    {
     "name": "stderr",
     "output_type": "stream",
     "text": [
      "Waiting for profiling to be done...\n",
      "\n"
     ]
    },
    {
     "data": {
      "text/html": [
       "<style>\n",
       ".dl-inline {width: auto; margin:0; padding: 0}\n",
       ".dl-inline>dt, .dl-inline>dd {float: none; width: auto; display: inline-block}\n",
       ".dl-inline>dt::after {content: \":\\0020\"; padding-right: .5ex}\n",
       ".dl-inline>dt:not(:first-of-type) {padding-left: .5ex}\n",
       "</style><dl class=dl-inline><dt>2.5 %</dt><dd>0.00907766110939229</dd><dt>97.5 %</dt><dd>0.140175444866894</dd></dl>\n"
      ],
      "text/latex": [
       "\\begin{description*}\n",
       "\\item[2.5 \\textbackslash{}\\%] 0.00907766110939229\n",
       "\\item[97.5 \\textbackslash{}\\%] 0.140175444866894\n",
       "\\end{description*}\n"
      ],
      "text/markdown": [
       "2.5 %\n",
       ":   0.0090776611093922997.5 %\n",
       ":   0.140175444866894\n",
       "\n"
      ],
      "text/plain": [
       "      2.5 %      97.5 % \n",
       "0.009077661 0.140175445 "
      ]
     },
     "metadata": {},
     "output_type": "display_data"
    },
    {
     "data": {
      "text/html": [
       "<style>\n",
       ".dl-inline {width: auto; margin:0; padding: 0}\n",
       ".dl-inline>dt, .dl-inline>dd {float: none; width: auto; display: inline-block}\n",
       ".dl-inline>dt::after {content: \":\\0020\"; padding-right: .5ex}\n",
       ".dl-inline>dt:not(:first-of-type) {padding-left: .5ex}\n",
       "</style><dl class=dl-inline><dt>2.5 %</dt><dd>99.0922338890608</dd><dt>97.5 %</dt><dd>85.9824555133106</dd></dl>\n"
      ],
      "text/latex": [
       "\\begin{description*}\n",
       "\\item[2.5 \\textbackslash{}\\%] 99.0922338890608\n",
       "\\item[97.5 \\textbackslash{}\\%] 85.9824555133106\n",
       "\\end{description*}\n"
      ],
      "text/markdown": [
       "2.5 %\n",
       ":   99.092233889060897.5 %\n",
       ":   85.9824555133106\n",
       "\n"
      ],
      "text/plain": [
       "   2.5 %   97.5 % \n",
       "99.09223 85.98246 "
      ]
     },
     "metadata": {},
     "output_type": "display_data"
    }
   ],
   "source": [
    "Quakes.df$Locn2 <- factor(Quakes.df$Locn, levels = c(\"WA\", \"SC\"))\n",
    "\n",
    "Quake2.gfit <- glm(Freq ~ Locn2 * Magnitude, family = poisson, data = Quakes.df)\n",
    "(Quake.WA.ci <- exp(confint(Quake2.gfit)[3, ]))\n",
    "\n",
    "## To interpret as percentage decreases\n",
    "100 * (1 - Quake.WA.ci)\n"
   ]
  },
  {
   "attachments": {},
   "cell_type": "markdown",
   "metadata": {},
   "source": [
    "## Example 2: Snapper counts in and around marine reserves"
   ]
  },
  {
   "cell_type": "code",
   "execution_count": 11,
   "metadata": {
    "vscode": {
     "languageId": "r"
    }
   },
   "outputs": [
    {
     "data": {
      "text/html": [
       "<table class=\"dataframe\">\n",
       "<caption>A data.frame: 18 × 3</caption>\n",
       "<thead>\n",
       "\t<tr><th scope=col>Locn</th><th scope=col>Reserve</th><th scope=col>Freq</th></tr>\n",
       "\t<tr><th scope=col>&lt;chr&gt;</th><th scope=col>&lt;chr&gt;</th><th scope=col>&lt;int&gt;</th></tr>\n",
       "</thead>\n",
       "<tbody>\n",
       "\t<tr><td>Leigh</td><td>N</td><td> 2</td></tr>\n",
       "\t<tr><td>Leigh</td><td>N</td><td> 1</td></tr>\n",
       "\t<tr><td>Leigh</td><td>N</td><td> 0</td></tr>\n",
       "\t<tr><td>Leigh</td><td>Y</td><td> 5</td></tr>\n",
       "\t<tr><td>Leigh</td><td>Y</td><td>11</td></tr>\n",
       "\t<tr><td>Leigh</td><td>Y</td><td> 7</td></tr>\n",
       "\t<tr><td>Leigh</td><td>Y</td><td> 8</td></tr>\n",
       "\t<tr><td>Leigh</td><td>Y</td><td> 7</td></tr>\n",
       "\t<tr><td>Leigh</td><td>Y</td><td>14</td></tr>\n",
       "\t<tr><td>Hahei</td><td>N</td><td> 1</td></tr>\n",
       "\t<tr><td>Hahei</td><td>N</td><td> 0</td></tr>\n",
       "\t<tr><td>Hahei</td><td>N</td><td> 1</td></tr>\n",
       "\t<tr><td>Hahei</td><td>N</td><td> 0</td></tr>\n",
       "\t<tr><td>Hahei</td><td>Y</td><td> 3</td></tr>\n",
       "\t<tr><td>Hahei</td><td>Y</td><td> 2</td></tr>\n",
       "\t<tr><td>Hahei</td><td>Y</td><td> 1</td></tr>\n",
       "\t<tr><td>Hahei</td><td>Y</td><td> 5</td></tr>\n",
       "\t<tr><td>Hahei</td><td>Y</td><td> 3</td></tr>\n",
       "</tbody>\n",
       "</table>\n"
      ],
      "text/latex": [
       "A data.frame: 18 × 3\n",
       "\\begin{tabular}{lll}\n",
       " Locn & Reserve & Freq\\\\\n",
       " <chr> & <chr> & <int>\\\\\n",
       "\\hline\n",
       "\t Leigh & N &  2\\\\\n",
       "\t Leigh & N &  1\\\\\n",
       "\t Leigh & N &  0\\\\\n",
       "\t Leigh & Y &  5\\\\\n",
       "\t Leigh & Y & 11\\\\\n",
       "\t Leigh & Y &  7\\\\\n",
       "\t Leigh & Y &  8\\\\\n",
       "\t Leigh & Y &  7\\\\\n",
       "\t Leigh & Y & 14\\\\\n",
       "\t Hahei & N &  1\\\\\n",
       "\t Hahei & N &  0\\\\\n",
       "\t Hahei & N &  1\\\\\n",
       "\t Hahei & N &  0\\\\\n",
       "\t Hahei & Y &  3\\\\\n",
       "\t Hahei & Y &  2\\\\\n",
       "\t Hahei & Y &  1\\\\\n",
       "\t Hahei & Y &  5\\\\\n",
       "\t Hahei & Y &  3\\\\\n",
       "\\end{tabular}\n"
      ],
      "text/markdown": [
       "\n",
       "A data.frame: 18 × 3\n",
       "\n",
       "| Locn &lt;chr&gt; | Reserve &lt;chr&gt; | Freq &lt;int&gt; |\n",
       "|---|---|---|\n",
       "| Leigh | N |  2 |\n",
       "| Leigh | N |  1 |\n",
       "| Leigh | N |  0 |\n",
       "| Leigh | Y |  5 |\n",
       "| Leigh | Y | 11 |\n",
       "| Leigh | Y |  7 |\n",
       "| Leigh | Y |  8 |\n",
       "| Leigh | Y |  7 |\n",
       "| Leigh | Y | 14 |\n",
       "| Hahei | N |  1 |\n",
       "| Hahei | N |  0 |\n",
       "| Hahei | N |  1 |\n",
       "| Hahei | N |  0 |\n",
       "| Hahei | Y |  3 |\n",
       "| Hahei | Y |  2 |\n",
       "| Hahei | Y |  1 |\n",
       "| Hahei | Y |  5 |\n",
       "| Hahei | Y |  3 |\n",
       "\n"
      ],
      "text/plain": [
       "   Locn  Reserve Freq\n",
       "1  Leigh N        2  \n",
       "2  Leigh N        1  \n",
       "3  Leigh N        0  \n",
       "4  Leigh Y        5  \n",
       "5  Leigh Y       11  \n",
       "6  Leigh Y        7  \n",
       "7  Leigh Y        8  \n",
       "8  Leigh Y        7  \n",
       "9  Leigh Y       14  \n",
       "10 Hahei N        1  \n",
       "11 Hahei N        0  \n",
       "12 Hahei N        1  \n",
       "13 Hahei N        0  \n",
       "14 Hahei Y        3  \n",
       "15 Hahei Y        2  \n",
       "16 Hahei Y        1  \n",
       "17 Hahei Y        5  \n",
       "18 Hahei Y        3  "
      ]
     },
     "metadata": {},
     "output_type": "display_data"
    }
   ],
   "source": [
    "Snap.df <- read.table(\"../data/SnapperCROPvsHAHEI.txt\", header = TRUE)\n",
    "with(Snap.df, {\n",
    "    Locn <- as.factor(Locn)\n",
    "    Reserve <- as.factor(Reserve)\n",
    "})\n",
    "Snap.df\n"
   ]
  }
 ],
 "metadata": {
  "kernelspec": {
   "display_name": "R",
   "language": "R",
   "name": "ir"
  },
  "language_info": {
   "codemirror_mode": "r",
   "file_extension": ".r",
   "mimetype": "text/x-r-source",
   "name": "R",
   "pygments_lexer": "r",
   "version": "4.2.2"
  },
  "orig_nbformat": 4
 },
 "nbformat": 4,
 "nbformat_minor": 2
}
